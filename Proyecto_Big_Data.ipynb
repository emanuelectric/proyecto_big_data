{
  "cells": [
    {
      "cell_type": "markdown",
      "metadata": {
        "id": "oxJ8iEL5REGU"
      },
      "source": [
        "# **Universidad Paraguayo Alemana**\n",
        "## Facultad de Ciencias Empresariales\n",
        "### Ingeniería en Tecnologías de la Información Empresarial\n",
        "\n",
        "\n",
        "---\n",
        "\n",
        "\n",
        "\n",
        "# **Open Data & Big Data**\n",
        "\n",
        "## Proyecto de Big Data & Machine Learning\n",
        "\n",
        "### Sistema de Recomendación de Películas\n",
        "\n",
        "Tobías González Vera\n",
        "\n",
        "San Lorenzo, 2024\n",
        "\n",
        "\n",
        "\n",
        "---\n",
        "\n"
      ]
    },
    {
      "cell_type": "markdown",
      "metadata": {
        "id": "oTJJpJjCS_-V"
      },
      "source": [
        "# Resumen"
      ]
    },
    {
      "cell_type": "markdown",
      "metadata": {
        "id": "yAX6MwvA5bA2"
      },
      "source": [
        "Este trabajo de Big Data y Machine Learning se centra en el desarrollo de un sistema de recomendación de películas. Para llevar a cabo este proyecto, se utilizó una muestra de datos del Movies Dataset obtenida a través de Kaggle. El primer paso del proyecto implicó la limpieza y exploración de los datos para comprender su estructura y contenido, utilizando gráficos para visualizar y analizar las características clave.\n",
        "\n",
        "A continuación, se calcularon similitudes utilizando la métrica de similitud de coseno y se combinaron géneros y palabras clave para enriquecer los datos. Estos pasos fueron fundamentales para la construcción de dos sistemas de recomendación iniciales: uno basado en contenido y otro basado en colaboraciones. Posteriormente, ambos sistemas fueron fusionados para crear un sistema híbrido que aprovechara las fortalezas de cada uno.\n",
        "\n",
        "Finalmente, el sistema híbrido fue evaluado utilizando métricas de evaluación específicas para sistemas de recomendación, asegurando así su funcionalidad y efectividad. Las pruebas realizadas demostraron que el sistema es capaz de proporcionar recomendaciones precisas y útiles a los usuarios, cumpliendo con los objetivos planteados al inicio del proyecto."
      ]
    },
    {
      "cell_type": "markdown",
      "metadata": {
        "id": "0fPDrc5HS73f"
      },
      "source": [
        "# 1. Datos del proyecto"
      ]
    },
    {
      "cell_type": "markdown",
      "source": [
        "### Sobre los datos del proyecto"
      ],
      "metadata": {
        "id": "HvHXnzsh3_6m"
      }
    },
    {
      "cell_type": "markdown",
      "source": [
        "Los datos utilizados en este proyecto fueron obtenidos de Kaggle, específicamente del dataset titulado [\"The Movies Dataset](https://www.kaggle.com/datasets/rounakbanik/the-movies-dataset?select=ratings.csv)\". Este dataset contiene información sobre más de 45,000 películas y 26 millones de valoraciones realizadas por más de 270,000 usuarios. Las películas incluidas en el dataset fueron lanzadas hasta julio de 2017.\n",
        "\n",
        "Este dataset incluye metadatos de todas las películas listadas en el Full MovieLens Dataset. Los puntos de datos incluyen información sobre el elenco, equipo, palabras clave de la trama, presupuesto, ingresos, carteles, fechas de lanzamiento, idiomas, compañías de producción, países de producción, recuentos de votos y promedios de votos de TMDB. Además, incluye archivos que contienen 26 millones de valoraciones de 270,000 usuarios para todas las 45,000 películas del dataset. Las valoraciones están en una escala de 1 a 5 y han sido obtenidas del sitio web oficial de GroupLens.\n",
        "\n",
        "Este dataset fue ensamblado como parte de un proyecto de capstone para el programa de Data Science de Springboard. El objetivo es realizar un análisis exploratorio de datos (EDA) extenso sobre los datos de películas para narrar la historia del cine y utilizar estos metadatos en combinación con las valoraciones de MovieLens para construir varios tipos de sistemas de recomendación."
      ],
      "metadata": {
        "id": "qd-v5wRB4DGQ"
      }
    },
    {
      "cell_type": "markdown",
      "source": [
        "### Contenido"
      ],
      "metadata": {
        "id": "J4I4VOQT4DsI"
      }
    },
    {
      "cell_type": "markdown",
      "source": [
        "El dataset consiste en los siguientes archivos:\n",
        "\n",
        "- movies_metadata.csv: Archivo principal de metadatos de películas, contiene información sobre 45,000 películas. Incluye características como carteles, presupuestos, ingresos, fechas de lanzamiento, idiomas, países de producción y compañías.\n",
        "- ratings.csv: Archivo con las 26 millones de valoraciones.\n",
        "- keywords.csv: Contiene las palabras clave de la trama para las películas de MovieLens, en forma de objeto JSON.\n",
        "- credits.csv: Información del elenco y el equipo de todas las películas, en forma de objeto JSON.\n",
        "links.csv: Contiene los IDs de TMDB e IMDB de todas las películas del Full MovieLens Dataset.\n",
        "- links_small.csv: Subconjunto de 9,000 películas del dataset completo, con sus respectivos IDs de TMDB e IMDB.\n",
        "- ratings_small.csv: Subconjunto de 100,000 valoraciones de 700 usuarios sobre 9,000 películas.\n",
        "\n",
        "\n",
        "El dataset completo de MovieLens, que consiste en 26 millones de valoraciones y 750,000 aplicaciones de etiquetas de 270,000 usuarios sobre las 45,000 películas, está disponible en el sitio web de GroupLens."
      ],
      "metadata": {
        "id": "-idZf5XX4dwr"
      }
    },
    {
      "cell_type": "markdown",
      "source": [
        "### Licencia"
      ],
      "metadata": {
        "id": "tUDHSm6c4K6L"
      }
    },
    {
      "cell_type": "markdown",
      "source": [
        "El dataset está disponible bajo la licencia CC0 1.0 Universal (CC0 1.0). Esta licencia permite copiar, modificar, distribuir y ejecutar el trabajo, incluso con fines comerciales, sin pedir permiso. Sin embargo, no afecta los derechos de patente o marca de ninguna persona, ni los derechos de privacidad o publicidad que otras personas puedan tener en el trabajo."
      ],
      "metadata": {
        "id": "bF_y3gw745G0"
      }
    },
    {
      "cell_type": "markdown",
      "source": [
        "### Subconjunto de datos para el proyecto"
      ],
      "metadata": {
        "id": "EzWCtx0r4Mb0"
      }
    },
    {
      "cell_type": "markdown",
      "source": [
        "Para este proyecto, se ha tomado una muestra de 1,000 usuarios y 10,000 valoraciones, junto con el archivo completo de palabras clave (keywords.csv). Esto nos permite trabajar con un subconjunto manejable del dataset completo, facilitando el desarrollo y evaluación de los modelos de recomendación."
      ],
      "metadata": {
        "id": "Rux9sLEh5CYX"
      }
    },
    {
      "cell_type": "markdown",
      "source": [
        "## Edición y preparación de los Datos"
      ],
      "metadata": {
        "id": "ZQA5ZGv25YeT"
      }
    },
    {
      "cell_type": "markdown",
      "metadata": {
        "id": "jmqeTUHaneIk"
      },
      "source": [
        "### Importar las librerías necesarias"
      ]
    },
    {
      "cell_type": "code",
      "execution_count": 5,
      "metadata": {
        "id": "b_-bQz9NCG9G"
      },
      "outputs": [],
      "source": [
        "# Importar librerías necesarias\n",
        "import os  # Para manejar operaciones del sistema operativo, como la carga de archivos\n",
        "import pandas as pd  # Para manipulación y análisis de datos\n",
        "import numpy as np  # Para operaciones numéricas avanzadas\n",
        "import matplotlib.pyplot as plt  # Para visualización de datos\n",
        "import seaborn as sns  # Para visualización de datos, basado en matplotlib\n",
        "\n",
        "# Librerías adicionales para procesamiento de datos\n",
        "from google.colab import files  # Para cargar archivos desde la computadora local"
      ]
    },
    {
      "cell_type": "markdown",
      "metadata": {
        "id": "tCmG-jDw6x8X"
      },
      "source": [
        "### Importar los datos"
      ]
    },
    {
      "cell_type": "code",
      "execution_count": 6,
      "metadata": {
        "colab": {
          "base_uri": "https://localhost:8080/",
          "height": 1000
        },
        "id": "OpbHjzRI62bj",
        "outputId": "32470072-5590-49aa-8a54-7e90611e44d4"
      },
      "outputs": [
        {
          "output_type": "display_data",
          "data": {
            "text/plain": [
              "<IPython.core.display.HTML object>"
            ],
            "text/html": [
              "\n",
              "     <input type=\"file\" id=\"files-c9943753-cc88-4164-b182-09914b61f9d8\" name=\"files[]\" multiple disabled\n",
              "        style=\"border:none\" />\n",
              "     <output id=\"result-c9943753-cc88-4164-b182-09914b61f9d8\">\n",
              "      Upload widget is only available when the cell has been executed in the\n",
              "      current browser session. Please rerun this cell to enable.\n",
              "      </output>\n",
              "      <script>// Copyright 2017 Google LLC\n",
              "//\n",
              "// Licensed under the Apache License, Version 2.0 (the \"License\");\n",
              "// you may not use this file except in compliance with the License.\n",
              "// You may obtain a copy of the License at\n",
              "//\n",
              "//      http://www.apache.org/licenses/LICENSE-2.0\n",
              "//\n",
              "// Unless required by applicable law or agreed to in writing, software\n",
              "// distributed under the License is distributed on an \"AS IS\" BASIS,\n",
              "// WITHOUT WARRANTIES OR CONDITIONS OF ANY KIND, either express or implied.\n",
              "// See the License for the specific language governing permissions and\n",
              "// limitations under the License.\n",
              "\n",
              "/**\n",
              " * @fileoverview Helpers for google.colab Python module.\n",
              " */\n",
              "(function(scope) {\n",
              "function span(text, styleAttributes = {}) {\n",
              "  const element = document.createElement('span');\n",
              "  element.textContent = text;\n",
              "  for (const key of Object.keys(styleAttributes)) {\n",
              "    element.style[key] = styleAttributes[key];\n",
              "  }\n",
              "  return element;\n",
              "}\n",
              "\n",
              "// Max number of bytes which will be uploaded at a time.\n",
              "const MAX_PAYLOAD_SIZE = 100 * 1024;\n",
              "\n",
              "function _uploadFiles(inputId, outputId) {\n",
              "  const steps = uploadFilesStep(inputId, outputId);\n",
              "  const outputElement = document.getElementById(outputId);\n",
              "  // Cache steps on the outputElement to make it available for the next call\n",
              "  // to uploadFilesContinue from Python.\n",
              "  outputElement.steps = steps;\n",
              "\n",
              "  return _uploadFilesContinue(outputId);\n",
              "}\n",
              "\n",
              "// This is roughly an async generator (not supported in the browser yet),\n",
              "// where there are multiple asynchronous steps and the Python side is going\n",
              "// to poll for completion of each step.\n",
              "// This uses a Promise to block the python side on completion of each step,\n",
              "// then passes the result of the previous step as the input to the next step.\n",
              "function _uploadFilesContinue(outputId) {\n",
              "  const outputElement = document.getElementById(outputId);\n",
              "  const steps = outputElement.steps;\n",
              "\n",
              "  const next = steps.next(outputElement.lastPromiseValue);\n",
              "  return Promise.resolve(next.value.promise).then((value) => {\n",
              "    // Cache the last promise value to make it available to the next\n",
              "    // step of the generator.\n",
              "    outputElement.lastPromiseValue = value;\n",
              "    return next.value.response;\n",
              "  });\n",
              "}\n",
              "\n",
              "/**\n",
              " * Generator function which is called between each async step of the upload\n",
              " * process.\n",
              " * @param {string} inputId Element ID of the input file picker element.\n",
              " * @param {string} outputId Element ID of the output display.\n",
              " * @return {!Iterable<!Object>} Iterable of next steps.\n",
              " */\n",
              "function* uploadFilesStep(inputId, outputId) {\n",
              "  const inputElement = document.getElementById(inputId);\n",
              "  inputElement.disabled = false;\n",
              "\n",
              "  const outputElement = document.getElementById(outputId);\n",
              "  outputElement.innerHTML = '';\n",
              "\n",
              "  const pickedPromise = new Promise((resolve) => {\n",
              "    inputElement.addEventListener('change', (e) => {\n",
              "      resolve(e.target.files);\n",
              "    });\n",
              "  });\n",
              "\n",
              "  const cancel = document.createElement('button');\n",
              "  inputElement.parentElement.appendChild(cancel);\n",
              "  cancel.textContent = 'Cancel upload';\n",
              "  const cancelPromise = new Promise((resolve) => {\n",
              "    cancel.onclick = () => {\n",
              "      resolve(null);\n",
              "    };\n",
              "  });\n",
              "\n",
              "  // Wait for the user to pick the files.\n",
              "  const files = yield {\n",
              "    promise: Promise.race([pickedPromise, cancelPromise]),\n",
              "    response: {\n",
              "      action: 'starting',\n",
              "    }\n",
              "  };\n",
              "\n",
              "  cancel.remove();\n",
              "\n",
              "  // Disable the input element since further picks are not allowed.\n",
              "  inputElement.disabled = true;\n",
              "\n",
              "  if (!files) {\n",
              "    return {\n",
              "      response: {\n",
              "        action: 'complete',\n",
              "      }\n",
              "    };\n",
              "  }\n",
              "\n",
              "  for (const file of files) {\n",
              "    const li = document.createElement('li');\n",
              "    li.append(span(file.name, {fontWeight: 'bold'}));\n",
              "    li.append(span(\n",
              "        `(${file.type || 'n/a'}) - ${file.size} bytes, ` +\n",
              "        `last modified: ${\n",
              "            file.lastModifiedDate ? file.lastModifiedDate.toLocaleDateString() :\n",
              "                                    'n/a'} - `));\n",
              "    const percent = span('0% done');\n",
              "    li.appendChild(percent);\n",
              "\n",
              "    outputElement.appendChild(li);\n",
              "\n",
              "    const fileDataPromise = new Promise((resolve) => {\n",
              "      const reader = new FileReader();\n",
              "      reader.onload = (e) => {\n",
              "        resolve(e.target.result);\n",
              "      };\n",
              "      reader.readAsArrayBuffer(file);\n",
              "    });\n",
              "    // Wait for the data to be ready.\n",
              "    let fileData = yield {\n",
              "      promise: fileDataPromise,\n",
              "      response: {\n",
              "        action: 'continue',\n",
              "      }\n",
              "    };\n",
              "\n",
              "    // Use a chunked sending to avoid message size limits. See b/62115660.\n",
              "    let position = 0;\n",
              "    do {\n",
              "      const length = Math.min(fileData.byteLength - position, MAX_PAYLOAD_SIZE);\n",
              "      const chunk = new Uint8Array(fileData, position, length);\n",
              "      position += length;\n",
              "\n",
              "      const base64 = btoa(String.fromCharCode.apply(null, chunk));\n",
              "      yield {\n",
              "        response: {\n",
              "          action: 'append',\n",
              "          file: file.name,\n",
              "          data: base64,\n",
              "        },\n",
              "      };\n",
              "\n",
              "      let percentDone = fileData.byteLength === 0 ?\n",
              "          100 :\n",
              "          Math.round((position / fileData.byteLength) * 100);\n",
              "      percent.textContent = `${percentDone}% done`;\n",
              "\n",
              "    } while (position < fileData.byteLength);\n",
              "  }\n",
              "\n",
              "  // All done.\n",
              "  yield {\n",
              "    response: {\n",
              "      action: 'complete',\n",
              "    }\n",
              "  };\n",
              "}\n",
              "\n",
              "scope.google = scope.google || {};\n",
              "scope.google.colab = scope.google.colab || {};\n",
              "scope.google.colab._files = {\n",
              "  _uploadFiles,\n",
              "  _uploadFilesContinue,\n",
              "};\n",
              "})(self);\n",
              "</script> "
            ]
          },
          "metadata": {}
        },
        {
          "output_type": "stream",
          "name": "stdout",
          "text": [
            "Saving sampled_movies.csv to sampled_movies.csv\n",
            "Saving sampled_ratings.csv to sampled_ratings.csv\n",
            "Saving keywords.csv to keywords.csv\n",
            "Cantidad de filas y columnas en sampled_movies: (1000, 24)\n",
            "Cantidad de filas y columnas en sampled_ratings: (10000, 4)\n",
            "Cantidad de filas y columnas en keywords: (46419, 2)\n",
            "Columnas en sampled_movies:\n",
            "['adult', 'belongs_to_collection', 'budget', 'genres', 'homepage', 'id', 'imdb_id', 'original_language', 'original_title', 'overview', 'popularity', 'poster_path', 'production_companies', 'production_countries', 'release_date', 'revenue', 'runtime', 'spoken_languages', 'status', 'tagline', 'title', 'video', 'vote_average', 'vote_count']\n",
            "Columnas en sampled_ratings:\n",
            "['userId', 'movieId', 'rating', 'timestamp']\n",
            "Columnas en keywords:\n",
            "['id', 'keywords']\n",
            "Primeras filas de sampled_movies:\n",
            "   adult belongs_to_collection   budget  \\\n",
            "0  False                   NaN        0   \n",
            "1  False                   NaN        0   \n",
            "2  False                   NaN  1000000   \n",
            "3  False                   NaN        0   \n",
            "4  False                   NaN        0   \n",
            "\n",
            "                                              genres  \\\n",
            "0  [{'id': 18, 'name': 'Drama'}, {'id': 35, 'name...   \n",
            "1  [{'id': 18, 'name': 'Drama'}, {'id': 35, 'name...   \n",
            "2  [{'id': 80, 'name': 'Crime'}, {'id': 18, 'name...   \n",
            "3  [{'id': 27, 'name': 'Horror'}, {'id': 10749, '...   \n",
            "4  [{'id': 35, 'name': 'Comedy'}, {'id': 18, 'nam...   \n",
            "\n",
            "                                 homepage      id    imdb_id  \\\n",
            "0  https://www.netflix.com/title/80164212  411405  tt5717492   \n",
            "1                                     NaN   42492  tt0069449   \n",
            "2                                     NaN   12143  tt0103759   \n",
            "3                                     NaN    9976  tt0380687   \n",
            "4                                     NaN   46761  tt0157044   \n",
            "\n",
            "  original_language         original_title  \\\n",
            "0                en           Small Crimes   \n",
            "1                en         Up the Sandbox   \n",
            "2                en         Bad Lieutenant   \n",
            "3                en  Satan's Little Helper   \n",
            "4                fr                 Sitcom   \n",
            "\n",
            "                                            overview  ...  release_date  \\\n",
            "0  A disgraced former cop, fresh off a six-year p...  ...    2017-04-28   \n",
            "1  A young wife and mother, bored with day-to-day...  ...    1972-12-21   \n",
            "2  While investigating a young nun's rape, a corr...  ...    1992-09-16   \n",
            "3  A naïve young boy unknowingly becomes the pawn...  ...    2004-01-01   \n",
            "4  The adventures of an upper-class suburban fami...  ...    1998-05-27   \n",
            "\n",
            "     revenue runtime                                   spoken_languages  \\\n",
            "0        0.0    95.0  [{'iso_639_1': 'en', 'name': 'English'}, {'iso...   \n",
            "1        0.0    97.0           [{'iso_639_1': 'en', 'name': 'English'}]   \n",
            "2  2019469.0    96.0  [{'iso_639_1': 'en', 'name': 'English'}, {'iso...   \n",
            "3        0.0   100.0  [{'iso_639_1': 'it', 'name': 'Italiano'}, {'is...   \n",
            "4        0.0    80.0          [{'iso_639_1': 'fr', 'name': 'Français'}]   \n",
            "\n",
            "     status                               tagline                  title  \\\n",
            "0  Released                                   NaN           Small Crimes   \n",
            "1  Released                                   NaN         Up the Sandbox   \n",
            "2  Released  Gambler. Thief. Junkie. Killer. Cop.         Bad Lieutenant   \n",
            "3  Released             You'll laugh 'til you die  Satan's Little Helper   \n",
            "4  Released                                   NaN                 Sitcom   \n",
            "\n",
            "   video vote_average vote_count  \n",
            "0  False          5.8       55.0  \n",
            "1  False          7.3        2.0  \n",
            "2  False          6.9      162.0  \n",
            "3  False          5.0       42.0  \n",
            "4  False          6.4       27.0  \n",
            "\n",
            "[5 rows x 24 columns]\n",
            "Primeras filas de sampled_ratings:\n",
            "   userId  movieId  rating   timestamp\n",
            "0  193578      648     4.0   851538118\n",
            "1  228590     2268     3.0  1009245910\n",
            "2  210558      648     4.0  1225177426\n",
            "3   12837    47261     3.5  1324845097\n",
            "4   87243      648     3.0  1480122484\n",
            "Primeras filas de keywords:\n",
            "      id                                           keywords\n",
            "0    862  [{'id': 931, 'name': 'jealousy'}, {'id': 4290,...\n",
            "1   8844  [{'id': 10090, 'name': 'board game'}, {'id': 1...\n",
            "2  15602  [{'id': 1495, 'name': 'fishing'}, {'id': 12392...\n",
            "3  31357  [{'id': 818, 'name': 'based on novel'}, {'id':...\n",
            "4  11862  [{'id': 1009, 'name': 'baby'}, {'id': 1599, 'n...\n"
          ]
        }
      ],
      "source": [
        "# Importar el archivo\n",
        "uploaded = files.upload()\n",
        "\n",
        "# Leer los archivos CSV en DataFrames\n",
        "sampled_movies = pd.read_csv(\"sampled_movies.csv\")\n",
        "sampled_ratings = pd.read_csv(\"sampled_ratings.csv\")\n",
        "keywords = pd.read_csv(\"keywords.csv\")\n",
        "\n",
        "# Mostrar la cantidad de filas y columnas de cada DataFrame\n",
        "print(f\"Cantidad de filas y columnas en sampled_movies: {sampled_movies.shape}\")\n",
        "print(f\"Cantidad de filas y columnas en sampled_ratings: {sampled_ratings.shape}\")\n",
        "print(f\"Cantidad de filas y columnas en keywords: {keywords.shape}\")\n",
        "\n",
        "# Mostrar las columnas de cada DataFrame\n",
        "print(\"Columnas en sampled_movies:\")\n",
        "print(sampled_movies.columns.tolist())\n",
        "\n",
        "print(\"Columnas en sampled_ratings:\")\n",
        "print(sampled_ratings.columns.tolist())\n",
        "\n",
        "print(\"Columnas en keywords:\")\n",
        "print(keywords.columns.tolist())\n",
        "\n",
        "# Mostrar las primeras filas de cada DataFrame para verificar\n",
        "print(\"Primeras filas de sampled_movies:\")\n",
        "print(sampled_movies.head())\n",
        "\n",
        "print(\"Primeras filas de sampled_ratings:\")\n",
        "print(sampled_ratings.head())\n",
        "\n",
        "print(\"Primeras filas de keywords:\")\n",
        "print(keywords.head())"
      ]
    },
    {
      "cell_type": "markdown",
      "metadata": {
        "id": "M1CBKsbq68zO"
      },
      "source": [
        "### Limpieza de datos"
      ]
    },
    {
      "cell_type": "markdown",
      "source": [
        "A continuación, vamos con la limpieza de datos, tomando en cuenta estas etapas.\n",
        "- Eliminación de filas completamente vacías: Utiliza el método dropna para eliminar las filas que no tienen ningún valor. Esto se hace con el parámetro how='all', que especifica que se eliminen las filas solo si todas sus columnas están vacías. Luego, muestra la cantidad de filas eliminadas debido a este motivo.\n",
        "\n",
        "- Eliminación de filas duplicadas: Emplea el método drop_duplicates para eliminar las filas que son idénticas en todas sus columnas. Después de eliminar las duplicadas, muestra la cantidad de filas eliminadas por este motivo.\n",
        "\n",
        "- Verificación de datos faltantes: Utiliza el método isnull().sum() para contar la cantidad de valores faltantes en cada columna del DataFrame después de la limpieza.\n",
        "\n",
        "Después de cada una de estas etapas, la función muestra mensajes informativos para indicar qué se está haciendo. Al final, la función devuelve el DataFrame limpio."
      ],
      "metadata": {
        "id": "Q-dPMsvxauIv"
      }
    },
    {
      "cell_type": "code",
      "execution_count": 7,
      "metadata": {
        "colab": {
          "base_uri": "https://localhost:8080/"
        },
        "id": "RN4coR7QoWCp",
        "outputId": "e54c414d-cdbc-4829-8bc3-ff1adb9feb57"
      },
      "outputs": [
        {
          "output_type": "stream",
          "name": "stdout",
          "text": [
            "\n",
            "Limpiando sampled_movies:\n",
            "Filas eliminadas por estar completamente vacías: 0\n",
            "Filas eliminadas por duplicadas: 0\n",
            "Datos faltantes después de la limpieza:\n",
            "adult                      0\n",
            "belongs_to_collection    902\n",
            "budget                     0\n",
            "genres                     0\n",
            "homepage                 837\n",
            "id                         0\n",
            "imdb_id                    1\n",
            "original_language          0\n",
            "original_title             0\n",
            "overview                  18\n",
            "popularity                 0\n",
            "poster_path                3\n",
            "production_companies       0\n",
            "production_countries       0\n",
            "release_date               0\n",
            "revenue                    0\n",
            "runtime                    5\n",
            "spoken_languages           0\n",
            "status                     0\n",
            "tagline                  558\n",
            "title                      0\n",
            "video                      0\n",
            "vote_average               0\n",
            "vote_count                 0\n",
            "dtype: int64\n",
            "\n",
            "Limpiando sampled_ratings:\n",
            "Filas eliminadas por estar completamente vacías: 0\n",
            "Filas eliminadas por duplicadas: 0\n",
            "Datos faltantes después de la limpieza:\n",
            "userId       0\n",
            "movieId      0\n",
            "rating       0\n",
            "timestamp    0\n",
            "dtype: int64\n",
            "\n",
            "Limpiando keywords:\n",
            "Filas eliminadas por estar completamente vacías: 0\n",
            "Filas eliminadas por duplicadas: 987\n",
            "Datos faltantes después de la limpieza:\n",
            "id          0\n",
            "keywords    0\n",
            "dtype: int64\n",
            "\n",
            "Primeras filas de sampled_movies_clean:\n",
            "   adult belongs_to_collection   budget  \\\n",
            "0  False                   NaN        0   \n",
            "1  False                   NaN        0   \n",
            "2  False                   NaN  1000000   \n",
            "3  False                   NaN        0   \n",
            "4  False                   NaN        0   \n",
            "\n",
            "                                              genres  \\\n",
            "0  [{'id': 18, 'name': 'Drama'}, {'id': 35, 'name...   \n",
            "1  [{'id': 18, 'name': 'Drama'}, {'id': 35, 'name...   \n",
            "2  [{'id': 80, 'name': 'Crime'}, {'id': 18, 'name...   \n",
            "3  [{'id': 27, 'name': 'Horror'}, {'id': 10749, '...   \n",
            "4  [{'id': 35, 'name': 'Comedy'}, {'id': 18, 'nam...   \n",
            "\n",
            "                                 homepage      id    imdb_id  \\\n",
            "0  https://www.netflix.com/title/80164212  411405  tt5717492   \n",
            "1                                     NaN   42492  tt0069449   \n",
            "2                                     NaN   12143  tt0103759   \n",
            "3                                     NaN    9976  tt0380687   \n",
            "4                                     NaN   46761  tt0157044   \n",
            "\n",
            "  original_language         original_title  \\\n",
            "0                en           Small Crimes   \n",
            "1                en         Up the Sandbox   \n",
            "2                en         Bad Lieutenant   \n",
            "3                en  Satan's Little Helper   \n",
            "4                fr                 Sitcom   \n",
            "\n",
            "                                            overview  ...  release_date  \\\n",
            "0  A disgraced former cop, fresh off a six-year p...  ...    2017-04-28   \n",
            "1  A young wife and mother, bored with day-to-day...  ...    1972-12-21   \n",
            "2  While investigating a young nun's rape, a corr...  ...    1992-09-16   \n",
            "3  A naïve young boy unknowingly becomes the pawn...  ...    2004-01-01   \n",
            "4  The adventures of an upper-class suburban fami...  ...    1998-05-27   \n",
            "\n",
            "     revenue runtime                                   spoken_languages  \\\n",
            "0        0.0    95.0  [{'iso_639_1': 'en', 'name': 'English'}, {'iso...   \n",
            "1        0.0    97.0           [{'iso_639_1': 'en', 'name': 'English'}]   \n",
            "2  2019469.0    96.0  [{'iso_639_1': 'en', 'name': 'English'}, {'iso...   \n",
            "3        0.0   100.0  [{'iso_639_1': 'it', 'name': 'Italiano'}, {'is...   \n",
            "4        0.0    80.0          [{'iso_639_1': 'fr', 'name': 'Français'}]   \n",
            "\n",
            "     status                               tagline                  title  \\\n",
            "0  Released                                   NaN           Small Crimes   \n",
            "1  Released                                   NaN         Up the Sandbox   \n",
            "2  Released  Gambler. Thief. Junkie. Killer. Cop.         Bad Lieutenant   \n",
            "3  Released             You'll laugh 'til you die  Satan's Little Helper   \n",
            "4  Released                                   NaN                 Sitcom   \n",
            "\n",
            "   video vote_average vote_count  \n",
            "0  False          5.8       55.0  \n",
            "1  False          7.3        2.0  \n",
            "2  False          6.9      162.0  \n",
            "3  False          5.0       42.0  \n",
            "4  False          6.4       27.0  \n",
            "\n",
            "[5 rows x 24 columns]\n",
            "\n",
            "Primeras filas de sampled_ratings_clean:\n",
            "   userId  movieId  rating   timestamp\n",
            "0  193578      648     4.0   851538118\n",
            "1  228590     2268     3.0  1009245910\n",
            "2  210558      648     4.0  1225177426\n",
            "3   12837    47261     3.5  1324845097\n",
            "4   87243      648     3.0  1480122484\n",
            "\n",
            "Primeras filas de keywords_clean:\n",
            "      id                                           keywords\n",
            "0    862  [{'id': 931, 'name': 'jealousy'}, {'id': 4290,...\n",
            "1   8844  [{'id': 10090, 'name': 'board game'}, {'id': 1...\n",
            "2  15602  [{'id': 1495, 'name': 'fishing'}, {'id': 12392...\n",
            "3  31357  [{'id': 818, 'name': 'based on novel'}, {'id':...\n",
            "4  11862  [{'id': 1009, 'name': 'baby'}, {'id': 1599, 'n...\n"
          ]
        }
      ],
      "source": [
        "# Función para limpiar DataFrame\n",
        "def clean_dataframe(df, df_name):\n",
        "    print(f\"\\nLimpiando {df_name}:\")\n",
        "\n",
        "    # Eliminar filas completamente vacías\n",
        "    initial_shape = df.shape\n",
        "    df.dropna(how='all', inplace=True)\n",
        "    print(f\"Filas eliminadas por estar completamente vacías: {initial_shape[0] - df.shape[0]}\")\n",
        "\n",
        "    # Eliminar filas duplicadas\n",
        "    initial_shape = df.shape\n",
        "    df.drop_duplicates(inplace=True)\n",
        "    print(f\"Filas eliminadas por duplicadas: {initial_shape[0] - df.shape[0]}\")\n",
        "\n",
        "    # Verificar datos faltantes\n",
        "    print(\"Datos faltantes después de la limpieza:\")\n",
        "    print(df.isnull().sum())\n",
        "\n",
        "    return df\n",
        "\n",
        "# Limpiar los DataFrames\n",
        "sampled_movies_clean = clean_dataframe(sampled_movies, \"sampled_movies\")\n",
        "sampled_ratings_clean = clean_dataframe(sampled_ratings, \"sampled_ratings\")\n",
        "keywords_clean = clean_dataframe(keywords, \"keywords\")\n",
        "\n",
        "# Mostrar las primeras filas de cada DataFrame limpio para verificar\n",
        "print(\"\\nPrimeras filas de sampled_movies_clean:\")\n",
        "print(sampled_movies_clean.head())\n",
        "\n",
        "print(\"\\nPrimeras filas de sampled_ratings_clean:\")\n",
        "print(sampled_ratings_clean.head())\n",
        "\n",
        "print(\"\\nPrimeras filas de keywords_clean:\")\n",
        "print(keywords_clean.head())\n"
      ]
    },
    {
      "cell_type": "markdown",
      "metadata": {
        "id": "iMoR2n7yTDLE"
      },
      "source": [
        "# 2. Exploración de Datos (EDA)"
      ]
    },
    {
      "cell_type": "markdown",
      "metadata": {
        "id": "JkCS90v_78oD"
      },
      "source": [
        "Exploramos los datos para obtener una comprensión inicial y visualizar patrones y relaciones.\n"
      ]
    },
    {
      "cell_type": "markdown",
      "metadata": {
        "id": "8CQY9LXV7-z3"
      },
      "source": [
        "### Distribución de Calificaciones de Películas"
      ]
    },
    {
      "cell_type": "code",
      "source": [
        "# Calificaciones promedio por película\n",
        "avg_ratings_per_movie = sampled_ratings_clean.groupby('movieId')['rating'].mean()\n",
        "\n",
        "# Visualizar la distribución de calificaciones promedio por película\n",
        "plt.figure(figsize=(12, 8))\n",
        "sns.histplot(avg_ratings_per_movie, bins=30, kde=True)\n",
        "plt.title('Distribución de Calificaciones Promedio por Película')\n",
        "plt.xlabel('Calificación Promedio')\n",
        "plt.ylabel('Frecuencia')\n",
        "plt.show()"
      ],
      "metadata": {
        "colab": {
          "base_uri": "https://localhost:8080/",
          "height": 719
        },
        "id": "R7n-IeHdYQon",
        "outputId": "0bfab19c-b7c0-444a-9517-344f79ea0dcf"
      },
      "execution_count": 6,
      "outputs": [
        {
          "output_type": "display_data",
          "data": {
            "text/plain": [
              "<Figure size 1200x800 with 1 Axes>"
            ],
            "image/png": "[encoded data removed]"
          },
          "metadata": {}
        }
      ]
    },
    {
      "cell_type": "markdown",
      "source": [
        "En este gráfico se observa la distribución de calificaciones promedio asignadas a las películas. La moda, es decir, la calificación más frecuente, es 3.5. Le siguen en frecuencia las calificaciones de 3, 2, 5 y 1. Las calificaciones enteras como 1, 2, 3, 4 y 5 tienden a recibir más votos en comparación con valores intermedios como 2.5 o 3.5."
      ],
      "metadata": {
        "id": "o87jr-dYy6jk"
      }
    },
    {
      "cell_type": "markdown",
      "source": [
        "### Top 20 usuarios más activos"
      ],
      "metadata": {
        "id": "hj9qsWdXWamO"
      }
    },
    {
      "cell_type": "code",
      "source": [
        "import pandas as pd\n",
        "import matplotlib.pyplot as plt\n",
        "import seaborn as sns\n",
        "\n",
        "# Cantidad de reseñas por usuario\n",
        "reviews_per_user = sampled_ratings_clean['userId'].value_counts()\n",
        "\n",
        "# Los 20 usuarios más activos\n",
        "top_users = reviews_per_user.head(20).sort_values(ascending=False)\n",
        "\n",
        "# Visualizar los 20 usuarios más activos\n",
        "plt.figure(figsize=(14, 8))\n",
        "sns.barplot(x=top_users.index, y=top_users.values)\n",
        "plt.title('Top 20 Usuarios Más Activos')\n",
        "plt.xlabel('ID de Usuario')\n",
        "plt.ylabel('Cantidad de Reseñas')\n",
        "plt.xticks(rotation=90)\n",
        "plt.show()"
      ],
      "metadata": {
        "colab": {
          "base_uri": "https://localhost:8080/",
          "height": 758
        },
        "id": "q6rg8sH6YPC_",
        "outputId": "71e2d9c2-084d-43be-fdf3-139275709288"
      },
      "execution_count": 7,
      "outputs": [
        {
          "output_type": "display_data",
          "data": {
            "text/plain": [
              "<Figure size 1400x800 with 1 Axes>"
            ],
            "image/png": "[encoded data removed]"
          },
          "metadata": {}
        }
      ]
    },
    {
      "cell_type": "markdown",
      "source": [
        "Este gráfico muestra las calificaciones otorgadas por los 20 usuarios más activos de la muestra. Se puede ver que estos usuarios tienen un rango de 3 a 5 calificaciones, lo cual es un número relativamente bajo, pero aún significativo para el análisis.\n"
      ],
      "metadata": {
        "id": "O31rdvdxy7My"
      }
    },
    {
      "cell_type": "markdown",
      "source": [
        "### Relación entre el Presupuesto y la Calificación Promedio"
      ],
      "metadata": {
        "id": "wpaESCQ5YPNz"
      }
    },
    {
      "cell_type": "code",
      "source": [
        "# Relación entre presupuesto y calificación promedio\n",
        "sampled_movies_ratings = sampled_ratings.merge(sampled_movies[['id', 'budget']], left_on='movieId', right_on='id')\n",
        "avg_rating_per_budget = sampled_movies_ratings.groupby('budget')['rating'].mean()\n",
        "\n",
        "# Visualizar la relación entre presupuesto y calificación promedio\n",
        "plt.figure(figsize=(12, 8))\n",
        "plt.scatter(avg_rating_per_budget.index, avg_rating_per_budget, alpha=0.5, color='skyblue')\n",
        "plt.title('Relación entre Presupuesto y Calificación Promedio')\n",
        "plt.xlabel('Presupuesto')\n",
        "plt.ylabel('Calificación Promedio')\n",
        "plt.xscale('log')  # Escala logarítmica para mejor visualización\n",
        "plt.grid(True)\n",
        "plt.show()"
      ],
      "metadata": {
        "colab": {
          "base_uri": "https://localhost:8080/",
          "height": 723
        },
        "id": "K27JWm85QHYF",
        "outputId": "d828f6b4-e035-4180-d2ff-325f67fcc411"
      },
      "execution_count": 15,
      "outputs": [
        {
          "output_type": "display_data",
          "data": {
            "text/plain": [
              "<Figure size 1200x800 with 1 Axes>"
            ],
            "image/png": "[encoded data removed]"
          },
          "metadata": {}
        }
      ]
    },
    {
      "cell_type": "markdown",
      "source": [
        "En este gráfico se analiza la relación entre el presupuesto de las películas y su calificación promedio. Se destaca que una de las películas con mayor presupuesto también tiene una de las mejores calificaciones. La mayoría de las películas tienen presupuestos que oscilan entre 1 millón y 100 millones de dólares, con una concentración mayor entre 10 y 100 millones. Las películas con mejores calificaciones suelen encontrarse en este rango de presupuesto.\n"
      ],
      "metadata": {
        "id": "8hd552CXy7xW"
      }
    },
    {
      "cell_type": "markdown",
      "source": [
        "### Año de Lanzamiento y Presupuesto Promedio"
      ],
      "metadata": {
        "id": "uRtrL1-ZTtAt"
      }
    },
    {
      "cell_type": "code",
      "source": [
        "# Convertir release_date a datetime y extraer el año\n",
        "sampled_movies['release_date'] = pd.to_datetime(sampled_movies['release_date'], errors='coerce')\n",
        "sampled_movies['release_year'] = sampled_movies['release_date'].dt.year\n",
        "\n",
        "# Año de lanzamiento y presupuesto promedio\n",
        "budget_per_year = sampled_movies.groupby('release_year')['budget'].mean()\n",
        "\n",
        "# Visualizar el presupuesto promedio por año de lanzamiento\n",
        "plt.figure(figsize=(12, 8))\n",
        "budget_per_year.plot(kind='line', color='skyblue')\n",
        "plt.title('Año de Lanzamiento y Presupuesto Promedio')\n",
        "plt.xlabel('Año de Lanzamiento')\n",
        "plt.ylabel('Presupuesto Promedio')\n",
        "plt.grid(True)\n",
        "plt.show()"
      ],
      "metadata": {
        "colab": {
          "base_uri": "https://localhost:8080/",
          "height": 718
        },
        "id": "MFk_OZp6Ttxy",
        "outputId": "e5a9e5b1-b5a0-4565-9d9c-52f932e83988"
      },
      "execution_count": 20,
      "outputs": [
        {
          "output_type": "display_data",
          "data": {
            "text/plain": [
              "<Figure size 1200x800 with 1 Axes>"
            ],
            "image/png": "[encoded data removed]"
          },
          "metadata": {}
        }
      ]
    },
    {
      "cell_type": "markdown",
      "source": [
        "Este gráfico muestra la evolución del presupuesto promedio de las películas a lo largo de los años. A partir de los años 80, se observa un aumento significativo en los presupuestos, alcanzando picos históricos a finales de los años 90. En los primeros años de los 2000, aunque los presupuestos siguieron siendo altos, no superaron los niveles máximos de finales de los 90. La muestra considera datos hasta el año 2017."
      ],
      "metadata": {
        "id": "uYdHpVzsy8Wq"
      }
    },
    {
      "cell_type": "markdown",
      "source": [
        "### Distribución de películas por año de lanzamiento"
      ],
      "metadata": {
        "id": "-dxOBoApYQ7q"
      }
    },
    {
      "cell_type": "code",
      "source": [
        "# Convertir release_date a datetime\n",
        "sampled_movies['release_date'] = pd.to_datetime(sampled_movies['release_date'], errors='coerce')\n",
        "sampled_movies['release_year'] = sampled_movies['release_date'].dt.year\n",
        "\n",
        "# Visualizar la distribución de películas por año de lanzamiento\n",
        "plt.figure(figsize=(12, 8))\n",
        "sns.histplot(sampled_movies['release_year'].dropna(), bins=30, kde=True, color='skyblue')\n",
        "plt.title('Distribución de Películas por Año de Lanzamiento')\n",
        "plt.xlabel('Año de Lanzamiento')\n",
        "plt.ylabel('Número de Películas')\n",
        "plt.show()"
      ],
      "metadata": {
        "colab": {
          "base_uri": "https://localhost:8080/",
          "height": 719
        },
        "id": "rySLB0M1YSjN",
        "outputId": "72388bb4-9074-49a6-fe32-9913dd6f25c3"
      },
      "execution_count": 19,
      "outputs": [
        {
          "output_type": "display_data",
          "data": {
            "text/plain": [
              "<Figure size 1200x800 with 1 Axes>"
            ],
            "image/png": "[encoded data removed]"
          },
          "metadata": {}
        }
      ]
    },
    {
      "cell_type": "markdown",
      "source": [
        "El gráfico ilustra cómo el número de películas lanzadas ha aumentado a lo largo del tiempo. En particular, se observa un incremento notable en los años 2015, 2016 y 2017."
      ],
      "metadata": {
        "id": "Iqg2Fw-0y87b"
      }
    },
    {
      "cell_type": "markdown",
      "source": [
        "### Calificaciones promedio por año de lanzamiento"
      ],
      "metadata": {
        "id": "cMXPftOJYS2L"
      }
    },
    {
      "cell_type": "code",
      "source": [
        "# Calificaciones promedio por año de lanzamiento\n",
        "ratings_with_year = sampled_ratings_clean.merge(sampled_movies_clean[['id', 'release_year']], left_on='movieId', right_on='id')\n",
        "avg_ratings_per_year = ratings_with_year.groupby('release_year')['rating'].mean().sort_index()\n",
        "\n",
        "# Visualizar las calificaciones promedio por año de lanzamiento\n",
        "plt.figure(figsize=(14, 8))\n",
        "sns.lineplot(x=avg_ratings_per_year.index, y=avg_ratings_per_year.values)\n",
        "plt.title('Calificaciones Promedio por Año de Lanzamiento')\n",
        "plt.xlabel('Año de Lanzamiento')\n",
        "plt.ylabel('Calificación Promedio')\n",
        "plt.show()\n"
      ],
      "metadata": {
        "colab": {
          "base_uri": "https://localhost:8080/",
          "height": 718
        },
        "id": "-Wb04AvNYTue",
        "outputId": "613ed3e2-84d9-4c42-e00a-c41ddc5e6787"
      },
      "execution_count": null,
      "outputs": [
        {
          "output_type": "display_data",
          "data": {
            "text/plain": [
              "<Figure size 1400x800 with 1 Axes>"
            ],
            "image/png": "[encoded data removed]"
          },
          "metadata": {}
        }
      ]
    },
    {
      "cell_type": "markdown",
      "source": [
        "En este gráfico se analizan las calificaciones promedio de las películas según su año de lanzamiento. En los años 60, las películas tienden a tener mejores calificaciones. A partir de los años 80 y principios de los 90, se observan grandes fluctuaciones en las puntuaciones, con valores que varían entre 2 y 4. Desde los años 2000 hasta 2017, las calificaciones se estabilizan en un rango de 3 a 4."
      ],
      "metadata": {
        "id": "pFauBCyhy9hd"
      }
    },
    {
      "cell_type": "markdown",
      "metadata": {
        "id": "luD8vlZMTH4f"
      },
      "source": [
        "# 3. Cálculo de Similitud"
      ]
    },
    {
      "cell_type": "markdown",
      "metadata": {
        "id": "vkd_9yxB8S-j"
      },
      "source": [
        "## Similitud de Coseno entre usuarios"
      ]
    },
    {
      "cell_type": "markdown",
      "source": [
        "La similitud del coseno es una medida numérica utilizada para determinar la similitud entre dos vectores en un espacio multidimensional. En el contexto de los sistemas de recomendación, la similitud del coseno se utiliza comúnmente para calcular la similitud entre usuarios o elementos (en este caso, películas). Cuanto más cercano sea el valor de similitud del coseno a 1, mayor será la similitud entre los vectores, lo que indica una mayor afinidad o similitud entre los usuarios o elementos."
      ],
      "metadata": {
        "id": "ouE_CwI1bJb6"
      }
    },
    {
      "cell_type": "code",
      "execution_count": 8,
      "metadata": {
        "colab": {
          "base_uri": "https://localhost:8080/"
        },
        "id": "uwTNqRFq8VE4",
        "outputId": "a770c2b4-bc46-4f82-e1dc-1983f1b835b3"
      },
      "outputs": [
        {
          "output_type": "stream",
          "name": "stdout",
          "text": [
            "Matriz de Similitud entre Usuarios:\n",
            "userId  16      20      24      46      106     158     161     196     \\\n",
            "userId                                                                   \n",
            "16         1.0     0.0     0.0     0.0     0.0     0.0     0.0     0.0   \n",
            "20         0.0     1.0     0.0     0.0     0.0     0.0     0.0     0.0   \n",
            "24         0.0     0.0     1.0     0.0     0.0     0.0     0.0     0.0   \n",
            "46         0.0     0.0     0.0     1.0     0.0     0.0     0.0     0.0   \n",
            "106        0.0     0.0     0.0     0.0     1.0     0.0     0.0     0.0   \n",
            "...        ...     ...     ...     ...     ...     ...     ...     ...   \n",
            "270704     0.0     0.0     1.0     0.0     0.0     0.0     0.0     0.0   \n",
            "270729     0.0     0.0     1.0     0.0     0.0     0.0     0.0     0.0   \n",
            "270734     0.0     0.0     0.0     0.0     0.0     0.0     0.0     0.0   \n",
            "270769     0.0     0.0     0.0     0.0     0.0     0.0     0.0     0.0   \n",
            "270871     0.0     0.0     0.0     0.0     0.0     0.0     0.0     0.0   \n",
            "\n",
            "userId    212     229     ...  270564  270591  270684  270689  270690  270704  \\\n",
            "userId                    ...                                                   \n",
            "16      0.000000     0.0  ...     0.0     0.0     0.0     0.0     0.0     0.0   \n",
            "20      0.650791     0.0  ...     0.0     0.0     0.0     0.0     0.0     0.0   \n",
            "24      0.000000     0.0  ...     0.0     0.0     0.0     0.0     0.0     1.0   \n",
            "46      0.000000     0.0  ...     0.0     0.0     0.0     0.0     0.0     0.0   \n",
            "106     0.759257     0.0  ...     0.0     0.0     0.0     0.0     0.0     0.0   \n",
            "...          ...     ...  ...     ...     ...     ...     ...     ...     ...   \n",
            "270704  0.000000     0.0  ...     0.0     0.0     0.0     0.0     0.0     1.0   \n",
            "270729  0.000000     0.0  ...     0.0     0.0     0.0     0.0     0.0     1.0   \n",
            "270734  0.000000     0.0  ...     0.0     0.0     0.0     0.0     1.0     0.0   \n",
            "270769  0.000000     0.0  ...     0.0     0.0     0.0     0.0     0.0     0.0   \n",
            "270871  0.000000     0.0  ...     0.0     0.0     0.0     0.0     0.0     0.0   \n",
            "\n",
            "userId  270729  270734  270769  270871  \n",
            "userId                                  \n",
            "16         0.0     0.0     0.0     0.0  \n",
            "20         0.0     0.0     0.0     0.0  \n",
            "24         1.0     0.0     0.0     0.0  \n",
            "46         0.0     0.0     0.0     0.0  \n",
            "106        0.0     0.0     0.0     0.0  \n",
            "...        ...     ...     ...     ...  \n",
            "270704     1.0     0.0     0.0     0.0  \n",
            "270729     1.0     0.0     0.0     0.0  \n",
            "270734     0.0     1.0     0.0     0.0  \n",
            "270769     0.0     0.0     1.0     0.0  \n",
            "270871     0.0     0.0     0.0     1.0  \n",
            "\n",
            "[9316 rows x 9316 columns]\n"
          ]
        }
      ],
      "source": [
        "# Ejemplo simplificado de cálculo de similitud de coseno entre usuarios\n",
        "from sklearn.metrics.pairwise import cosine_similarity\n",
        "\n",
        "# Crear una matriz de usuario-película\n",
        "user_movie_matrix = sampled_ratings_clean.pivot_table(index='userId', columns='movieId', values='rating').fillna(0)\n",
        "\n",
        "# Calcular la similitud de coseno entre los usuarios\n",
        "user_similarity = cosine_similarity(user_movie_matrix)\n",
        "user_similarity_df = pd.DataFrame(user_similarity, index=user_movie_matrix.index, columns=user_movie_matrix.index)\n",
        "\n",
        "print(\"Matriz de Similitud entre Usuarios:\")\n",
        "print(user_similarity_df)"
      ]
    },
    {
      "cell_type": "markdown",
      "source": [
        "Este script realiza un ejemplo simplificado de cálculo de similitud del coseno entre usuarios en un sistema de recomendación. Primero, crea una matriz de usuario-película (user_movie_matrix) a partir de un DataFrame limpio de calificaciones (sampled_ratings_clean). Luego, calcula la similitud del coseno entre los usuarios utilizando la función cosine_similarity de la librería scikit-learn. El resultado es una matriz de similitud de usuarios (user_similarity_df), donde cada fila y columna representa un usuario y los valores en la matriz indican la similitud del coseno entre esos usuarios. Por último, imprime la matriz de similitud entre usuarios para visualizar las relaciones de similitud entre ellos."
      ],
      "metadata": {
        "id": "6ytgQHgHbMar"
      }
    },
    {
      "cell_type": "markdown",
      "metadata": {
        "id": "h7ccy3X_AgmV"
      },
      "source": [
        "## Combinar géneros y palabras clave"
      ]
    },
    {
      "cell_type": "markdown",
      "source": [
        "La combinación de géneros y palabras clave en el contexto de un sistema de recomendación de películas implica tomar la información disponible sobre cada película y unirla en un atributo único que represente las características más relevantes de esa película. Los géneros reflejan la categorización temática de una película, como acción, comedia, drama, etc. Mientras tanto, las palabras clave proporcionan términos específicos que describen elementos clave de la trama, el tema o el contenido de la película. Al combinar estos elementos, se crea una representación más completa y rica de la película, lo que facilita la comparación y la recomendación de películas similares basadas en estas características."
      ],
      "metadata": {
        "id": "1zrfB_kve511"
      }
    },
    {
      "cell_type": "code",
      "execution_count": 9,
      "metadata": {
        "id": "PfSCrAy_Amhu"
      },
      "outputs": [],
      "source": [
        "# Función para combinar géneros y palabras clave\n",
        "def combine_genres_keywords(movies_df, keywords_df):\n",
        "    keywords_dict = keywords_df.set_index('id').to_dict()['keywords']\n",
        "\n",
        "    def get_keywords(movie_id):\n",
        "        return keywords_dict.get(movie_id, '[]')\n",
        "\n",
        "    def get_combined_features(row):\n",
        "        genres = ' '.join([genre['name'] for genre in eval(row['genres'])])\n",
        "        keywords = ' '.join([keyword['name'] for keyword in eval(get_keywords(row['id']))])\n",
        "        return genres + ' ' + keywords\n",
        "\n",
        "    movies_df['combined_features'] = movies_df.apply(get_combined_features, axis=1)\n",
        "    return movies_df\n",
        "\n",
        "# Combinar géneros y palabras clave\n",
        "sampled_movies = combine_genres_keywords(sampled_movies, keywords)\n"
      ]
    },
    {
      "cell_type": "markdown",
      "source": [
        "La combinación de géneros y palabras clave en el contexto de un sistema de recomendación de películas implica tomar la información disponible sobre cada película y unirla en un atributo único que represente las características más relevantes de esa película. Los géneros reflejan la categorización temática de una película, como acción, comedia, drama, etc. Mientras tanto, las palabras clave proporcionan términos específicos que describen elementos clave de la trama, el tema o el contenido de la película. Al combinar estos elementos, se crea una representación más completa y rica de la película, lo que facilita la comparación y la recomendación de películas similares basadas en estas características."
      ],
      "metadata": {
        "id": "hBANuNkxe6ux"
      }
    },
    {
      "cell_type": "markdown",
      "metadata": {
        "id": "18ZrHvJzAy3A"
      },
      "source": [
        "## Calcular similitud de contenidos con TF-IDF"
      ]
    },
    {
      "cell_type": "markdown",
      "source": [
        "La similitud de contenido se refiere a la medida de cuánto dos elementos son similares en función de su contenido. En el contexto de un sistema de recomendación de películas, esto implica calcular qué tan similares son dos películas en términos de sus características textuales combinadas, como los géneros y las palabras clave. La similitud de contenido se calcula utilizando técnicas como el Vectorizador TF-IDF (Term Frequency-Inverse Document Frequency), que asigna pesos a las palabras en función de su importancia relativa en un conjunto de documentos. Posteriormente, se aplica la similitud del coseno para medir la distancia entre los vectores de características de las películas y determinar su similitud en términos de contenido."
      ],
      "metadata": {
        "id": "KcKW62QofHzM"
      }
    },
    {
      "cell_type": "code",
      "execution_count": 10,
      "metadata": {
        "colab": {
          "base_uri": "https://localhost:8080/"
        },
        "id": "tv83S7vjA1vQ",
        "outputId": "2a7d18ea-c852-4356-e1aa-919ab139272e"
      },
      "outputs": [
        {
          "output_type": "stream",
          "name": "stdout",
          "text": [
            "id        411405    42492     12143     9976      46761     268725    62297   \\\n",
            "id                                                                             \n",
            "411405  1.000000  0.123759  0.019310  0.013678  0.284048  0.015128  0.011643   \n",
            "42492   0.123759  1.000000  0.036291  0.110521  0.435697  0.000000  0.094079   \n",
            "12143   0.019310  0.036291  1.000000  0.000000  0.015812  0.000000  0.008342   \n",
            "9976    0.013678  0.110521  0.000000  1.000000  0.048154  0.031458  0.000000   \n",
            "46761   0.284048  0.435697  0.015812  0.048154  1.000000  0.053259  0.040990   \n",
            "...          ...       ...       ...       ...       ...       ...       ...   \n",
            "63146   0.000000  0.000000  0.000000  0.000000  0.000000  0.000000  0.000000   \n",
            "11035   0.020354  0.164462  0.005968  0.018177  0.071655  0.000000  0.015472   \n",
            "43336   0.010799  0.087260  0.007738  0.000000  0.038019  0.000000  0.020059   \n",
            "295279  0.079173  0.639732  0.056728  0.000000  0.278729  0.000000  0.147060   \n",
            "185248  0.067405  0.165005  0.014632  0.000000  0.237301  0.049285  0.037931   \n",
            "\n",
            "id        184885  156145    306745  ...    49172     92298     709     \\\n",
            "id                                  ...                                 \n",
            "411405  0.124593     0.0  0.009360  ...  0.082358  0.037287  0.009702   \n",
            "42492   0.234157     0.0  0.075628  ...  0.154781  0.091277  0.000000   \n",
            "12143   0.089273     0.0  0.056369  ...  0.059010  0.008094  0.081869   \n",
            "9976    0.138643     0.0  0.037074  ...  0.000000  0.000000  0.000000   \n",
            "46761   0.102021     0.0  0.032951  ...  0.067437  0.131269  0.034155   \n",
            "...          ...     ...       ...  ...       ...       ...       ...   \n",
            "63146   0.000000     0.0  0.000000  ...  0.000000  0.000000  0.000000   \n",
            "11035   0.038510     0.0  0.012438  ...  0.025455  0.015012  0.000000   \n",
            "43336   0.049926     0.0  0.016125  ...  0.033002  0.019462  0.000000   \n",
            "295279  0.366023     0.0  0.118218  ...  0.241946  0.142680  0.000000   \n",
            "185248  0.094408     0.0  0.030492  ...  0.062405  0.283791  0.031606   \n",
            "\n",
            "id        16996     10304   63146     11035     43336     295279    185248  \n",
            "id                                                                          \n",
            "411405  0.009675  0.000000     0.0  0.020354  0.010799  0.079173  0.067405  \n",
            "42492   0.078180  0.000000     0.0  0.164462  0.087260  0.639732  0.165005  \n",
            "12143   0.000000  0.000000     0.0  0.005968  0.007738  0.056728  0.014632  \n",
            "9976    0.014627  0.031070     0.0  0.018177  0.000000  0.000000  0.000000  \n",
            "46761   0.034063  0.000000     0.0  0.071655  0.038019  0.278729  0.237301  \n",
            "...          ...       ...     ...       ...       ...       ...       ...  \n",
            "63146   0.000000  0.000000     1.0  0.000000  0.000000  0.000000  0.000000  \n",
            "11035   0.080266  0.000000     0.0  1.000000  0.014351  0.105211  0.027137  \n",
            "43336   0.000000  0.000000     0.0  0.014351  1.000000  0.136401  0.035182  \n",
            "295279  0.000000  0.000000     0.0  0.105211  0.136401  1.000000  0.257929  \n",
            "185248  0.000000  0.154867     0.0  0.027137  0.035182  0.257929  1.000000  \n",
            "\n",
            "[1000 rows x 1000 columns]\n"
          ]
        }
      ],
      "source": [
        "from sklearn.feature_extraction.text import TfidfVectorizer\n",
        "\n",
        "# Función para calcular la similitud de contenido\n",
        "def calculate_content_similarity(movies_df):\n",
        "    tfidf_vectorizer = TfidfVectorizer(stop_words='english')\n",
        "    tfidf_matrix = tfidf_vectorizer.fit_transform(movies_df['combined_features'])\n",
        "    content_similarity = cosine_similarity(tfidf_matrix, tfidf_matrix)\n",
        "    return pd.DataFrame(content_similarity, index=movies_df['id'], columns=movies_df['id'])\n",
        "\n",
        "# Calcular la matriz de similitud de contenido\n",
        "content_similarity_matrix = calculate_content_similarity(sampled_movies)\n",
        "\n",
        "print(content_similarity_matrix)"
      ]
    },
    {
      "cell_type": "markdown",
      "source": [
        "En el script, se utiliza la función calculate_content_similarity para calcular la similitud de contenido entre las películas representadas por el DataFrame sampled_movies. Se aplica el Vectorizador TF-IDF a las características combinadas de las películas y se calcula la similitud del coseno entre los vectores de características resultantes. El resultado es una matriz de similitud de contenido (content_similarity_matrix) que muestra la similitud entre todas las películas en función de su contenido textual combinado."
      ],
      "metadata": {
        "id": "PSAxqnHvfJW0"
      }
    },
    {
      "cell_type": "markdown",
      "metadata": {
        "id": "cOfwdBBqTJrC"
      },
      "source": [
        "# 4. Recomendaciones"
      ]
    },
    {
      "cell_type": "markdown",
      "metadata": {
        "id": "n1GNA_8PBmNT"
      },
      "source": [
        "## Sistema 1: Recomendaciones basadas en calificaciones de usuarios"
      ]
    },
    {
      "cell_type": "code",
      "execution_count": 11,
      "metadata": {
        "colab": {
          "base_uri": "https://localhost:8080/"
        },
        "id": "kiV-00GiBoch",
        "outputId": "d22ee9b3-cdf6-4f66-d929-ecbe3b8a4897"
      },
      "outputs": [
        {
          "output_type": "stream",
          "name": "stdout",
          "text": [
            "ID: 243860\n",
            "Título: The Third Sex\n",
            "Año de Lanzamiento: 1957\n",
            "Género: [{'id': 18, 'name': 'Drama'}]\n",
            "Sinopsis: Klaus is a young man in post-war Berlin. He is drawn to his friend Manfred and, under the encouragement of their acquaintance, Dr. Winkler, explore the underground world of gay clubs and electronic music. His family begins to learn of his other life and do everything they can to set him straight.\n",
            "Similitud: 0.3434\n",
            "\n",
            "\n",
            "ID: 371942\n",
            "Título: Le nozze di Laura\n",
            "Año de Lanzamiento: 2015\n",
            "Género: [{'id': 18, 'name': 'Drama'}, {'id': 10770, 'name': 'TV Movie'}]\n",
            "Sinopsis: nan\n",
            "Similitud: 0.3253\n",
            "\n",
            "\n",
            "ID: 279984\n",
            "Título: The Defiant Ones\n",
            "Año de Lanzamiento: 1986\n",
            "Género: [{'id': 18, 'name': 'Drama'}]\n",
            "Sinopsis: Monroe and 'Joker' Johnson are two prisoners who despise each other. But after their prison transport crashes, they manage to escapechained to each other.\n",
            "Similitud: 0.3253\n",
            "\n",
            "\n",
            "ID: 393658\n",
            "Título: Tulips in Spring\n",
            "Año de Lanzamiento: 2016\n",
            "Género: [{'id': 18, 'name': 'Drama'}, {'id': 10770, 'name': 'TV Movie'}, {'id': 10749, 'name': 'Romance'}]\n",
            "Sinopsis: At Payden Farms, Rose meets Tom Novak — a handsome “flower broker” who acts as a liaison between the farm and local distributors — and discovers that the farm is faltering financially and that her parents are considering selling it to a ruthless competitor. As a last-ditch effort, Tom arranges for Frank to enter his most special tulip in an upcoming flower contest with the hopes of achieving national recognition and generating business. But when Frank’s flowers are mysteriously sabotaged, Rose struggles to find a way to get them to bloom in time for the competition. Along the way, she finds herself appreciating her humble beginnings, reconciling with Frank, and falling into a blossoming romance with Tom. With time running out, Rose must rediscover her green thumb to save her family’s farm, and decide whether she’ll find true happiness — and true love — by staying in Los Angeles or returning to her folksy hometown.\n",
            "Similitud: 0.2947\n",
            "\n",
            "\n",
            "ID: 446493\n",
            "Título: Moonlight in Vermont\n",
            "Año de Lanzamiento: 2017\n",
            "Género: [{'id': 10749, 'name': 'Romance'}, {'id': 10770, 'name': 'TV Movie'}]\n",
            "Sinopsis: After fast-paced New York City high-end real estate broker Fiona Rangely (Lacey Chabert) gets dumped by her boyfriend, she escapes to her family’s quaint Vermont Inn for a few days to slow down and evaluate her life. When her ex-boyfriend Nate shows up at the Inn with a brand new girlfriend, Fiona quickly devises a plan to win him back: pretend the handsome and very laid- back head chef Derek (Carlo Marks) is her new boyfriend! Much to the surprise of Derek --and to Fiona herself-- in pretending to be in love, she realizes that she’s been thrown a curveball: sometimes the best things in life are worth the wait.\n",
            "Similitud: 0.2798\n",
            "\n",
            "\n"
          ]
        }
      ],
      "source": [
        "# Función para recomendar películas para un usuario específico\n",
        "def recommend_movies_for_user(user_id, user_movie_matrix, content_similarity_matrix, movies_df, top_n=5):\n",
        "    user_ratings = user_movie_matrix.loc[user_id]\n",
        "    watched_movies = user_ratings[user_ratings > 0].index\n",
        "    movie_scores = content_similarity_matrix.loc[watched_movies].mean()\n",
        "    movie_scores = movie_scores.drop(watched_movies)\n",
        "    top_movie_scores = movie_scores.nlargest(top_n)\n",
        "\n",
        "    recommendations = []\n",
        "    for movie_id, score in top_movie_scores.items():\n",
        "        movie_details = movies_df[movies_df['id'] == movie_id].iloc[0]\n",
        "        recommendations.append({\n",
        "            'ID': movie_id,\n",
        "            'Title': movie_details['title'],\n",
        "            'Year': str(movie_details['release_date'])[:4],  # Convertir a string antes de hacer slicing\n",
        "            'Genres': movie_details['genres'],\n",
        "            'Synopsis': movie_details['overview'],\n",
        "            'Similarity': score\n",
        "        })\n",
        "\n",
        "    return recommendations\n",
        "\n",
        "# Seleccionar un usuario\n",
        "user_id = 16\n",
        "\n",
        "# Obtener las recomendaciones\n",
        "recommended_movies = recommend_movies_for_user(user_id, user_movie_matrix, content_similarity_matrix, sampled_movies)\n",
        "\n",
        "# Mostrar las recomendaciones\n",
        "for movie in recommended_movies:\n",
        "    print(f\"ID: {movie['ID']}\")\n",
        "    print(f\"Título: {movie['Title']}\")\n",
        "    print(f\"Año de Lanzamiento: {movie['Year']}\")\n",
        "    print(f\"Género: {movie['Genres']}\")\n",
        "    print(f\"Sinopsis: {movie['Synopsis']}\")\n",
        "    print(f\"Similitud: {movie['Similarity']:.4f}\")\n",
        "    print(\"\\n\")"
      ]
    },
    {
      "cell_type": "markdown",
      "source": [
        "Este sistema utiliza las calificaciones que los usuarios han dado a las películas para generar recomendaciones. Primero, crea una matriz de usuario-película donde cada celda representa la calificación dada por un usuario a una película. Luego, calcula la similitud de coseno entre las películas basándose en las calificaciones de los usuarios. Esto significa que compara cómo los usuarios califican diferentes películas y determina cuán similares son esas calificaciones entre las películas. Con esta información, recomienda películas al usuario basándose en las similitudes de calificación entre películas, sugiriendo aquellas que son más similares a las que el usuario ha calificado positivamente en el pasado."
      ],
      "metadata": {
        "id": "aCNQoC_GjBvn"
      }
    },
    {
      "cell_type": "markdown",
      "metadata": {
        "id": "sgcQJ7bZ9UbC"
      },
      "source": [
        "## Sistema 2: Recomendaciones basadas en similitud de películas"
      ]
    },
    {
      "cell_type": "code",
      "execution_count": 12,
      "metadata": {
        "colab": {
          "base_uri": "https://localhost:8080/"
        },
        "id": "zqNAL8sR9ZJR",
        "outputId": "cc6c64ff-6de8-40bd-f328-adfeef3dd7fd"
      },
      "outputs": [
        {
          "output_type": "stream",
          "name": "stdout",
          "text": [
            "ID: 26914\n",
            "Título: Troll 2\n",
            "Año de Lanzamiento: 1990\n",
            "Género: Horror\n",
            "Sinopsis: A young child is terrified to discover that a planned family trip is to be haunted by vile plant-eating monsters out of his worst nightmare...\n",
            "Similitud: 0.0401\n",
            "\n",
            "\n",
            "ID: 55955\n",
            "Título: My Son the Fanatic\n",
            "Año de Lanzamiento: 1997\n",
            "Género: Drama, Comedy, Foreign\n",
            "Sinopsis: Pakistani taxi-driver Parvez and prostitute Bettina find themselves trapped in the middle when Islamic fundamentalists decide to clean up their local town.\n",
            "Similitud: 0.0227\n",
            "\n",
            "\n",
            "ID: 43899\n",
            "Título: David Copperfield\n",
            "Año de Lanzamiento: 1935\n",
            "Género: Adventure, Drama, Romance\n",
            "Sinopsis: Charles Dickens' classic tale of an orphaned boy's fight for happiness and the colorful characters who help and hinder him.\n",
            "Similitud: 0.0193\n",
            "\n",
            "\n",
            "ID: 74436\n",
            "Título: The World in His Arms\n",
            "Año de Lanzamiento: 1952\n",
            "Género: Adventure, Action, Romance\n",
            "Sinopsis: Gregory Peck is a boisterous sea captain in the Pacific Coast, circa 1850, who has a plan to buy Alaska from the Russians… if they don’t kill him first.\n",
            "Similitud: 0.0183\n",
            "\n",
            "\n",
            "ID: 253\n",
            "Título: Live and Let Die\n",
            "Año de Lanzamiento: 1973\n",
            "Género: Adventure, Action, Thriller\n",
            "Sinopsis: James Bond must investigate a mysterious murder case of a British agent in New Orleans. Soon he finds himself up against a gangster boss named Mr. Big.\n",
            "Similitud: 0.0139\n",
            "\n",
            "\n"
          ]
        }
      ],
      "source": [
        "import pandas as pd\n",
        "import numpy as np\n",
        "from sklearn.metrics.pairwise import cosine_similarity\n",
        "\n",
        "# Matriz de usuario-película\n",
        "def get_user_movie_matrix(ratings_df):\n",
        "    return ratings_df.pivot(index='userId', columns='movieId', values='rating').fillna(0)\n",
        "\n",
        "# Función para calcular la similitud de coseno entre películas\n",
        "def calculate_movie_similarity(user_movie_matrix):\n",
        "    movie_user_matrix = user_movie_matrix.T\n",
        "    movie_similarity = cosine_similarity(movie_user_matrix)\n",
        "    return pd.DataFrame(movie_similarity, index=movie_user_matrix.index, columns=movie_user_matrix.index)\n",
        "\n",
        "# Función para obtener los géneros en formato legible\n",
        "def get_genres(genres_str):\n",
        "    try:\n",
        "        genres_list = eval(genres_str)\n",
        "        return ', '.join([genre['name'] for genre in genres_list])\n",
        "    except:\n",
        "        return 'Unknown'\n",
        "\n",
        "# Función para recomendar películas para un usuario específico\n",
        "def recommend_movies_for_user(user_id, user_movie_matrix, movie_similarity_matrix, movies_df, top_n=5):\n",
        "    user_ratings = user_movie_matrix.loc[user_id]\n",
        "    watched_movies = user_ratings[user_ratings > 0].index\n",
        "    movie_scores = movie_similarity_matrix.loc[watched_movies].mean()\n",
        "    movie_scores = movie_scores.drop(watched_movies)\n",
        "    top_movie_scores = movie_scores.nlargest(top_n)\n",
        "\n",
        "    recommendations = []\n",
        "    for movie_id, score in top_movie_scores.items():\n",
        "        movie_details = movies_df[movies_df['id'] == movie_id].iloc[0]\n",
        "        recommendations.append({\n",
        "            'ID': movie_id,\n",
        "            'Title': movie_details['title'],\n",
        "            'Year': str(movie_details['release_date'])[:4],  # Convertir a string antes de hacer slicing\n",
        "            'Genres': get_genres(movie_details['genres']),\n",
        "            'Synopsis': movie_details['overview'],\n",
        "            'Similarity': score\n",
        "        })\n",
        "\n",
        "    return recommendations\n",
        "\n",
        "# Crear la matriz de usuario-película\n",
        "user_movie_matrix = get_user_movie_matrix(sampled_ratings)\n",
        "\n",
        "# Calcular la matriz de similitud entre películas\n",
        "movie_similarity_matrix = calculate_movie_similarity(user_movie_matrix)\n",
        "\n",
        "# Selecciona un usuario\n",
        "user_id = 16\n",
        "\n",
        "# Obtener las recomendaciones\n",
        "recommended_movies = recommend_movies_for_user(user_id, user_movie_matrix, movie_similarity_matrix, sampled_movies)\n",
        "\n",
        "# Mostrar las recomendaciones\n",
        "for movie in recommended_movies:\n",
        "    print(f\"ID: {movie['ID']}\")\n",
        "    print(f\"Título: {movie['Title']}\")\n",
        "    print(f\"Año de Lanzamiento: {movie['Year']}\")\n",
        "    print(f\"Género: {movie['Genres']}\")\n",
        "    print(f\"Sinopsis: {movie['Synopsis']}\")\n",
        "    print(f\"Similitud: {movie['Similarity']:.4f}\")\n",
        "    print(\"\\n\")"
      ]
    },
    {
      "cell_type": "markdown",
      "source": [
        "En contraste con el primer sistema, este utiliza las características intrínsecas de las películas para generar recomendaciones. Comienza creando una matriz de similitud entre películas utilizando la técnica de similitud de coseno. Esta matriz compara las características de las películas, como sus géneros, sinopsis, año de lanzamiento, entre otros, para determinar cuán similares son las películas entre sí en términos de contenido. Luego, al recomendar películas a un usuario específico, este sistema considera las películas que el usuario ha visto y calificado, y busca películas similares en términos de contenido para recomendarlas. Esto significa que las recomendaciones se basan en la similitud de características y temas entre las películas, más allá de las calificaciones de los usuarios."
      ],
      "metadata": {
        "id": "_vMdM2IzkQkn"
      }
    },
    {
      "cell_type": "markdown",
      "metadata": {
        "id": "Z7YkVksmhsQI"
      },
      "source": [
        "## Sistema 3: Híbrido"
      ]
    },
    {
      "cell_type": "code",
      "execution_count": 13,
      "metadata": {
        "colab": {
          "base_uri": "https://localhost:8080/"
        },
        "id": "hYjr1Bzahuv_",
        "outputId": "54280822-c435-4791-a025-6f8e1aa09613"
      },
      "outputs": [
        {
          "output_type": "stream",
          "name": "stdout",
          "text": [
            "ID: 2312\n",
            "Título: In the Name of the King: A Dungeon Siege Tale\n",
            "Año de Lanzamiento: 2007\n",
            "Género: Adventure, Fantasy, Action, Drama\n",
            "Sinopsis: A man named Farmer sets out to rescue his kidnapped wife and avenge the death of his son -- two acts committed by the Krugs, a race of animal-warriors who are controlled by the evil Gallian.\n",
            "Similitud: 0.1070\n",
            "\n",
            "\n",
            "ID: 439\n",
            "Título: La Dolce Vita\n",
            "Año de Lanzamiento: 1960\n",
            "Género: Comedy, Drama\n",
            "Sinopsis: Episodic journey of an Italian journalist scouring Rome in search of love.\n",
            "Similitud: 0.0912\n",
            "\n",
            "\n",
            "ID: 383\n",
            "Título: Mala Noche\n",
            "Año de Lanzamiento: 1986\n",
            "Género: Drama\n",
            "Sinopsis: Mala Noche is the film debut from director Gus van Sant. The film portrays the unanswered love of an American man toward a young Mexican man.\n",
            "Similitud: 0.0844\n",
            "\n",
            "\n",
            "ID: 4808\n",
            "Título: Charade\n",
            "Año de Lanzamiento: 1963\n",
            "Género: Comedy, Mystery, Romance, Thriller\n",
            "Sinopsis: After Regina Lampert falls for the dashing Peter Joshua on a skiing holiday in the French Alps, she discovers upon her return to Paris that her husband has been murdered. Soon, she and Peter are giving chase to three of her late husband's World War II cronies, Tex, Scobie and Gideon, who are after a quarter of a million dollars the quartet stole while behind enemy lines. But why does Peter keep changing his name?\n",
            "Similitud: 0.0820\n",
            "\n",
            "\n",
            "ID: 47477\n",
            "Título: The Beast\n",
            "Año de Lanzamiento: 1996\n",
            "Género: Action, Drama, Horror, Thriller\n",
            "Sinopsis: Fishing and jobs are becoming scarce in the small seaport village of Graves Point, when mysterious deaths and unexplained disappearances begin to occur. Divers vanish and a young couple disappears at sea, their empty raft washing up on the shore. When a large, strange claw is discovered on the raft, the unsettled towns-people call on the marine biologist Dr. Herbert Talley (Ronald Guttman), who identifies it as belonging to a rare giant squid. With the help of Whip Dalton, the hunt is on! It becomes a battle of wills between Dalton and Talley as they try to locate the Beast, without the Beast getting them.\n",
            "Similitud: 0.0740\n",
            "\n",
            "\n",
            "ID: 5252\n",
            "Título: Ardor\n",
            "Año de Lanzamiento: 2002\n",
            "Género: Drama, Thriller\n",
            "Sinopsis: In revenge for her husband's infidelity, a young beautiful housewife, Mi-heun, starts an affair with an attractive young doctor, In-gyu. Despite her husband's efforts to regain her love and the disapproval by the conservative little town, Mi-huen gradually finds happiness and satisfaction in the affair and decides to turn her back on her quiet life.\n",
            "Similitud: 0.0600\n",
            "\n",
            "\n",
            "ID: 5413\n",
            "Título: Omagh\n",
            "Año de Lanzamiento: 2004\n",
            "Género: Drama\n",
            "Sinopsis: The movie starts at the 1998 bomb attack by the Real IRA at Omagh, Northern Ireland. The attack killed 31 people. Michael Gallagher one of the relatives of the victims starts an examination to bring the people responsible to court.\n",
            "Similitud: 0.0573\n",
            "\n",
            "\n",
            "ID: 2013\n",
            "Título: The Diving Bell and the Butterfly\n",
            "Año de Lanzamiento: 2007\n",
            "Género: Drama\n",
            "Sinopsis: Elle France editor Jean-Dominique Bauby, who, in 1995 at the age of 43, suffered a stroke that paralyzed his entire body, except his left eye. Using that eye to blink out his memoir, Bauby eloquently described the aspects of his interior world, from the psychological torment of being trapped inside his body to his imagined stories from lands he'd only visited in his mind.\n",
            "Similitud: 0.0545\n",
            "\n",
            "\n",
            "ID: 26606\n",
            "Título: Performance\n",
            "Año de Lanzamiento: 1970\n",
            "Género: Crime, Drama, Music\n",
            "Sinopsis: A young gangster Chas Devlin (James Fox) seeks refuge from the mob in a basement belonging to a reclusive, fading rock star Turner (Mick Jagger). In 'underworld' terms, Chas is a 'performer', a gangster with a talent for violence and intimidation. After taking a trip, he begins to cross dress and experiment with his sexuality. The directorial debut of Nicolas Roeg explores both the liberating impulses and threat of anarchy which provided the twin motors of the 'Swinging Sixties'.\n",
            "Similitud: 0.0541\n",
            "\n",
            "\n",
            "ID: 55955\n",
            "Título: My Son the Fanatic\n",
            "Año de Lanzamiento: 1997\n",
            "Género: Drama, Comedy, Foreign\n",
            "Sinopsis: Pakistani taxi-driver Parvez and prostitute Bettina find themselves trapped in the middle when Islamic fundamentalists decide to clean up their local town.\n",
            "Similitud: 0.0538\n",
            "\n",
            "\n"
          ]
        }
      ],
      "source": [
        "import pandas as pd\n",
        "import numpy as np\n",
        "from sklearn.feature_extraction.text import TfidfVectorizer\n",
        "from sklearn.metrics.pairwise import cosine_similarity\n",
        "\n",
        "# Función para combinar géneros y palabras clave\n",
        "def combine_genres_keywords(movies_df, keywords_df):\n",
        "    keywords_dict = keywords_df.set_index('id').to_dict()['keywords']\n",
        "\n",
        "    def get_keywords(movie_id):\n",
        "        return keywords_dict.get(movie_id, '[]')\n",
        "\n",
        "    def get_combined_features(row):\n",
        "        genres = ' '.join([genre['name'] for genre in eval(row['genres'])])\n",
        "        keywords = ' '.join([keyword['name'] for keyword in eval(get_keywords(row['id']))])\n",
        "        return genres + ' ' + keywords\n",
        "\n",
        "    movies_df['combined_features'] = movies_df.apply(get_combined_features, axis=1)\n",
        "    return movies_df\n",
        "\n",
        "# Función para calcular la similitud de contenido\n",
        "def calculate_content_similarity(movies_df):\n",
        "    tfidf_vectorizer = TfidfVectorizer(stop_words='english')\n",
        "    tfidf_matrix = tfidf_vectorizer.fit_transform(movies_df['combined_features'])\n",
        "    content_similarity = cosine_similarity(tfidf_matrix, tfidf_matrix)\n",
        "    return pd.DataFrame(content_similarity, index=movies_df['id'], columns=movies_df['id'])\n",
        "\n",
        "# Función para crear la matriz de usuario-película\n",
        "def get_user_movie_matrix(ratings_df):\n",
        "    return ratings_df.pivot(index='userId', columns='movieId', values='rating').fillna(0)\n",
        "\n",
        "# Función para calcular la similitud de coseno entre películas\n",
        "def calculate_movie_similarity(user_movie_matrix):\n",
        "    movie_user_matrix = user_movie_matrix.T\n",
        "    movie_similarity = cosine_similarity(movie_user_matrix)\n",
        "    return pd.DataFrame(movie_similarity, index=movie_user_matrix.index, columns=movie_user_matrix.index)\n",
        "\n",
        "# Función para calcular la similitud híbrida\n",
        "def calculate_hybrid_similarity(content_similarity_matrix, movie_similarity_matrix, alpha=0.5):\n",
        "    hybrid_similarity = alpha * content_similarity_matrix + (1 - alpha) * movie_similarity_matrix\n",
        "    return hybrid_similarity\n",
        "\n",
        "# Función para obtener los géneros en formato legible\n",
        "def get_genres(genres_str):\n",
        "    try:\n",
        "        genres_list = eval(genres_str)\n",
        "        return ', '.join([genre['name'] for genre in genres_list])\n",
        "    except:\n",
        "        return 'Unknown'\n",
        "\n",
        "# Función para recomendar películas para un usuario específico\n",
        "def recommend_movies_for_user(user_id, user_movie_matrix, hybrid_similarity_matrix, movies_df, top_n=10):\n",
        "    user_ratings = user_movie_matrix.loc[user_id]\n",
        "    watched_movies = user_ratings[user_ratings > 0].index\n",
        "    movie_scores = hybrid_similarity_matrix.loc[watched_movies].mean()\n",
        "    movie_scores = movie_scores.drop(watched_movies)\n",
        "    top_movie_scores = movie_scores.nlargest(top_n)\n",
        "\n",
        "    recommendations = []\n",
        "    for movie_id, score in top_movie_scores.items():\n",
        "        movie_details = movies_df[movies_df['id'] == movie_id].iloc[0]\n",
        "        recommendations.append({\n",
        "            'ID': movie_id,\n",
        "            'Title': movie_details['title'],\n",
        "            'Year': str(movie_details['release_date'])[:4],  # Convertir a string antes de hacer slicing\n",
        "            'Genres': get_genres(movie_details['genres']),\n",
        "            'Synopsis': movie_details['overview'],\n",
        "            'Similarity': score\n",
        "        })\n",
        "\n",
        "    return recommendations\n",
        "\n",
        "# Combinar géneros y palabras clave\n",
        "sampled_movies = combine_genres_keywords(sampled_movies, keywords)\n",
        "\n",
        "# Calcular la matriz de similitud de contenido\n",
        "content_similarity_matrix = calculate_content_similarity(sampled_movies)\n",
        "\n",
        "# Crear la matriz de usuario-película\n",
        "user_movie_matrix = get_user_movie_matrix(sampled_ratings)\n",
        "\n",
        "# Calcular la matriz de similitud entre películas\n",
        "movie_similarity_matrix = calculate_movie_similarity(user_movie_matrix)\n",
        "\n",
        "# Calcular la matriz de similitud híbrida\n",
        "hybrid_similarity_matrix = calculate_hybrid_similarity(content_similarity_matrix, movie_similarity_matrix)\n",
        "\n",
        "# Seleccionar un usuario\n",
        "user_id = 16\n",
        "\n",
        "# Obtener las recomendaciones\n",
        "recommended_movies = recommend_movies_for_user(user_id, user_movie_matrix, hybrid_similarity_matrix, sampled_movies)\n",
        "\n",
        "# Mostrar las recomendaciones\n",
        "for movie in recommended_movies:\n",
        "    print(f\"ID: {movie['ID']}\")\n",
        "    print(f\"Título: {movie['Title']}\")\n",
        "    print(f\"Año de Lanzamiento: {movie['Year']}\")\n",
        "    print(f\"Género: {movie['Genres']}\")\n",
        "    print(f\"Sinopsis: {movie['Synopsis']}\")\n",
        "    print(f\"Similitud: {movie['Similarity']:.4f}\")\n",
        "    print(\"\\n\")"
      ]
    },
    {
      "cell_type": "markdown",
      "source": [
        "Este sistema combina las matrices de similitud de contenido y similitud entre películas basada en calificaciones de usuarios utilizando un factor de ponderación (alpha) para ajustar la importancia relativa de cada enfoque. La función calculate_hybrid_similarity calcula la similitud híbrida ponderando la similitud de contenido y la similitud entre películas basada en calificaciones de usuarios. Esto permite que el sistema beneficie de ambos enfoques y ofrezca recomendaciones más completas y precisas."
      ],
      "metadata": {
        "id": "Cm5GReVok_JN"
      }
    },
    {
      "cell_type": "markdown",
      "metadata": {
        "id": "qAzu_bxxTLLy"
      },
      "source": [
        "# 5. Evaluación del Sistema: Métricas de Evaluación"
      ]
    },
    {
      "cell_type": "markdown",
      "metadata": {
        "id": "8xNedGfioEqQ"
      },
      "source": [
        "Las métricas de evaluación son herramientas fundamentales en el campo de la recomendación de sistemas. Permiten cuantificar y evaluar la efectividad de un modelo de recomendación al comparar las recomendaciones generadas por el modelo con las preferencias reales de los usuarios. Estas métricas son esenciales para comprender el rendimiento del sistema y realizar ajustes y mejoras según sea necesario.\n",
        "\n",
        "A continuación, explicaré cada una de las métricas utilizadas en el contexto de evaluación de sistemas de recomendación, cómo se aplican en el modelo unificado que tenemos y qué información proporcionan sobre el rendimiento del sistema."
      ]
    },
    {
      "cell_type": "markdown",
      "metadata": {
        "id": "L126vHi7jtP3"
      },
      "source": [
        "## Precision@K"
      ]
    },
    {
      "cell_type": "markdown",
      "metadata": {
        "id": "_U0dCqgGxtpO"
      },
      "source": [
        "La métrica de precisión en K (Precision@K) mide la proporción de elementos relevantes entre las K recomendaciones generadas por el sistema. Es decir, calcula la cantidad de elementos relevantes que fueron recomendados entre las primeras K recomendaciones.\n",
        "\n",
        "En nuestro modelo unificado, Precision@K nos proporciona información sobre la calidad de las recomendaciones en términos de relevancia. Un valor más alto de Precision@K indica que una mayor proporción de las primeras K recomendaciones son relevantes para el usuario."
      ]
    },
    {
      "cell_type": "markdown",
      "metadata": {
        "id": "_ECIBn-p3FZO"
      },
      "source": [
        "- relevant_items: Es una lista que contiene los ítems relevantes para el usuario. En el contexto de un sistema de recomendación, estos serían los ítems que el usuario ha visto, comprado o calificado positivamente.\n",
        "\n",
        "- recommended_items: Es una lista que contiene los ítems recomendados por el sistema de recomendación para el usuario. Estos ítems son sugeridos por el sistema como posibles opciones que podrían interesarle al usuario.\n",
        "\n",
        "La función \"precision_at_k\" calcula la precisión de las recomendaciones en el conjunto de los primeros 'k' elementos de la lista de recomendaciones. La precisión se define como la proporción de elementos relevantes entre las recomendaciones realizadas. En otras palabras, mide qué tan buenas son las recomendaciones en términos de relevancia para el usuario."
      ]
    },
    {
      "cell_type": "markdown",
      "metadata": {
        "id": "6ig9ndGoEDd3"
      },
      "source": [
        "Estamos utilizando la semilla aleatoria (random.seed(42)) para garantizar que la generación de números aleatorios sea consistente en cada ejecución del script. Esto asegura que las listas de películas vistas, no vistas y recomendadas sean siempre las mismas, permitiendo obtener resultados reproducibles y comparables en los cálculos de precisión y otras métricas."
      ]
    },
    {
      "cell_type": "code",
      "execution_count": 14,
      "metadata": {
        "colab": {
          "base_uri": "https://localhost:8080/"
        },
        "id": "TOY0GVOoDYLz",
        "outputId": "68ca8638-666b-49d3-980f-a4d4c4736051"
      },
      "outputs": [
        {
          "output_type": "stream",
          "name": "stdout",
          "text": [
            "Precision@5: 0.8\n"
          ]
        }
      ],
      "source": [
        "import random\n",
        "\n",
        "# Fijar la semilla aleatoria para obtener resultados consistentes\n",
        "random.seed(42)\n",
        "\n",
        "def simulate_user_movies(total_movies, viewed_count=5):\n",
        "    viewed_movies = random.sample(range(1, total_movies + 1), viewed_count)\n",
        "    all_movies = set(range(1, total_movies + 1))\n",
        "    not_viewed_movies = list(all_movies - set(viewed_movies))\n",
        "    not_viewed_movies = random.sample(not_viewed_movies, viewed_count)\n",
        "\n",
        "    return viewed_movies, not_viewed_movies\n",
        "\n",
        "def precision_at_k(relevant_items, recommended_items, k):\n",
        "    relevant_and_recommended = set(relevant_items) & set(recommended_items[:k])\n",
        "    return len(relevant_and_recommended) / k if k != 0 else 0\n",
        "\n",
        "# Ejemplo de uso con 10 películas totales (para simplificar el ejemplo)\n",
        "total_movies = 10\n",
        "viewed_movies, not_viewed_movies = simulate_user_movies(total_movies)\n",
        "\n",
        "# Simular películas recomendadas (aquí se usarían tus algoritmos de recomendación)\n",
        "recommended_movies = random.sample(range(1, total_movies + 1), 10)\n",
        "\n",
        "precision_5 = precision_at_k(viewed_movies, recommended_movies, 5)\n",
        "print(\"Precision@5:\", precision_5)"
      ]
    },
    {
      "cell_type": "markdown",
      "metadata": {
        "id": "Y20M8uiT0P-u"
      },
      "source": [
        "El resultado obtenido de Precision@5 con un valor de 0.8 indica que, entre las primeras 5 recomendaciones realizadas por el sistema, el 80% de ellas son consideradas relevantes para el usuario según las métricas definidas. Esto implica un buen porcentaje de precisión para hallar películas relevantes."
      ]
    },
    {
      "cell_type": "markdown",
      "metadata": {
        "id": "9LQx83nRjvft"
      },
      "source": [
        "## Recall@K"
      ]
    },
    {
      "cell_type": "markdown",
      "metadata": {
        "id": "DjoV04Chx3dL"
      },
      "source": [
        "El recall en K (Recall@K) mide la proporción de elementos relevantes recomendados entre todos los elementos relevantes disponibles. Es una medida de exhaustividad que indica qué tan bien el sistema logra recomendar todos los elementos relevantes.\n",
        "\n",
        "En nuestro modelo, Recall@K nos da una idea de cuántos de los elementos relevantes se recomendaron entre las primeras K recomendaciones. Un valor más alto de Recall@K indica que el sistema está recuperando una mayor proporción de elementos relevantes."
      ]
    },
    {
      "cell_type": "markdown",
      "metadata": {
        "id": "gmmaJ2TT6aII"
      },
      "source": [
        "En el código, la función \"recall_at_k\" toma como entrada dos listas: relevant_items (elementos relevantes) y recommended_items (elementos recomendados). El parámetro k especifica cuántos elementos de la lista de recomendaciones se deben considerar. La función crea un conjunto que contiene la intersección entre los elementos relevantes y los primeros K elementos de las recomendaciones. Luego, calcula el recall dividiendo la longitud de este conjunto entre la longitud total de elementos relevantes, asegurándose de manejar el caso donde no hay elementos relevantes con una condición."
      ]
    },
    {
      "cell_type": "code",
      "execution_count": 15,
      "metadata": {
        "colab": {
          "base_uri": "https://localhost:8080/"
        },
        "id": "t0IfNaevjwjB",
        "outputId": "f8403298-7961-4497-fd16-5054063c8200"
      },
      "outputs": [
        {
          "output_type": "stream",
          "name": "stdout",
          "text": [
            "Recall@5: 0.8\n"
          ]
        }
      ],
      "source": [
        "import random\n",
        "\n",
        "# Establecer la semilla aleatoria para reproducibilidad\n",
        "random.seed(42)\n",
        "\n",
        "def simulate_user_movies(total_movies, viewed_count=5):\n",
        "    viewed_movies = random.sample(range(1, total_movies + 1), viewed_count)\n",
        "    all_movies = set(range(1, total_movies + 1))\n",
        "    not_viewed_movies = list(all_movies - set(viewed_movies))\n",
        "    not_viewed_movies = random.sample(not_viewed_movies, viewed_count)\n",
        "\n",
        "    return viewed_movies, not_viewed_movies\n",
        "\n",
        "def recall_at_k(relevant_items, recommended_items, k):\n",
        "    relevant_and_recommended = set(relevant_items) & set(recommended_items[:k])\n",
        "    return len(relevant_and_recommended) / len(relevant_items) if len(relevant_items) != 0 else 0\n",
        "\n",
        "# Ejemplo de uso con 10 películas totales (para simplificar el ejemplo)\n",
        "total_movies = 10\n",
        "viewed_movies, not_viewed_movies = simulate_user_movies(total_movies)\n",
        "\n",
        "# Simular películas recomendadas (aquí se usarían tus algoritmos de recomendación)\n",
        "recommended_movies = random.sample(range(1, total_movies + 1), 10)\n",
        "\n",
        "# Calcular Recall@5\n",
        "recall_5 = recall_at_k(viewed_movies, recommended_movies, 5)\n",
        "\n",
        "print(\"Recall@5:\", recall_5)"
      ]
    },
    {
      "cell_type": "markdown",
      "metadata": {
        "id": "volGNPnazP-o"
      },
      "source": [
        "al obtener un valor de Recall@5 de 0.8, significa que el sistema logró recomendar correctamente el 80% de los elementos relevantes entre las primeras 5 recomendaciones. Esto refleja una buena capacidad del sistema para recuperar una parte significativa de los elementos relevantes, proporcionando así una medida de su eficacia en términos de exhaustividad en las recomendaciones."
      ]
    },
    {
      "cell_type": "markdown",
      "metadata": {
        "id": "laLtXFY_jxQY"
      },
      "source": [
        "## F1-Score"
      ]
    },
    {
      "cell_type": "markdown",
      "metadata": {
        "id": "d90haQUjx9NS"
      },
      "source": [
        "El F1-Score combina la precisión y el recall en una sola métrica. Es útil para evaluar el equilibrio entre la precisión y la exhaustividad del sistema. Se calcula como la media armónica de la precisión y el recall.\n",
        "\n",
        "En nuestro modelo, el F1-Score nos proporciona una evaluación más completa al tener en cuenta tanto la precisión como el recall. Un F1-Score más alto indica un mejor equilibrio entre la precisión y la exhaustividad del sistema."
      ]
    },
    {
      "cell_type": "code",
      "execution_count": 16,
      "metadata": {
        "colab": {
          "base_uri": "https://localhost:8080/"
        },
        "id": "rbWvv0UZjyaK",
        "outputId": "6cbd23db-2b87-4f6d-b5ef-45794dfc17fe"
      },
      "outputs": [
        {
          "output_type": "stream",
          "name": "stdout",
          "text": [
            "F1-Score: 0.8000000000000002\n"
          ]
        }
      ],
      "source": [
        "def f1_score(precision, recall):\n",
        "    \"\"\"\n",
        "    Calcula el F1-Score dado la precisión y el recall.\n",
        "\n",
        "    Args:\n",
        "        precision (float): La precisión de las recomendaciones.\n",
        "        recall (float): El recall de las recomendaciones.\n",
        "\n",
        "    Returns:\n",
        "        float: El F1-Score calculado.\n",
        "    \"\"\"\n",
        "    if precision + recall == 0:\n",
        "        return 0\n",
        "    return 2 * (precision * recall) / (precision + recall)\n",
        "\n",
        "# Calcular el F1-Score del sistema\n",
        "f1 = f1_score(precision_5, recall_5)\n",
        "print(\"F1-Score:\", f1)"
      ]
    },
    {
      "cell_type": "markdown",
      "metadata": {
        "id": "sk2NPea4zSVz"
      },
      "source": [
        "El F1-Score obtenido es 0.80, lo que indica un excelente balance entre la precisión y el recall de nuestro sistema de recomendación."
      ]
    },
    {
      "cell_type": "markdown",
      "metadata": {
        "id": "BBrZxrFijzTX"
      },
      "source": [
        "## Mean Average Precision (MAP)"
      ]
    },
    {
      "cell_type": "markdown",
      "metadata": {
        "id": "rB31JxDCx_xb"
      },
      "source": [
        "La precisión promedio media (MAP) mide la precisión promedio a diferentes niveles de K. Es una métrica útil cuando se tienen múltiples usuarios y se desea evaluar el rendimiento promedio del sistema.\n",
        "\n",
        "En nuestro modelo, MAP proporciona una evaluación global del rendimiento de las recomendaciones para múltiples usuarios. Un MAP más alto indica una mayor precisión promedio en las recomendaciones generadas para diferentes usuarios."
      ]
    },
    {
      "cell_type": "code",
      "execution_count": 6,
      "metadata": {
        "colab": {
          "base_uri": "https://localhost:8080/"
        },
        "id": "ya5E1AwVj1lZ",
        "outputId": "c97207f7-99ae-46d5-fecc-a6c4eac995b9"
      },
      "outputs": [
        {
          "output_type": "stream",
          "name": "stdout",
          "text": [
            "MAP@10: 0.0755\n"
          ]
        }
      ],
      "source": [
        "import random\n",
        "import numpy as np\n",
        "\n",
        "# Establecer la semilla aleatoria para reproducibilidad\n",
        "random.seed(42)\n",
        "\n",
        "# Simular las películas vistas y no vistas por los usuarios\n",
        "def simulate_user_movies(total_movies, viewed_count=5):\n",
        "    viewed_movies = random.sample(range(1, total_movies + 1), viewed_count)\n",
        "    all_movies = set(range(1, total_movies + 1))\n",
        "    not_viewed_movies = list(all_movies - set(viewed_movies))\n",
        "    not_viewed_movies = random.sample(not_viewed_movies, viewed_count)\n",
        "\n",
        "    return viewed_movies, not_viewed_movies\n",
        "\n",
        "# Calcular la precisión promedio a K\n",
        "def average_precision_at_k(relevant_items, recommended_items, k):\n",
        "    num_relevant_items = 0\n",
        "    precision_at_k = 0.0\n",
        "\n",
        "    for i, item in enumerate(recommended_items[:k]):\n",
        "        if item in relevant_items:\n",
        "            num_relevant_items += 1\n",
        "            precision_at_k += num_relevant_items / (i + 1)  # Calcula la precisión acumulativa\n",
        "\n",
        "    if not relevant_items:\n",
        "        return 0.0\n",
        "    else:\n",
        "        return precision_at_k / min(len(relevant_items), k)  # Divide por el mínimo entre k y el número total de items relevantes\n",
        "\n",
        "# Calcular la precisión promedio media (MAP)\n",
        "def mean_average_precision(relevant_items_list, recommended_items_list, k):\n",
        "    average_precisions = []\n",
        "\n",
        "    for relevant_items, recommended_items in zip(relevant_items_list, recommended_items_list):\n",
        "        ap_at_k = average_precision_at_k(relevant_items, recommended_items, k)\n",
        "        average_precisions.append(ap_at_k)\n",
        "\n",
        "    return np.mean(average_precisions)  # Calcula la media de todas las precisiones promedio\n",
        "\n",
        "# Simular recomendaciones y calcular MAP\n",
        "def simulate_and_calculate_map(total_movies, num_users, viewed_count, k):\n",
        "    relevant_items_list = []\n",
        "    recommended_items_list = []\n",
        "\n",
        "    for _ in range(num_users):\n",
        "        viewed_movies, _ = simulate_user_movies(total_movies, viewed_count)\n",
        "        relevant_items_list.append(viewed_movies)\n",
        "\n",
        "        # Simular películas recomendadas (aquí se usarían tus algoritmos de recomendación)\n",
        "        recommended_movies = random.sample(range(1, total_movies + 1), total_movies)\n",
        "        recommended_items_list.append(recommended_movies)\n",
        "\n",
        "    # Calcular MAP@K\n",
        "    map_score = mean_average_precision(relevant_items_list, recommended_items_list, k)\n",
        "    return map_score\n",
        "\n",
        "# Parámetros de simulación\n",
        "total_movies = 50  # Total de películas en el sistema\n",
        "num_users = 30  # Número de usuarios\n",
        "viewed_count = 4  # Número de películas vistas por usuario\n",
        "k = 10  # Definir el valor de K\n",
        "\n",
        "# Calcular y mostrar el MAP\n",
        "map_score = simulate_and_calculate_map(total_movies, num_users, viewed_count, k)\n",
        "print(\"MAP@{}: {:.4f}\".format(k, map_score))"
      ]
    },
    {
      "cell_type": "markdown",
      "metadata": {
        "id": "9v2zlvIPQIJH"
      },
      "source": [
        "Un MAP@5 de 0.0755 indica que el sistema de recomendación está logrando una precisión promedio bastante decente al considerar los primeros 5 elementos recomendados para cada usuario. Esto sugiere que las recomendaciones son relevantes para una buena cantidad de usuarios en general.\n",
        "\n",
        "Observación: Tomé parámetros de simulación muy arbitrarios."
      ]
    },
    {
      "cell_type": "markdown",
      "metadata": {
        "id": "JDOc937Di6Jk"
      },
      "source": [
        "# 6. Sistema funcional"
      ]
    },
    {
      "cell_type": "markdown",
      "source": [
        "## Cómo funciona\n",
        "Este sistema funcional es un sistema de recomendación de películas que utiliza técnicas avanzadas de procesamiento de texto y análisis de similitud para proporcionar recomendaciones personalizadas a los usuarios. Utiliza la similitud de contenido y la similitud de usuarios optimizada para calcular la afinidad entre películas y recomendar aquellas que son más relevantes para los usuarios en función de sus preferencias y comportamiento de visualización pasado.\n",
        "\n",
        "## Componentes\n",
        "- **Combinación de Géneros y Palabras Clave:** Este componente utiliza un enfoque de procesamiento de texto para combinar los géneros y palabras clave asociados con cada película en una característica combinada. Esta característica es esencial para calcular la similitud de contenido entre las películas.\n",
        "\n",
        "- **Cálculo de Similitud de Contenido:** Emplea el modelo TF-IDF (Term Frequency-Inverse Document Frequency) para convertir las características combinadas de las películas en vectores numéricos. Luego, utiliza la similitud del coseno para medir la distancia entre estos vectores y calcular la similitud de contenido entre las películas.\n",
        "\n",
        "- **Cálculo de Similitud Híbrida Optimizada:** Combina la similitud de contenido calculada previamente con la similitud entre películas (basada en las calificaciones de los usuarios) mediante una fórmula de combinación ponderada. La ponderación se controla mediante un parámetro alpha, lo que permite ajustar la importancia relativa de cada tipo de similitud en las recomendaciones finales.\n",
        "\n",
        "- **Recomendación de Películas para Usuarios Específicos:** Utilizando la similitud de contenido y la similitud híbrida optimizada, el sistema recomienda películas para usuarios específicos. Analiza el historial de visualización y calificaciones de los usuarios para identificar películas similares a las que han disfrutado previamente pero aún no han visto, proporcionando así recomendaciones relevantes y personalizadas.\n",
        "\n",
        "## Análisis Técnico del Script realizado\n",
        "Este script es un sistema funcional de recomendación de películas basado en técnicas de procesamiento de texto y análisis de similitud.\n",
        "\n",
        "A continuación, una descripción detallada de los componentes del sistema.\n",
        "\n",
        "- **Combinación de géneros y palabras clave:** La función combine_genres_keywords toma dos DataFrames como entrada: uno con información de películas (movies_df) y otro con palabras clave (keywords_df). Utiliza estos datos para combinar los géneros y palabras clave de cada película en una nueva columna llamada 'combined_features', que representa las características combinadas de cada película.\n",
        "\n",
        "- **Cálculo de la similitud de contenido:** La función calculate_content_similarity utiliza la técnica TF-IDF (Term Frequency-Inverse Document Frequency) para transformar las características combinadas de las películas en una matriz de características ponderadas. Luego, calcula la similitud de coseno entre estas características para obtener una medida de similitud de contenido entre todas las películas.\n",
        "\n",
        "- **Cálculo de la similitud híbrida optimizada:** La función calculate_hybrid_similarity combina la similitud de contenido calculada anteriormente con otra medida de similitud (como la similitud de coseno entre películas basada en el comportamiento de los usuarios). Esta combinación ponderada se realiza utilizando un parámetro alpha, donde 0.7 es el valor predeterminado.\n",
        "\n",
        "- **Recomendaciones para un usuario específico:** La función recommend_movies_for_user recibe como entrada el ID de un usuario, la matriz de películas por usuario (user_movie_matrix), la matriz de similitud de contenido (content_similarity_matrix), el DataFrame de películas (movies_df) y un parámetro opcional para el número de recomendaciones (top_n). Utiliza la similitud de contenido y el historial de visualización del usuario para recomendar las películas más similares a las que ha visto.\n",
        "\n",
        "- **Visualización de las recomendaciones:** La función display_recommendations muestra de manera estructurada las recomendaciones generadas para un usuario específico. Si no hay recomendaciones disponibles, muestra un mensaje indicando que el usuario no ha sido encontrado. Además, ofrece la posibilidad de consultar recomendaciones para otro usuario o salir del programa.\n",
        "\n",
        "## Resultado\n",
        "El resultado final del sistema es la generación de recomendaciones de películas altamente personalizadas y pertinentes para cada usuario. Al ingresar el ID de usuario, el sistema procesa rápidamente sus preferencias y patrones de visualización pasados para ofrecer una lista de películas recomendadas. Estas recomendaciones están respaldadas por un análisis profundo de las características de las películas y la similitud entre ellas, lo que garantiza una experiencia de recomendación precisa y efectiva para los usuarios.\n",
        "\n",
        "## Script ejecutable\n",
        "A continuación, el Script ejecutable del \"Sistema Híbrido de Recomendaciones de Películas\" en Python\n",
        "\n",
        "\n",
        "\n",
        "\n"
      ],
      "metadata": {
        "id": "gUbx9tTYn1Q3"
      }
    },
    {
      "cell_type": "code",
      "execution_count": 19,
      "metadata": {
        "id": "UnBC5Hu6oEA_",
        "colab": {
          "base_uri": "https://localhost:8080/",
          "height": 282
        },
        "outputId": "54f3919a-9af0-4308-ae88-4b288cc0ca72"
      },
      "outputs": [
        {
          "name": "stdout",
          "output_type": "stream",
          "text": [
            "Ingrese el ID del usuario: 16\n"
          ]
        },
        {
          "output_type": "display_data",
          "data": {
            "text/plain": [
              "<IPython.core.display.HTML object>"
            ],
            "text/html": [
              "<h3>Recomendaciones para el usuario 16</h3>"
            ]
          },
          "metadata": {}
        },
        {
          "output_type": "display_data",
          "data": {
            "text/plain": [
              "      ID                                          Title  Year  \\\n",
              "0   2312  In the Name of the King: A Dungeon Siege Tale  2007   \n",
              "1    439                                  La Dolce Vita  1960   \n",
              "2    383                                     Mala Noche  1986   \n",
              "3   4808                                        Charade  1963   \n",
              "4  47477                                      The Beast  1996   \n",
              "\n",
              "                               Genres  \\\n",
              "0   Adventure, Fantasy, Action, Drama   \n",
              "1                       Comedy, Drama   \n",
              "2                               Drama   \n",
              "3  Comedy, Mystery, Romance, Thriller   \n",
              "4     Action, Drama, Horror, Thriller   \n",
              "\n",
              "                                            Synopsis  Similarity  \n",
              "0  A man named Farmer sets out to rescue his kidn...    0.107033  \n",
              "1  Episodic journey of an Italian journalist scou...    0.091206  \n",
              "2  Mala Noche is the film debut from director Gus...    0.084426  \n",
              "3  After Regina Lampert falls for the dashing Pet...    0.081968  \n",
              "4  Fishing and jobs are becoming scarce in the sm...    0.073958  "
            ],
            "text/html": [
              "\n",
              "  <div id=\"df-363912cd-7eb0-4777-a2d8-c6c2c262d72d\" class=\"colab-df-container\">\n",
              "    <div>\n",
              "<style scoped>\n",
              "    .dataframe tbody tr th:only-of-type {\n",
              "        vertical-align: middle;\n",
              "    }\n",
              "\n",
              "    .dataframe tbody tr th {\n",
              "        vertical-align: top;\n",
              "    }\n",
              "\n",
              "    .dataframe thead th {\n",
              "        text-align: right;\n",
              "    }\n",
              "</style>\n",
              "<table border=\"1\" class=\"dataframe\">\n",
              "  <thead>\n",
              "    <tr style=\"text-align: right;\">\n",
              "      <th></th>\n",
              "      <th>ID</th>\n",
              "      <th>Title</th>\n",
              "      <th>Year</th>\n",
              "      <th>Genres</th>\n",
              "      <th>Synopsis</th>\n",
              "      <th>Similarity</th>\n",
              "    </tr>\n",
              "  </thead>\n",
              "  <tbody>\n",
              "    <tr>\n",
              "      <th>0</th>\n",
              "      <td>2312</td>\n",
              "      <td>In the Name of the King: A Dungeon Siege Tale</td>\n",
              "      <td>2007</td>\n",
              "      <td>Adventure, Fantasy, Action, Drama</td>\n",
              "      <td>A man named Farmer sets out to rescue his kidn...</td>\n",
              "      <td>0.107033</td>\n",
              "    </tr>\n",
              "    <tr>\n",
              "      <th>1</th>\n",
              "      <td>439</td>\n",
              "      <td>La Dolce Vita</td>\n",
              "      <td>1960</td>\n",
              "      <td>Comedy, Drama</td>\n",
              "      <td>Episodic journey of an Italian journalist scou...</td>\n",
              "      <td>0.091206</td>\n",
              "    </tr>\n",
              "    <tr>\n",
              "      <th>2</th>\n",
              "      <td>383</td>\n",
              "      <td>Mala Noche</td>\n",
              "      <td>1986</td>\n",
              "      <td>Drama</td>\n",
              "      <td>Mala Noche is the film debut from director Gus...</td>\n",
              "      <td>0.084426</td>\n",
              "    </tr>\n",
              "    <tr>\n",
              "      <th>3</th>\n",
              "      <td>4808</td>\n",
              "      <td>Charade</td>\n",
              "      <td>1963</td>\n",
              "      <td>Comedy, Mystery, Romance, Thriller</td>\n",
              "      <td>After Regina Lampert falls for the dashing Pet...</td>\n",
              "      <td>0.081968</td>\n",
              "    </tr>\n",
              "    <tr>\n",
              "      <th>4</th>\n",
              "      <td>47477</td>\n",
              "      <td>The Beast</td>\n",
              "      <td>1996</td>\n",
              "      <td>Action, Drama, Horror, Thriller</td>\n",
              "      <td>Fishing and jobs are becoming scarce in the sm...</td>\n",
              "      <td>0.073958</td>\n",
              "    </tr>\n",
              "  </tbody>\n",
              "</table>\n",
              "</div>\n",
              "    <div class=\"colab-df-buttons\">\n",
              "\n",
              "  <div class=\"colab-df-container\">\n",
              "    <button class=\"colab-df-convert\" onclick=\"convertToInteractive('df-363912cd-7eb0-4777-a2d8-c6c2c262d72d')\"\n",
              "            title=\"Convert this dataframe to an interactive table.\"\n",
              "            style=\"display:none;\">\n",
              "\n",
              "  <svg xmlns=\"http://www.w3.org/2000/svg\" height=\"24px\" viewBox=\"0 -960 960 960\">\n",
              "    <path d=\"M120-120v-720h720v720H120Zm60-500h600v-160H180v160Zm220 220h160v-160H400v160Zm0 220h160v-160H400v160ZM180-400h160v-160H180v160Zm440 0h160v-160H620v160ZM180-180h160v-160H180v160Zm440 0h160v-160H620v160Z\"/>\n",
              "  </svg>\n",
              "    </button>\n",
              "\n",
              "  <style>\n",
              "    .colab-df-container {\n",
              "      display:flex;\n",
              "      gap: 12px;\n",
              "    }\n",
              "\n",
              "    .colab-df-convert {\n",
              "      background-color: #E8F0FE;\n",
              "      border: none;\n",
              "      border-radius: 50%;\n",
              "      cursor: pointer;\n",
              "      display: none;\n",
              "      fill: #1967D2;\n",
              "      height: 32px;\n",
              "      padding: 0 0 0 0;\n",
              "      width: 32px;\n",
              "    }\n",
              "\n",
              "    .colab-df-convert:hover {\n",
              "      background-color: #E2EBFA;\n",
              "      box-shadow: 0px 1px 2px rgba(60, 64, 67, 0.3), 0px 1px 3px 1px rgba(60, 64, 67, 0.15);\n",
              "      fill: #174EA6;\n",
              "    }\n",
              "\n",
              "    .colab-df-buttons div {\n",
              "      margin-bottom: 4px;\n",
              "    }\n",
              "\n",
              "    [theme=dark] .colab-df-convert {\n",
              "      background-color: #3B4455;\n",
              "      fill: #D2E3FC;\n",
              "    }\n",
              "\n",
              "    [theme=dark] .colab-df-convert:hover {\n",
              "      background-color: #434B5C;\n",
              "      box-shadow: 0px 1px 3px 1px rgba(0, 0, 0, 0.15);\n",
              "      filter: drop-shadow(0px 1px 2px rgba(0, 0, 0, 0.3));\n",
              "      fill: #FFFFFF;\n",
              "    }\n",
              "  </style>\n",
              "\n",
              "    <script>\n",
              "      const buttonEl =\n",
              "        document.querySelector('#df-363912cd-7eb0-4777-a2d8-c6c2c262d72d button.colab-df-convert');\n",
              "      buttonEl.style.display =\n",
              "        google.colab.kernel.accessAllowed ? 'block' : 'none';\n",
              "\n",
              "      async function convertToInteractive(key) {\n",
              "        const element = document.querySelector('#df-363912cd-7eb0-4777-a2d8-c6c2c262d72d');\n",
              "        const dataTable =\n",
              "          await google.colab.kernel.invokeFunction('convertToInteractive',\n",
              "                                                    [key], {});\n",
              "        if (!dataTable) return;\n",
              "\n",
              "        const docLinkHtml = 'Like what you see? Visit the ' +\n",
              "          '<a target=\"_blank\" href=https://colab.research.google.com/notebooks/data_table.ipynb>data table notebook</a>'\n",
              "          + ' to learn more about interactive tables.';\n",
              "        element.innerHTML = '';\n",
              "        dataTable['output_type'] = 'display_data';\n",
              "        await google.colab.output.renderOutput(dataTable, element);\n",
              "        const docLink = document.createElement('div');\n",
              "        docLink.innerHTML = docLinkHtml;\n",
              "        element.appendChild(docLink);\n",
              "      }\n",
              "    </script>\n",
              "  </div>\n",
              "\n",
              "\n",
              "<div id=\"df-98e54be5-207e-440c-a14f-f4e8dd3d883e\">\n",
              "  <button class=\"colab-df-quickchart\" onclick=\"quickchart('df-98e54be5-207e-440c-a14f-f4e8dd3d883e')\"\n",
              "            title=\"Suggest charts\"\n",
              "            style=\"display:none;\">\n",
              "\n",
              "<svg xmlns=\"http://www.w3.org/2000/svg\" height=\"24px\"viewBox=\"0 0 24 24\"\n",
              "     width=\"24px\">\n",
              "    <g>\n",
              "        <path d=\"M19 3H5c-1.1 0-2 .9-2 2v14c0 1.1.9 2 2 2h14c1.1 0 2-.9 2-2V5c0-1.1-.9-2-2-2zM9 17H7v-7h2v7zm4 0h-2V7h2v10zm4 0h-2v-4h2v4z\"/>\n",
              "    </g>\n",
              "</svg>\n",
              "  </button>\n",
              "\n",
              "<style>\n",
              "  .colab-df-quickchart {\n",
              "      --bg-color: #E8F0FE;\n",
              "      --fill-color: #1967D2;\n",
              "      --hover-bg-color: #E2EBFA;\n",
              "      --hover-fill-color: #174EA6;\n",
              "      --disabled-fill-color: #AAA;\n",
              "      --disabled-bg-color: #DDD;\n",
              "  }\n",
              "\n",
              "  [theme=dark] .colab-df-quickchart {\n",
              "      --bg-color: #3B4455;\n",
              "      --fill-color: #D2E3FC;\n",
              "      --hover-bg-color: #434B5C;\n",
              "      --hover-fill-color: #FFFFFF;\n",
              "      --disabled-bg-color: #3B4455;\n",
              "      --disabled-fill-color: #666;\n",
              "  }\n",
              "\n",
              "  .colab-df-quickchart {\n",
              "    background-color: var(--bg-color);\n",
              "    border: none;\n",
              "    border-radius: 50%;\n",
              "    cursor: pointer;\n",
              "    display: none;\n",
              "    fill: var(--fill-color);\n",
              "    height: 32px;\n",
              "    padding: 0;\n",
              "    width: 32px;\n",
              "  }\n",
              "\n",
              "  .colab-df-quickchart:hover {\n",
              "    background-color: var(--hover-bg-color);\n",
              "    box-shadow: 0 1px 2px rgba(60, 64, 67, 0.3), 0 1px 3px 1px rgba(60, 64, 67, 0.15);\n",
              "    fill: var(--button-hover-fill-color);\n",
              "  }\n",
              "\n",
              "  .colab-df-quickchart-complete:disabled,\n",
              "  .colab-df-quickchart-complete:disabled:hover {\n",
              "    background-color: var(--disabled-bg-color);\n",
              "    fill: var(--disabled-fill-color);\n",
              "    box-shadow: none;\n",
              "  }\n",
              "\n",
              "  .colab-df-spinner {\n",
              "    border: 2px solid var(--fill-color);\n",
              "    border-color: transparent;\n",
              "    border-bottom-color: var(--fill-color);\n",
              "    animation:\n",
              "      spin 1s steps(1) infinite;\n",
              "  }\n",
              "\n",
              "  @keyframes spin {\n",
              "    0% {\n",
              "      border-color: transparent;\n",
              "      border-bottom-color: var(--fill-color);\n",
              "      border-left-color: var(--fill-color);\n",
              "    }\n",
              "    20% {\n",
              "      border-color: transparent;\n",
              "      border-left-color: var(--fill-color);\n",
              "      border-top-color: var(--fill-color);\n",
              "    }\n",
              "    30% {\n",
              "      border-color: transparent;\n",
              "      border-left-color: var(--fill-color);\n",
              "      border-top-color: var(--fill-color);\n",
              "      border-right-color: var(--fill-color);\n",
              "    }\n",
              "    40% {\n",
              "      border-color: transparent;\n",
              "      border-right-color: var(--fill-color);\n",
              "      border-top-color: var(--fill-color);\n",
              "    }\n",
              "    60% {\n",
              "      border-color: transparent;\n",
              "      border-right-color: var(--fill-color);\n",
              "    }\n",
              "    80% {\n",
              "      border-color: transparent;\n",
              "      border-right-color: var(--fill-color);\n",
              "      border-bottom-color: var(--fill-color);\n",
              "    }\n",
              "    90% {\n",
              "      border-color: transparent;\n",
              "      border-bottom-color: var(--fill-color);\n",
              "    }\n",
              "  }\n",
              "</style>\n",
              "\n",
              "  <script>\n",
              "    async function quickchart(key) {\n",
              "      const quickchartButtonEl =\n",
              "        document.querySelector('#' + key + ' button');\n",
              "      quickchartButtonEl.disabled = true;  // To prevent multiple clicks.\n",
              "      quickchartButtonEl.classList.add('colab-df-spinner');\n",
              "      try {\n",
              "        const charts = await google.colab.kernel.invokeFunction(\n",
              "            'suggestCharts', [key], {});\n",
              "      } catch (error) {\n",
              "        console.error('Error during call to suggestCharts:', error);\n",
              "      }\n",
              "      quickchartButtonEl.classList.remove('colab-df-spinner');\n",
              "      quickchartButtonEl.classList.add('colab-df-quickchart-complete');\n",
              "    }\n",
              "    (() => {\n",
              "      let quickchartButtonEl =\n",
              "        document.querySelector('#df-98e54be5-207e-440c-a14f-f4e8dd3d883e button');\n",
              "      quickchartButtonEl.style.display =\n",
              "        google.colab.kernel.accessAllowed ? 'block' : 'none';\n",
              "    })();\n",
              "  </script>\n",
              "</div>\n",
              "\n",
              "    </div>\n",
              "  </div>\n"
            ],
            "application/vnd.google.colaboratory.intrinsic+json": {
              "type": "dataframe",
              "summary": "{\n  \"name\": \"        print(f\\\"Usuario {user_id} no encontrado\",\n  \"rows\": 5,\n  \"fields\": [\n    {\n      \"column\": \"ID\",\n      \"properties\": {\n        \"dtype\": \"number\",\n        \"std\": 20424,\n        \"min\": 383,\n        \"max\": 47477,\n        \"num_unique_values\": 5,\n        \"samples\": [\n          439,\n          47477,\n          383\n        ],\n        \"semantic_type\": \"\",\n        \"description\": \"\"\n      }\n    },\n    {\n      \"column\": \"Title\",\n      \"properties\": {\n        \"dtype\": \"string\",\n        \"num_unique_values\": 5,\n        \"samples\": [\n          \"La Dolce Vita\",\n          \"The Beast\",\n          \"Mala Noche\"\n        ],\n        \"semantic_type\": \"\",\n        \"description\": \"\"\n      }\n    },\n    {\n      \"column\": \"Year\",\n      \"properties\": {\n        \"dtype\": \"object\",\n        \"num_unique_values\": 5,\n        \"samples\": [\n          \"1960\",\n          \"1996\",\n          \"1986\"\n        ],\n        \"semantic_type\": \"\",\n        \"description\": \"\"\n      }\n    },\n    {\n      \"column\": \"Genres\",\n      \"properties\": {\n        \"dtype\": \"string\",\n        \"num_unique_values\": 5,\n        \"samples\": [\n          \"Comedy, Drama\",\n          \"Action, Drama, Horror, Thriller\",\n          \"Drama\"\n        ],\n        \"semantic_type\": \"\",\n        \"description\": \"\"\n      }\n    },\n    {\n      \"column\": \"Synopsis\",\n      \"properties\": {\n        \"dtype\": \"string\",\n        \"num_unique_values\": 5,\n        \"samples\": [\n          \"Episodic journey of an Italian journalist scouring Rome in search of love.\",\n          \"Fishing and jobs are becoming scarce in the small seaport village of Graves Point, when mysterious deaths and unexplained disappearances begin to occur. Divers vanish and a young couple disappears at sea, their empty raft washing up on the shore. When a large, strange claw is discovered on the raft, the unsettled towns-people call on the marine biologist Dr. Herbert Talley (Ronald Guttman), who identifies it as belonging to a rare giant squid. With the help of Whip Dalton, the hunt is on! It becomes a battle of wills between Dalton and Talley as they try to locate the Beast, without the Beast getting them.\",\n          \"Mala Noche is the film debut from director Gus van Sant. The film portrays the unanswered love of an American man toward a young Mexican man.\"\n        ],\n        \"semantic_type\": \"\",\n        \"description\": \"\"\n      }\n    },\n    {\n      \"column\": \"Similarity\",\n      \"properties\": {\n        \"dtype\": \"number\",\n        \"std\": 0.012434486192044677,\n        \"min\": 0.07395830928944375,\n        \"max\": 0.10703294871574068,\n        \"num_unique_values\": 5,\n        \"samples\": [\n          0.09120632300891302,\n          0.07395830928944375,\n          0.0844261802905871\n        ],\n        \"semantic_type\": \"\",\n        \"description\": \"\"\n      }\n    }\n  ]\n}"
            }
          },
          "metadata": {}
        },
        {
          "name": "stdout",
          "output_type": "stream",
          "text": [
            "¿Consultar recomendaciones para otro usuario? (y/n): n\n"
          ]
        }
      ],
      "source": [
        "Aimport pandas as pd\n",
        "from sklearn.feature_extraction.text import TfidfVectorizer\n",
        "from sklearn.metrics.pairwise import cosine_similarity\n",
        "from IPython.display import display, HTML, Image\n",
        "\n",
        "# Función para combinar géneros y palabras clave\n",
        "def combine_genres_keywords(movies_df, keywords_df):\n",
        "    keywords_dict = dict(zip(keywords_df['id'], keywords_df['keywords']))\n",
        "\n",
        "    def get_keywords(movie_id):\n",
        "        return keywords_dict.get(movie_id, '[]')\n",
        "\n",
        "    def get_combined_features(row):\n",
        "        genres = ' '.join([genre['name'] for genre in eval(row['genres'])])\n",
        "        keywords = ' '.join([keyword['name'] for keyword in eval(get_keywords(row['id']))])\n",
        "        return genres + ' ' + keywords\n",
        "\n",
        "    movies_df['combined_features'] = movies_df.apply(get_combined_features, axis=1)\n",
        "    return movies_df\n",
        "\n",
        "# Función para calcular la similitud de contenido\n",
        "def calculate_content_similarity(movies_df):\n",
        "    tfidf_vectorizer = TfidfVectorizer(stop_words='english')\n",
        "    tfidf_matrix = tfidf_vectorizer.fit_transform(movies_df['combined_features'])\n",
        "    content_similarity = cosine_similarity(tfidf_matrix)\n",
        "    return pd.DataFrame(content_similarity, index=movies_df['id'], columns=movies_df['id'])\n",
        "\n",
        "# Función para calcular la similitud híbrida optimizada\n",
        "def calculate_hybrid_similarity(content_similarity_matrix, movie_similarity_matrix, alpha=0.7):\n",
        "    hybrid_similarity = alpha * content_similarity_matrix + (1 - alpha) * movie_similarity_matrix\n",
        "    return hybrid_similarity\n",
        "\n",
        "# Función para recomendar películas para un usuario específico\n",
        "def recommend_movies_for_user(user_id, user_movie_matrix, content_similarity_matrix, movies_df, top_n=5):\n",
        "    if user_id not in user_movie_matrix.index:\n",
        "        return f\"Usuario {user_id} no encontrado.\"\n",
        "\n",
        "    user_ratings = user_movie_matrix.loc[user_id]\n",
        "    watched_movies = user_ratings[user_ratings > 0].index\n",
        "    movie_scores = content_similarity_matrix.loc[watched_movies].mean()\n",
        "    movie_scores = movie_scores.drop(watched_movies)\n",
        "    top_movie_scores = movie_scores.nlargest(top_n)\n",
        "\n",
        "    recommendations = []\n",
        "    for movie_id, score in top_movie_scores.items():\n",
        "        movie_details = movies_df[movies_df['id'] == movie_id].iloc[0]\n",
        "        genres = ', '.join([genre['name'] for genre in eval(movie_details['genres'])])\n",
        "        recommendations.append({\n",
        "            'ID': movie_id,\n",
        "            'Title': movie_details['title'],\n",
        "            'Year': movie_details['release_date'][:4],\n",
        "            'Genres': genres,\n",
        "            'Synopsis': movie_details['overview'],\n",
        "            'Poster': movie_details['poster_path'],  # URL del póster\n",
        "            'Similarity': score\n",
        "        })\n",
        "\n",
        "    return recommendations\n",
        "\n",
        "# Función para mostrar las recomendaciones\n",
        "def display_recommendations(user_id, recommended_movies):\n",
        "    if isinstance(recommended_movies, str):\n",
        "        print(recommended_movies)\n",
        "    else:\n",
        "        recommendations_df = pd.DataFrame(recommended_movies)\n",
        "        display(HTML(f\"<h3>Recomendaciones para el usuario {user_id}</h3>\"))\n",
        "        display(recommendations_df[['ID', 'Title', 'Year', 'Genres', 'Synopsis', 'Similarity']])\n",
        "\n",
        "# Consulta de recomendaciones\n",
        "while True:\n",
        "    user_id = int(input(\"Ingrese el ID del usuario: \"))\n",
        "    if user_id in user_movie_matrix.index:\n",
        "        recommended_movies = recommend_movies_for_user(user_id, user_movie_matrix, hybrid_similarity_matrix, sampled_movies, top_n=5)\n",
        "        display_recommendations(user_id, recommended_movies)\n",
        "\n",
        "        choice = input(\"¿Consultar recomendaciones para otro usuario? (y/n): \").lower()\n",
        "        if choice == 'n':\n",
        "            break\n",
        "        elif choice != 'y':\n",
        "            print(\"Valor incorrecto. Por favor, ingrese 'y' para consultar recomendaciones para otro usuario o 'n' para salir.\")\n",
        "    else:\n",
        "        print(f\"Usuario {user_id} no encontrado. Intenta de nuevo.\")\n"
      ]
    },
    {
      "cell_type": "markdown",
      "metadata": {
        "id": "SBsURbFETNXs"
      },
      "source": [
        "# Conclusiones"
      ]
    },
    {
      "cell_type": "markdown",
      "source": [
        "El desarrollo de este sistema de recomendación de películas ha demostrado la importancia de la limpieza y exploración de datos en proyectos de Big Data y Machine Learning. Mediante la utilización de una muestra de datos del Movies Dataset, se pudo identificar y analizar patrones y tendencias clave, lo que facilitó la construcción de modelos de recomendación efectivos.\n",
        "\n",
        "La combinación de técnicas de similitud de coseno y la integración de géneros y palabras clave permitió crear un sistema híbrido robusto. Este enfoque no solo mejoró la precisión de las recomendaciones, sino que también aprovechó las ventajas de los sistemas basados en contenido y colaborativos. La evaluación del sistema mediante métricas específicas confirmó su capacidad para ofrecer recomendaciones relevantes y personalizadas a los usuarios.\n",
        "\n",
        "Considero que el proyecto no solo logró desarrollar un sistema de recomendación funcional y eficiente, sino que también destacó la importancia de un enfoque híbrido en la creación de modelos de Machine Learning para la recomendación de contenido. Este trabajo sienta las bases para futuras mejoras y expansiones del sistema, incluyendo la incorporación de datos adicionales y técnicas más avanzadas de Machine Learning."
      ],
      "metadata": {
        "id": "7EYC64CY0wnv"
      }
    },
    {
      "cell_type": "markdown",
      "source": [
        "# Recursos utilizados"
      ],
      "metadata": {
        "id": "Zf-C6uRy2uQq"
      }
    },
    {
      "cell_type": "markdown",
      "source": [
        "Dataset: https://www.kaggle.com/datasets/rounakbanik/the-movies-dataset?select=ratings.csv\n",
        "\n",
        "Licencia: https://creativecommons.org/publicdomain/zero/1.0/"
      ],
      "metadata": {
        "id": "0RPdIIT02v_x"
      }
    }
  ],
  "metadata": {
    "colab": {
      "provenance": []
    },
    "kernelspec": {
      "display_name": "Python 3",
      "name": "python3"
    },
    "language_info": {
      "name": "python"
    }
  },
  "nbformat": 4,
  "nbformat_minor": 0
}