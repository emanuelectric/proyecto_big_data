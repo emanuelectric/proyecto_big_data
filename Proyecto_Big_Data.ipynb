{
  "cells": [
    {
      "cell_type": "markdown",
      "metadata": {
        "id": "9SC9I6hXRB1D"
      },
      "source": [
        "Tobías Emanuel González Vera"
      ]
    },
    {
      "cell_type": "markdown",
      "metadata": {
        "id": "oxJ8iEL5REGU"
      },
      "source": [
        "Universidad Paraguayo Alemana"
      ]
    },
    {
      "cell_type": "markdown",
      "metadata": {
        "id": "vzTxETqrRFjD"
      },
      "source": [
        "Facultad de Ciencias Empresariales"
      ]
    },
    {
      "cell_type": "markdown",
      "metadata": {
        "id": "AN4XxxxsRHi1"
      },
      "source": [
        "Ingeniería en Tecnologías de la Información Empresarial"
      ]
    },
    {
      "cell_type": "markdown",
      "metadata": {
        "id": "aWeALzbxRJud"
      },
      "source": [
        "San Lorenzo, 2024"
      ]
    },
    {
      "cell_type": "markdown",
      "metadata": {
        "id": "5xBgOn7UNBlr"
      },
      "source": [
        "# Proyecto Big Data y Machine Learning"
      ]
    },
    {
      "cell_type": "markdown",
      "metadata": {
        "id": "pmcyzBGNS4QD"
      },
      "source": [
        "## Recomendación de Películas"
      ]
    },
    {
      "cell_type": "markdown",
      "metadata": {
        "id": "oTJJpJjCS_-V"
      },
      "source": [
        "# Introducción"
      ]
    },
    {
      "cell_type": "markdown",
      "source": [],
      "metadata": {
        "id": "yAX6MwvA5bA2"
      }
    },
    {
      "cell_type": "markdown",
      "metadata": {
        "id": "0fPDrc5HS73f"
      },
      "source": [
        "# Datos"
      ]
    },
    {
      "cell_type": "markdown",
      "source": [
        "https://www.kaggle.com/datasets/rounakbanik/the-movies-dataset?select=ratings.csv"
      ],
      "metadata": {
        "id": "OPlfw2AB_aUA"
      }
    },
    {
      "cell_type": "markdown",
      "source": [
        "### Importar las librerías necesarias"
      ],
      "metadata": {
        "id": "jmqeTUHaneIk"
      }
    },
    {
      "cell_type": "code",
      "source": [
        "# Importar librerías necesarias\n",
        "import os  # Para manejar operaciones del sistema operativo, como la carga de archivos\n",
        "import pandas as pd  # Para manipulación y análisis de datos\n",
        "import numpy as np  # Para operaciones numéricas avanzadas\n",
        "import matplotlib.pyplot as plt  # Para visualización de datos\n",
        "import seaborn as sns  # Para visualización de datos, basado en matplotlib\n",
        "from sklearn.metrics.pairwise import cosine_similarity #Cálculo de similitud de coseno\n",
        "from sklearn.feature_extraction.text import TfidfVectorizer #Cálculo de similitud de contenidos\n",
        "from IPython.display import display, HTML, Image #Visualización en el Notebook\n",
        "\n",
        "# Librerías adicionales para procesamiento de datos\n",
        "from google.colab import files  # Para cargar archivos desde la computadora local"
      ],
      "metadata": {
        "id": "b_-bQz9NCG9G"
      },
      "execution_count": 3,
      "outputs": []
    },
    {
      "cell_type": "markdown",
      "source": [
        "**Descripción de Librerías**\n",
        "- os: Permite interactuar con el sistema operativo y manejar archivos y directorios.\n",
        "- pandas: Biblioteca principal para análisis y manipulación de datos estructurados en Python.\n",
        "- numpy: Proporciona soporte para grandes matrices multidimensionales y funciones matemáticas de alto nivel.\n",
        "- matplotlib: Herramienta básica para crear gráficos y visualizaciones en Python.\n",
        "- seaborn: Extiende las capacidades de visualización de matplotlib con estilos y gráficos adicionales.\n",
        "- google.colab.files: Facilita la carga de archivos en Google Colab desde la computadora local."
      ],
      "metadata": {
        "id": "qi4y5XOA6mgD"
      }
    },
    {
      "cell_type": "markdown",
      "source": [
        "### Importar los datos"
      ],
      "metadata": {
        "id": "tCmG-jDw6x8X"
      }
    },
    {
      "cell_type": "code",
      "source": [
        "# Importar el archivo\n",
        "uploaded = files.upload()\n",
        "\n",
        "# Leer los archivos CSV en DataFrames\n",
        "sampled_movies = pd.read_csv(\"sampled_movies.csv\")\n",
        "sampled_ratings = pd.read_csv(\"sampled_ratings.csv\")\n",
        "keywords = pd.read_csv(\"keywords.csv\")\n",
        "\n",
        "# Mostrar la cantidad de filas y columnas de cada DataFrame\n",
        "print(f\"Cantidad de filas y columnas en sampled_movies: {sampled_movies.shape}\")\n",
        "print(f\"Cantidad de filas y columnas en sampled_ratings: {sampled_ratings.shape}\")\n",
        "print(f\"Cantidad de filas y columnas en keywords: {keywords.shape}\")\n",
        "\n",
        "# Mostrar las columnas de cada DataFrame\n",
        "print(\"Columnas en sampled_movies:\")\n",
        "print(sampled_movies.columns.tolist())\n",
        "\n",
        "print(\"Columnas en sampled_ratings:\")\n",
        "print(sampled_ratings.columns.tolist())\n",
        "\n",
        "print(\"Columnas en keywords:\")\n",
        "print(keywords.columns.tolist())\n",
        "\n",
        "# Mostrar las primeras filas de cada DataFrame para verificar\n",
        "print(\"Primeras filas de sampled_movies:\")\n",
        "print(sampled_movies.head())\n",
        "\n",
        "print(\"Primeras filas de sampled_ratings:\")\n",
        "print(sampled_ratings.head())\n",
        "\n",
        "print(\"Primeras filas de keywords:\")\n",
        "print(keywords.head())"
      ],
      "metadata": {
        "colab": {
          "base_uri": "https://localhost:8080/",
          "height": 1000
        },
        "id": "OpbHjzRI62bj",
        "outputId": "013f23df-13f2-41d4-b9d1-590741ead41c"
      },
      "execution_count": 4,
      "outputs": [
        {
          "output_type": "display_data",
          "data": {
            "text/plain": [
              "<IPython.core.display.HTML object>"
            ],
            "text/html": [
              "\n",
              "     <input type=\"file\" id=\"files-15d86b81-c1ca-4c5f-af98-5cb63ff79e42\" name=\"files[]\" multiple disabled\n",
              "        style=\"border:none\" />\n",
              "     <output id=\"result-15d86b81-c1ca-4c5f-af98-5cb63ff79e42\">\n",
              "      Upload widget is only available when the cell has been executed in the\n",
              "      current browser session. Please rerun this cell to enable.\n",
              "      </output>\n",
              "      <script>// Copyright 2017 Google LLC\n",
              "//\n",
              "// Licensed under the Apache License, Version 2.0 (the \"License\");\n",
              "// you may not use this file except in compliance with the License.\n",
              "// You may obtain a copy of the License at\n",
              "//\n",
              "//      http://www.apache.org/licenses/LICENSE-2.0\n",
              "//\n",
              "// Unless required by applicable law or agreed to in writing, software\n",
              "// distributed under the License is distributed on an \"AS IS\" BASIS,\n",
              "// WITHOUT WARRANTIES OR CONDITIONS OF ANY KIND, either express or implied.\n",
              "// See the License for the specific language governing permissions and\n",
              "// limitations under the License.\n",
              "\n",
              "/**\n",
              " * @fileoverview Helpers for google.colab Python module.\n",
              " */\n",
              "(function(scope) {\n",
              "function span(text, styleAttributes = {}) {\n",
              "  const element = document.createElement('span');\n",
              "  element.textContent = text;\n",
              "  for (const key of Object.keys(styleAttributes)) {\n",
              "    element.style[key] = styleAttributes[key];\n",
              "  }\n",
              "  return element;\n",
              "}\n",
              "\n",
              "// Max number of bytes which will be uploaded at a time.\n",
              "const MAX_PAYLOAD_SIZE = 100 * 1024;\n",
              "\n",
              "function _uploadFiles(inputId, outputId) {\n",
              "  const steps = uploadFilesStep(inputId, outputId);\n",
              "  const outputElement = document.getElementById(outputId);\n",
              "  // Cache steps on the outputElement to make it available for the next call\n",
              "  // to uploadFilesContinue from Python.\n",
              "  outputElement.steps = steps;\n",
              "\n",
              "  return _uploadFilesContinue(outputId);\n",
              "}\n",
              "\n",
              "// This is roughly an async generator (not supported in the browser yet),\n",
              "// where there are multiple asynchronous steps and the Python side is going\n",
              "// to poll for completion of each step.\n",
              "// This uses a Promise to block the python side on completion of each step,\n",
              "// then passes the result of the previous step as the input to the next step.\n",
              "function _uploadFilesContinue(outputId) {\n",
              "  const outputElement = document.getElementById(outputId);\n",
              "  const steps = outputElement.steps;\n",
              "\n",
              "  const next = steps.next(outputElement.lastPromiseValue);\n",
              "  return Promise.resolve(next.value.promise).then((value) => {\n",
              "    // Cache the last promise value to make it available to the next\n",
              "    // step of the generator.\n",
              "    outputElement.lastPromiseValue = value;\n",
              "    return next.value.response;\n",
              "  });\n",
              "}\n",
              "\n",
              "/**\n",
              " * Generator function which is called between each async step of the upload\n",
              " * process.\n",
              " * @param {string} inputId Element ID of the input file picker element.\n",
              " * @param {string} outputId Element ID of the output display.\n",
              " * @return {!Iterable<!Object>} Iterable of next steps.\n",
              " */\n",
              "function* uploadFilesStep(inputId, outputId) {\n",
              "  const inputElement = document.getElementById(inputId);\n",
              "  inputElement.disabled = false;\n",
              "\n",
              "  const outputElement = document.getElementById(outputId);\n",
              "  outputElement.innerHTML = '';\n",
              "\n",
              "  const pickedPromise = new Promise((resolve) => {\n",
              "    inputElement.addEventListener('change', (e) => {\n",
              "      resolve(e.target.files);\n",
              "    });\n",
              "  });\n",
              "\n",
              "  const cancel = document.createElement('button');\n",
              "  inputElement.parentElement.appendChild(cancel);\n",
              "  cancel.textContent = 'Cancel upload';\n",
              "  const cancelPromise = new Promise((resolve) => {\n",
              "    cancel.onclick = () => {\n",
              "      resolve(null);\n",
              "    };\n",
              "  });\n",
              "\n",
              "  // Wait for the user to pick the files.\n",
              "  const files = yield {\n",
              "    promise: Promise.race([pickedPromise, cancelPromise]),\n",
              "    response: {\n",
              "      action: 'starting',\n",
              "    }\n",
              "  };\n",
              "\n",
              "  cancel.remove();\n",
              "\n",
              "  // Disable the input element since further picks are not allowed.\n",
              "  inputElement.disabled = true;\n",
              "\n",
              "  if (!files) {\n",
              "    return {\n",
              "      response: {\n",
              "        action: 'complete',\n",
              "      }\n",
              "    };\n",
              "  }\n",
              "\n",
              "  for (const file of files) {\n",
              "    const li = document.createElement('li');\n",
              "    li.append(span(file.name, {fontWeight: 'bold'}));\n",
              "    li.append(span(\n",
              "        `(${file.type || 'n/a'}) - ${file.size} bytes, ` +\n",
              "        `last modified: ${\n",
              "            file.lastModifiedDate ? file.lastModifiedDate.toLocaleDateString() :\n",
              "                                    'n/a'} - `));\n",
              "    const percent = span('0% done');\n",
              "    li.appendChild(percent);\n",
              "\n",
              "    outputElement.appendChild(li);\n",
              "\n",
              "    const fileDataPromise = new Promise((resolve) => {\n",
              "      const reader = new FileReader();\n",
              "      reader.onload = (e) => {\n",
              "        resolve(e.target.result);\n",
              "      };\n",
              "      reader.readAsArrayBuffer(file);\n",
              "    });\n",
              "    // Wait for the data to be ready.\n",
              "    let fileData = yield {\n",
              "      promise: fileDataPromise,\n",
              "      response: {\n",
              "        action: 'continue',\n",
              "      }\n",
              "    };\n",
              "\n",
              "    // Use a chunked sending to avoid message size limits. See b/62115660.\n",
              "    let position = 0;\n",
              "    do {\n",
              "      const length = Math.min(fileData.byteLength - position, MAX_PAYLOAD_SIZE);\n",
              "      const chunk = new Uint8Array(fileData, position, length);\n",
              "      position += length;\n",
              "\n",
              "      const base64 = btoa(String.fromCharCode.apply(null, chunk));\n",
              "      yield {\n",
              "        response: {\n",
              "          action: 'append',\n",
              "          file: file.name,\n",
              "          data: base64,\n",
              "        },\n",
              "      };\n",
              "\n",
              "      let percentDone = fileData.byteLength === 0 ?\n",
              "          100 :\n",
              "          Math.round((position / fileData.byteLength) * 100);\n",
              "      percent.textContent = `${percentDone}% done`;\n",
              "\n",
              "    } while (position < fileData.byteLength);\n",
              "  }\n",
              "\n",
              "  // All done.\n",
              "  yield {\n",
              "    response: {\n",
              "      action: 'complete',\n",
              "    }\n",
              "  };\n",
              "}\n",
              "\n",
              "scope.google = scope.google || {};\n",
              "scope.google.colab = scope.google.colab || {};\n",
              "scope.google.colab._files = {\n",
              "  _uploadFiles,\n",
              "  _uploadFilesContinue,\n",
              "};\n",
              "})(self);\n",
              "</script> "
            ]
          },
          "metadata": {}
        },
        {
          "output_type": "stream",
          "name": "stdout",
          "text": [
            "Saving sampled_movies.csv to sampled_movies.csv\n",
            "Saving sampled_ratings.csv to sampled_ratings.csv\n",
            "Saving keywords.csv to keywords.csv\n",
            "Cantidad de filas y columnas en sampled_movies: (1000, 24)\n",
            "Cantidad de filas y columnas en sampled_ratings: (10000, 4)\n",
            "Cantidad de filas y columnas en keywords: (46419, 2)\n",
            "Columnas en sampled_movies:\n",
            "['adult', 'belongs_to_collection', 'budget', 'genres', 'homepage', 'id', 'imdb_id', 'original_language', 'original_title', 'overview', 'popularity', 'poster_path', 'production_companies', 'production_countries', 'release_date', 'revenue', 'runtime', 'spoken_languages', 'status', 'tagline', 'title', 'video', 'vote_average', 'vote_count']\n",
            "Columnas en sampled_ratings:\n",
            "['userId', 'movieId', 'rating', 'timestamp']\n",
            "Columnas en keywords:\n",
            "['id', 'keywords']\n",
            "Primeras filas de sampled_movies:\n",
            "   adult belongs_to_collection   budget  \\\n",
            "0  False                   NaN        0   \n",
            "1  False                   NaN        0   \n",
            "2  False                   NaN  1000000   \n",
            "3  False                   NaN        0   \n",
            "4  False                   NaN        0   \n",
            "\n",
            "                                              genres  \\\n",
            "0  [{'id': 18, 'name': 'Drama'}, {'id': 35, 'name...   \n",
            "1  [{'id': 18, 'name': 'Drama'}, {'id': 35, 'name...   \n",
            "2  [{'id': 80, 'name': 'Crime'}, {'id': 18, 'name...   \n",
            "3  [{'id': 27, 'name': 'Horror'}, {'id': 10749, '...   \n",
            "4  [{'id': 35, 'name': 'Comedy'}, {'id': 18, 'nam...   \n",
            "\n",
            "                                 homepage      id    imdb_id  \\\n",
            "0  https://www.netflix.com/title/80164212  411405  tt5717492   \n",
            "1                                     NaN   42492  tt0069449   \n",
            "2                                     NaN   12143  tt0103759   \n",
            "3                                     NaN    9976  tt0380687   \n",
            "4                                     NaN   46761  tt0157044   \n",
            "\n",
            "  original_language         original_title  \\\n",
            "0                en           Small Crimes   \n",
            "1                en         Up the Sandbox   \n",
            "2                en         Bad Lieutenant   \n",
            "3                en  Satan's Little Helper   \n",
            "4                fr                 Sitcom   \n",
            "\n",
            "                                            overview  ...  release_date  \\\n",
            "0  A disgraced former cop, fresh off a six-year p...  ...    2017-04-28   \n",
            "1  A young wife and mother, bored with day-to-day...  ...    1972-12-21   \n",
            "2  While investigating a young nun's rape, a corr...  ...    1992-09-16   \n",
            "3  A naïve young boy unknowingly becomes the pawn...  ...    2004-01-01   \n",
            "4  The adventures of an upper-class suburban fami...  ...    1998-05-27   \n",
            "\n",
            "     revenue runtime                                   spoken_languages  \\\n",
            "0        0.0    95.0  [{'iso_639_1': 'en', 'name': 'English'}, {'iso...   \n",
            "1        0.0    97.0           [{'iso_639_1': 'en', 'name': 'English'}]   \n",
            "2  2019469.0    96.0  [{'iso_639_1': 'en', 'name': 'English'}, {'iso...   \n",
            "3        0.0   100.0  [{'iso_639_1': 'it', 'name': 'Italiano'}, {'is...   \n",
            "4        0.0    80.0          [{'iso_639_1': 'fr', 'name': 'Français'}]   \n",
            "\n",
            "     status                               tagline                  title  \\\n",
            "0  Released                                   NaN           Small Crimes   \n",
            "1  Released                                   NaN         Up the Sandbox   \n",
            "2  Released  Gambler. Thief. Junkie. Killer. Cop.         Bad Lieutenant   \n",
            "3  Released             You'll laugh 'til you die  Satan's Little Helper   \n",
            "4  Released                                   NaN                 Sitcom   \n",
            "\n",
            "   video vote_average vote_count  \n",
            "0  False          5.8       55.0  \n",
            "1  False          7.3        2.0  \n",
            "2  False          6.9      162.0  \n",
            "3  False          5.0       42.0  \n",
            "4  False          6.4       27.0  \n",
            "\n",
            "[5 rows x 24 columns]\n",
            "Primeras filas de sampled_ratings:\n",
            "   userId  movieId  rating   timestamp\n",
            "0  193578      648     4.0   851538118\n",
            "1  228590     2268     3.0  1009245910\n",
            "2  210558      648     4.0  1225177426\n",
            "3   12837    47261     3.5  1324845097\n",
            "4   87243      648     3.0  1480122484\n",
            "Primeras filas de keywords:\n",
            "      id                                           keywords\n",
            "0    862  [{'id': 931, 'name': 'jealousy'}, {'id': 4290,...\n",
            "1   8844  [{'id': 10090, 'name': 'board game'}, {'id': 1...\n",
            "2  15602  [{'id': 1495, 'name': 'fishing'}, {'id': 12392...\n",
            "3  31357  [{'id': 818, 'name': 'based on novel'}, {'id':...\n",
            "4  11862  [{'id': 1009, 'name': 'baby'}, {'id': 1599, 'n...\n"
          ]
        }
      ]
    },
    {
      "cell_type": "markdown",
      "metadata": {
        "id": "aW0kZsPJTFdm"
      },
      "source": [
        "# Preprocesamiento de Datos"
      ]
    },
    {
      "cell_type": "markdown",
      "source": [
        "Limpieza y preparación de los datos para su análisis."
      ],
      "metadata": {
        "id": "tNQY2Ox467hY"
      }
    },
    {
      "cell_type": "markdown",
      "source": [
        "### Limpieza de datos"
      ],
      "metadata": {
        "id": "M1CBKsbq68zO"
      }
    },
    {
      "cell_type": "code",
      "source": [
        "# Función para limpiar DataFrame\n",
        "def clean_dataframe(df, df_name):\n",
        "    print(f\"\\nLimpiando {df_name}:\")\n",
        "\n",
        "    # Eliminar filas completamente vacías\n",
        "    initial_shape = df.shape\n",
        "    df.dropna(how='all', inplace=True)\n",
        "    print(f\"Filas eliminadas por estar completamente vacías: {initial_shape[0] - df.shape[0]}\")\n",
        "\n",
        "    # Eliminar filas duplicadas\n",
        "    initial_shape = df.shape\n",
        "    df.drop_duplicates(inplace=True)\n",
        "    print(f\"Filas eliminadas por duplicadas: {initial_shape[0] - df.shape[0]}\")\n",
        "\n",
        "    # Verificar datos faltantes\n",
        "    print(\"Datos faltantes después de la limpieza:\")\n",
        "    print(df.isnull().sum())\n",
        "\n",
        "    return df\n",
        "\n",
        "# Limpiar los DataFrames\n",
        "sampled_movies_clean = clean_dataframe(sampled_movies, \"sampled_movies\")\n",
        "sampled_ratings_clean = clean_dataframe(sampled_ratings, \"sampled_ratings\")\n",
        "keywords_clean = clean_dataframe(keywords, \"keywords\")\n",
        "\n",
        "# Mostrar las primeras filas de cada DataFrame limpio para verificar\n",
        "print(\"\\nPrimeras filas de sampled_movies_clean:\")\n",
        "print(sampled_movies_clean.head())\n",
        "\n",
        "print(\"\\nPrimeras filas de sampled_ratings_clean:\")\n",
        "print(sampled_ratings_clean.head())\n",
        "\n",
        "print(\"\\nPrimeras filas de keywords_clean:\")\n",
        "print(keywords_clean.head())\n"
      ],
      "metadata": {
        "colab": {
          "base_uri": "https://localhost:8080/"
        },
        "id": "RN4coR7QoWCp",
        "outputId": "88df8a7e-59d0-4207-e888-efc61d23e137"
      },
      "execution_count": 5,
      "outputs": [
        {
          "output_type": "stream",
          "name": "stdout",
          "text": [
            "\n",
            "Limpiando sampled_movies:\n",
            "Filas eliminadas por estar completamente vacías: 0\n",
            "Filas eliminadas por duplicadas: 0\n",
            "Datos faltantes después de la limpieza:\n",
            "adult                      0\n",
            "belongs_to_collection    902\n",
            "budget                     0\n",
            "genres                     0\n",
            "homepage                 837\n",
            "id                         0\n",
            "imdb_id                    1\n",
            "original_language          0\n",
            "original_title             0\n",
            "overview                  18\n",
            "popularity                 0\n",
            "poster_path                3\n",
            "production_companies       0\n",
            "production_countries       0\n",
            "release_date               0\n",
            "revenue                    0\n",
            "runtime                    5\n",
            "spoken_languages           0\n",
            "status                     0\n",
            "tagline                  558\n",
            "title                      0\n",
            "video                      0\n",
            "vote_average               0\n",
            "vote_count                 0\n",
            "dtype: int64\n",
            "\n",
            "Limpiando sampled_ratings:\n",
            "Filas eliminadas por estar completamente vacías: 0\n",
            "Filas eliminadas por duplicadas: 0\n",
            "Datos faltantes después de la limpieza:\n",
            "userId       0\n",
            "movieId      0\n",
            "rating       0\n",
            "timestamp    0\n",
            "dtype: int64\n",
            "\n",
            "Limpiando keywords:\n",
            "Filas eliminadas por estar completamente vacías: 0\n",
            "Filas eliminadas por duplicadas: 987\n",
            "Datos faltantes después de la limpieza:\n",
            "id          0\n",
            "keywords    0\n",
            "dtype: int64\n",
            "\n",
            "Primeras filas de sampled_movies_clean:\n",
            "   adult belongs_to_collection   budget  \\\n",
            "0  False                   NaN        0   \n",
            "1  False                   NaN        0   \n",
            "2  False                   NaN  1000000   \n",
            "3  False                   NaN        0   \n",
            "4  False                   NaN        0   \n",
            "\n",
            "                                              genres  \\\n",
            "0  [{'id': 18, 'name': 'Drama'}, {'id': 35, 'name...   \n",
            "1  [{'id': 18, 'name': 'Drama'}, {'id': 35, 'name...   \n",
            "2  [{'id': 80, 'name': 'Crime'}, {'id': 18, 'name...   \n",
            "3  [{'id': 27, 'name': 'Horror'}, {'id': 10749, '...   \n",
            "4  [{'id': 35, 'name': 'Comedy'}, {'id': 18, 'nam...   \n",
            "\n",
            "                                 homepage      id    imdb_id  \\\n",
            "0  https://www.netflix.com/title/80164212  411405  tt5717492   \n",
            "1                                     NaN   42492  tt0069449   \n",
            "2                                     NaN   12143  tt0103759   \n",
            "3                                     NaN    9976  tt0380687   \n",
            "4                                     NaN   46761  tt0157044   \n",
            "\n",
            "  original_language         original_title  \\\n",
            "0                en           Small Crimes   \n",
            "1                en         Up the Sandbox   \n",
            "2                en         Bad Lieutenant   \n",
            "3                en  Satan's Little Helper   \n",
            "4                fr                 Sitcom   \n",
            "\n",
            "                                            overview  ...  release_date  \\\n",
            "0  A disgraced former cop, fresh off a six-year p...  ...    2017-04-28   \n",
            "1  A young wife and mother, bored with day-to-day...  ...    1972-12-21   \n",
            "2  While investigating a young nun's rape, a corr...  ...    1992-09-16   \n",
            "3  A naïve young boy unknowingly becomes the pawn...  ...    2004-01-01   \n",
            "4  The adventures of an upper-class suburban fami...  ...    1998-05-27   \n",
            "\n",
            "     revenue runtime                                   spoken_languages  \\\n",
            "0        0.0    95.0  [{'iso_639_1': 'en', 'name': 'English'}, {'iso...   \n",
            "1        0.0    97.0           [{'iso_639_1': 'en', 'name': 'English'}]   \n",
            "2  2019469.0    96.0  [{'iso_639_1': 'en', 'name': 'English'}, {'iso...   \n",
            "3        0.0   100.0  [{'iso_639_1': 'it', 'name': 'Italiano'}, {'is...   \n",
            "4        0.0    80.0          [{'iso_639_1': 'fr', 'name': 'Français'}]   \n",
            "\n",
            "     status                               tagline                  title  \\\n",
            "0  Released                                   NaN           Small Crimes   \n",
            "1  Released                                   NaN         Up the Sandbox   \n",
            "2  Released  Gambler. Thief. Junkie. Killer. Cop.         Bad Lieutenant   \n",
            "3  Released             You'll laugh 'til you die  Satan's Little Helper   \n",
            "4  Released                                   NaN                 Sitcom   \n",
            "\n",
            "   video vote_average vote_count  \n",
            "0  False          5.8       55.0  \n",
            "1  False          7.3        2.0  \n",
            "2  False          6.9      162.0  \n",
            "3  False          5.0       42.0  \n",
            "4  False          6.4       27.0  \n",
            "\n",
            "[5 rows x 24 columns]\n",
            "\n",
            "Primeras filas de sampled_ratings_clean:\n",
            "   userId  movieId  rating   timestamp\n",
            "0  193578      648     4.0   851538118\n",
            "1  228590     2268     3.0  1009245910\n",
            "2  210558      648     4.0  1225177426\n",
            "3   12837    47261     3.5  1324845097\n",
            "4   87243      648     3.0  1480122484\n",
            "\n",
            "Primeras filas de keywords_clean:\n",
            "      id                                           keywords\n",
            "0    862  [{'id': 931, 'name': 'jealousy'}, {'id': 4290,...\n",
            "1   8844  [{'id': 10090, 'name': 'board game'}, {'id': 1...\n",
            "2  15602  [{'id': 1495, 'name': 'fishing'}, {'id': 12392...\n",
            "3  31357  [{'id': 818, 'name': 'based on novel'}, {'id':...\n",
            "4  11862  [{'id': 1009, 'name': 'baby'}, {'id': 1599, 'n...\n"
          ]
        }
      ]
    },
    {
      "cell_type": "markdown",
      "metadata": {
        "id": "iMoR2n7yTDLE"
      },
      "source": [
        "# Exploración de Datos (EDA)"
      ]
    },
    {
      "cell_type": "markdown",
      "source": [
        "Exploramos los datos para obtener una comprensión inicial y visualizar patrones y relaciones.\n"
      ],
      "metadata": {
        "id": "JkCS90v_78oD"
      }
    },
    {
      "cell_type": "markdown",
      "source": [
        "## Estadísticas básicas y visualizaciones"
      ],
      "metadata": {
        "id": "8CQY9LXV7-z3"
      }
    },
    {
      "cell_type": "code",
      "source": [
        "# Calificaciones promedio por película\n",
        "average_ratings = sampled_ratings_clean.groupby('movieId')['rating'].mean()\n",
        "# Número de calificaciones por película\n",
        "ratings_count = sampled_ratings_clean.groupby('movieId')['rating'].count()\n",
        "\n",
        "# Estadísticas básicas\n",
        "print(\"\\nEstadísticas básicas de las calificaciones promedio por película:\")\n",
        "print(average_ratings.describe())\n",
        "\n",
        "print(\"\\nEstadísticas básicas del número de calificaciones por película:\")\n",
        "print(ratings_count.describe())\n",
        "\n",
        "# Visualización de distribuciones\n",
        "\n",
        "# Distribución de las calificaciones promedio por película\n",
        "plt.figure(figsize=(10, 4))\n",
        "sns.histplot(average_ratings, bins=50, kde=True, color='blue')\n",
        "plt.title('Distribución de Calificaciones Promedio por Película')\n",
        "plt.xlabel('Calificación Promedio')\n",
        "plt.ylabel('Número de Películas')\n",
        "plt.grid(axis='y', alpha=0.75)\n",
        "plt.show()\n",
        "\n",
        "# Distribución del número de calificaciones por película\n",
        "plt.figure(figsize=(10, 4))\n",
        "sns.histplot(ratings_count, bins=50, kde=True, color='green')\n",
        "plt.title('Distribución del Número de Calificaciones por Película')\n",
        "plt.xlabel('Número de Calificaciones')\n",
        "plt.ylabel('Número de Películas')\n",
        "plt.grid(axis='y', alpha=0.75)\n",
        "plt.show()\n",
        "\n",
        "# Relación entre el presupuesto y la calificación promedio\n",
        "movies_ratings = pd.merge(sampled_movies_clean, average_ratings.rename('average_rating'), left_on='id', right_on='movieId', how='inner')\n",
        "movies_ratings = pd.merge(movies_ratings, ratings_count.rename('ratings_count'), left_on='id', right_on='movieId', how='inner')\n",
        "\n",
        "plt.figure(figsize=(10, 6))\n",
        "sns.scatterplot(data=movies_ratings, x='budget', y='average_rating', alpha=0.6)\n",
        "plt.title('Relación entre el Presupuesto y la Calificación Promedio')\n",
        "plt.xlabel('Presupuesto')\n",
        "plt.ylabel('Calificación Promedio')\n",
        "plt.grid(True)\n",
        "plt.show()\n",
        "\n",
        "# Relación entre los ingresos y la calificación promedio\n",
        "plt.figure(figsize=(10, 6))\n",
        "sns.scatterplot(data=movies_ratings, x='revenue', y='average_rating', alpha=0.6)\n",
        "plt.title('Relación entre los Ingresos y la Calificación Promedio')\n",
        "plt.xlabel('Ingresos')\n",
        "plt.ylabel('Calificación Promedio')\n",
        "plt.grid(True)\n",
        "plt.show()\n",
        "\n",
        "# Mostrar las primeras filas del DataFrame combinado para verificar\n",
        "print(\"\\nPrimeras filas de movies_ratings:\")\n",
        "print(movies_ratings.head())"
      ],
      "metadata": {
        "colab": {
          "base_uri": "https://localhost:8080/",
          "height": 1000
        },
        "id": "pLQc9_uW79fS",
        "outputId": "ff8f396d-c4b0-4e67-e075-b608a7e66598"
      },
      "execution_count": 6,
      "outputs": [
        {
          "output_type": "stream",
          "name": "stdout",
          "text": [
            "\n",
            "Estadísticas básicas de las calificaciones promedio por película:\n",
            "count    113.000000\n",
            "mean       3.258430\n",
            "std        0.696094\n",
            "min        0.500000\n",
            "25%        3.000000\n",
            "50%        3.395349\n",
            "75%        3.750000\n",
            "max        4.500000\n",
            "Name: rating, dtype: float64\n",
            "\n",
            "Estadísticas básicas del número de calificaciones por película:\n",
            "count     113.000000\n",
            "mean       88.495575\n",
            "std       274.146862\n",
            "min         1.000000\n",
            "25%         3.000000\n",
            "50%         8.000000\n",
            "75%        43.000000\n",
            "max      2197.000000\n",
            "Name: rating, dtype: float64\n"
          ]
        },
        {
          "output_type": "display_data",
          "data": {
            "text/plain": [
              "<Figure size 1000x400 with 1 Axes>"
            ],
            "image/png": "[encoded data removed]"
          },
          "metadata": {}
        },
        {
          "output_type": "display_data",
          "data": {
            "text/plain": [
              "<Figure size 1000x400 with 1 Axes>"
            ],
            "image/png": "[encoded data removed]"
          },
          "metadata": {}
        },
        {
          "output_type": "display_data",
          "data": {
            "text/plain": [
              "<Figure size 1000x600 with 1 Axes>"
            ],
            "image/png": "[encoded data removed]"
          },
          "metadata": {}
        },
        {
          "output_type": "display_data",
          "data": {
            "text/plain": [
              "<Figure size 1000x600 with 1 Axes>"
            ],
            "image/png": "[encoded data removed]"
          },
          "metadata": {}
        },
        {
          "output_type": "stream",
          "name": "stdout",
          "text": [
            "\n",
            "Primeras filas de movies_ratings:\n",
            "   adult                              belongs_to_collection    budget  \\\n",
            "0  False                                                NaN         0   \n",
            "1  False                                                NaN         0   \n",
            "2  False                                                NaN         0   \n",
            "3  False  {'id': 123218, 'name': 'Troll Collection', 'po...         0   \n",
            "4  False                                                NaN  38000000   \n",
            "\n",
            "                                              genres  \\\n",
            "0  [{'id': 18, 'name': 'Drama'}, {'id': 53, 'name...   \n",
            "1  [{'id': 10770, 'name': 'TV Movie'}, {'id': 18,...   \n",
            "2  [{'id': 53, 'name': 'Thriller'}, {'id': 80, 'n...   \n",
            "3                     [{'id': 27, 'name': 'Horror'}]   \n",
            "4  [{'id': 35, 'name': 'Comedy'}, {'id': 10751, '...   \n",
            "\n",
            "                                 homepage     id    imdb_id original_language  \\\n",
            "0                                     NaN   5252  tt0341470                ko   \n",
            "1                                     NaN   4975  tt0119577                en   \n",
            "2  http://wip.warnerbros.com/paradisenow/     67  tt0445620                en   \n",
            "3                                     NaN  26914  tt0105643                en   \n",
            "4                                     NaN   6283  tt0119715                en   \n",
            "\n",
            "                                      original_title  \\\n",
            "0                                                 밀애   \n",
            "1  Love Is the Devil: Study for a Portrait of Fra...   \n",
            "2                                       Paradise Now   \n",
            "3                                            Troll 2   \n",
            "4                                          MouseHunt   \n",
            "\n",
            "                                            overview  ...  runtime  \\\n",
            "0  In revenge for her husband's infidelity, a you...  ...    112.0   \n",
            "1  Biography of the British painter Francis Bacon...  ...     90.0   \n",
            "2  Paradise Now is filmed from the perspective of...  ...     90.0   \n",
            "3  A young child is terrified to discover that a ...  ...     95.0   \n",
            "4  Down-on-their luck brothers, Lars and Ernie Sm...  ...     98.0   \n",
            "\n",
            "                                    spoken_languages    status  \\\n",
            "0           [{'iso_639_1': 'ko', 'name': '한국어/조선말'}]  Released   \n",
            "1           [{'iso_639_1': 'en', 'name': 'English'}]  Released   \n",
            "2  [{'iso_639_1': 'ar', 'name': 'العربية'}, {'iso...  Released   \n",
            "3           [{'iso_639_1': 'en', 'name': 'English'}]  Released   \n",
            "4           [{'iso_639_1': 'en', 'name': 'English'}]  Released   \n",
            "\n",
            "                                             tagline  \\\n",
            "0    An indecent affair, a daring love of a lifetime   \n",
            "1                                                NaN   \n",
            "2  From the most unexpected place, come a  new ca...   \n",
            "3                    The original boogeyman is back.   \n",
            "4                                 Who's hunting who?   \n",
            "\n",
            "                                               title  video  vote_average  \\\n",
            "0                                              Ardor  False           5.8   \n",
            "1  Love Is the Devil: Study for a Portrait of Fra...  False           6.7   \n",
            "2                                       Paradise Now  False           6.9   \n",
            "3                                            Troll 2  False           3.6   \n",
            "4                                          MouseHunt  False           6.2   \n",
            "\n",
            "  vote_count average_rating ratings_count  \n",
            "0        3.0       3.833333             3  \n",
            "1       19.0       3.390244           574  \n",
            "2       63.0       2.714286             7  \n",
            "3      101.0       3.250000             2  \n",
            "4      297.0       3.891304           161  \n",
            "\n",
            "[5 rows x 26 columns]\n"
          ]
        }
      ]
    },
    {
      "cell_type": "markdown",
      "metadata": {
        "id": "luD8vlZMTH4f"
      },
      "source": [
        "# Cálculo de Similitud"
      ]
    },
    {
      "cell_type": "markdown",
      "source": [
        "## Similitud de Coseno entre usuarios"
      ],
      "metadata": {
        "id": "vkd_9yxB8S-j"
      }
    },
    {
      "cell_type": "code",
      "source": [
        "# Ejemplo simplificado de cálculo de similitud de coseno entre usuarios\n",
        "from sklearn.metrics.pairwise import cosine_similarity\n",
        "\n",
        "# Crear una matriz de usuario-película\n",
        "user_movie_matrix = sampled_ratings_clean.pivot_table(index='userId', columns='movieId', values='rating').fillna(0)\n",
        "\n",
        "# Calcular la similitud de coseno entre los usuarios\n",
        "user_similarity = cosine_similarity(user_movie_matrix)\n",
        "user_similarity_df = pd.DataFrame(user_similarity, index=user_movie_matrix.index, columns=user_movie_matrix.index)\n",
        "\n",
        "print(\"Matriz de Similitud entre Usuarios:\")\n",
        "print(user_similarity_df)"
      ],
      "metadata": {
        "colab": {
          "base_uri": "https://localhost:8080/"
        },
        "id": "uwTNqRFq8VE4",
        "outputId": "36a068bf-3839-446f-c529-5df04ff355e7"
      },
      "execution_count": 7,
      "outputs": [
        {
          "output_type": "stream",
          "name": "stdout",
          "text": [
            "Matriz de Similitud entre Usuarios:\n",
            "userId  16      20      24      46      106     158     161     196     \\\n",
            "userId                                                                   \n",
            "16         1.0     0.0     0.0     0.0     0.0     0.0     0.0     0.0   \n",
            "20         0.0     1.0     0.0     0.0     0.0     0.0     0.0     0.0   \n",
            "24         0.0     0.0     1.0     0.0     0.0     0.0     0.0     0.0   \n",
            "46         0.0     0.0     0.0     1.0     0.0     0.0     0.0     0.0   \n",
            "106        0.0     0.0     0.0     0.0     1.0     0.0     0.0     0.0   \n",
            "...        ...     ...     ...     ...     ...     ...     ...     ...   \n",
            "270704     0.0     0.0     1.0     0.0     0.0     0.0     0.0     0.0   \n",
            "270729     0.0     0.0     1.0     0.0     0.0     0.0     0.0     0.0   \n",
            "270734     0.0     0.0     0.0     0.0     0.0     0.0     0.0     0.0   \n",
            "270769     0.0     0.0     0.0     0.0     0.0     0.0     0.0     0.0   \n",
            "270871     0.0     0.0     0.0     0.0     0.0     0.0     0.0     0.0   \n",
            "\n",
            "userId    212     229     ...  270564  270591  270684  270689  270690  270704  \\\n",
            "userId                    ...                                                   \n",
            "16      0.000000     0.0  ...     0.0     0.0     0.0     0.0     0.0     0.0   \n",
            "20      0.650791     0.0  ...     0.0     0.0     0.0     0.0     0.0     0.0   \n",
            "24      0.000000     0.0  ...     0.0     0.0     0.0     0.0     0.0     1.0   \n",
            "46      0.000000     0.0  ...     0.0     0.0     0.0     0.0     0.0     0.0   \n",
            "106     0.759257     0.0  ...     0.0     0.0     0.0     0.0     0.0     0.0   \n",
            "...          ...     ...  ...     ...     ...     ...     ...     ...     ...   \n",
            "270704  0.000000     0.0  ...     0.0     0.0     0.0     0.0     0.0     1.0   \n",
            "270729  0.000000     0.0  ...     0.0     0.0     0.0     0.0     0.0     1.0   \n",
            "270734  0.000000     0.0  ...     0.0     0.0     0.0     0.0     1.0     0.0   \n",
            "270769  0.000000     0.0  ...     0.0     0.0     0.0     0.0     0.0     0.0   \n",
            "270871  0.000000     0.0  ...     0.0     0.0     0.0     0.0     0.0     0.0   \n",
            "\n",
            "userId  270729  270734  270769  270871  \n",
            "userId                                  \n",
            "16         0.0     0.0     0.0     0.0  \n",
            "20         0.0     0.0     0.0     0.0  \n",
            "24         1.0     0.0     0.0     0.0  \n",
            "46         0.0     0.0     0.0     0.0  \n",
            "106        0.0     0.0     0.0     0.0  \n",
            "...        ...     ...     ...     ...  \n",
            "270704     1.0     0.0     0.0     0.0  \n",
            "270729     1.0     0.0     0.0     0.0  \n",
            "270734     0.0     1.0     0.0     0.0  \n",
            "270769     0.0     0.0     1.0     0.0  \n",
            "270871     0.0     0.0     0.0     1.0  \n",
            "\n",
            "[9316 rows x 9316 columns]\n"
          ]
        }
      ]
    },
    {
      "cell_type": "markdown",
      "source": [
        "## Combinar géneros y palabras clave"
      ],
      "metadata": {
        "id": "h7ccy3X_AgmV"
      }
    },
    {
      "cell_type": "code",
      "source": [
        "# Función para combinar géneros y palabras clave\n",
        "def combine_genres_keywords(movies_df, keywords_df):\n",
        "    keywords_dict = keywords_df.set_index('id').to_dict()['keywords']\n",
        "\n",
        "    def get_keywords(movie_id):\n",
        "        return keywords_dict.get(movie_id, '[]')\n",
        "\n",
        "    def get_combined_features(row):\n",
        "        genres = ' '.join([genre['name'] for genre in eval(row['genres'])])\n",
        "        keywords = ' '.join([keyword['name'] for keyword in eval(get_keywords(row['id']))])\n",
        "        return genres + ' ' + keywords\n",
        "\n",
        "    movies_df['combined_features'] = movies_df.apply(get_combined_features, axis=1)\n",
        "    return movies_df\n",
        "\n",
        "# Combinar géneros y palabras clave\n",
        "sampled_movies = combine_genres_keywords(sampled_movies, keywords)\n"
      ],
      "metadata": {
        "id": "PfSCrAy_Amhu"
      },
      "execution_count": 8,
      "outputs": []
    },
    {
      "cell_type": "markdown",
      "source": [
        "## Calcular similitud de contenidos"
      ],
      "metadata": {
        "id": "18ZrHvJzAy3A"
      }
    },
    {
      "cell_type": "markdown",
      "source": [
        "Usaremos TF-IDF para calcular la similitud del contenido basado en las características combinadas:"
      ],
      "metadata": {
        "id": "_6LCrHGDA4YC"
      }
    },
    {
      "cell_type": "code",
      "source": [
        "from sklearn.feature_extraction.text import TfidfVectorizer\n",
        "\n",
        "# Función para calcular la similitud de contenido\n",
        "def calculate_content_similarity(movies_df):\n",
        "    tfidf_vectorizer = TfidfVectorizer(stop_words='english')\n",
        "    tfidf_matrix = tfidf_vectorizer.fit_transform(movies_df['combined_features'])\n",
        "    content_similarity = cosine_similarity(tfidf_matrix, tfidf_matrix)\n",
        "    return pd.DataFrame(content_similarity, index=movies_df['id'], columns=movies_df['id'])\n",
        "\n",
        "# Calcular la matriz de similitud de contenido\n",
        "content_similarity_matrix = calculate_content_similarity(sampled_movies)\n",
        "\n",
        "print(content_similarity_matrix)"
      ],
      "metadata": {
        "colab": {
          "base_uri": "https://localhost:8080/"
        },
        "id": "tv83S7vjA1vQ",
        "outputId": "0385f6e4-d066-4447-cb58-c94d404faaf0"
      },
      "execution_count": 9,
      "outputs": [
        {
          "output_type": "stream",
          "name": "stdout",
          "text": [
            "id        411405    42492     12143     9976      46761     268725    62297   \\\n",
            "id                                                                             \n",
            "411405  1.000000  0.123759  0.019310  0.013678  0.284048  0.015128  0.011643   \n",
            "42492   0.123759  1.000000  0.036291  0.110521  0.435697  0.000000  0.094079   \n",
            "12143   0.019310  0.036291  1.000000  0.000000  0.015812  0.000000  0.008342   \n",
            "9976    0.013678  0.110521  0.000000  1.000000  0.048154  0.031458  0.000000   \n",
            "46761   0.284048  0.435697  0.015812  0.048154  1.000000  0.053259  0.040990   \n",
            "...          ...       ...       ...       ...       ...       ...       ...   \n",
            "63146   0.000000  0.000000  0.000000  0.000000  0.000000  0.000000  0.000000   \n",
            "11035   0.020354  0.164462  0.005968  0.018177  0.071655  0.000000  0.015472   \n",
            "43336   0.010799  0.087260  0.007738  0.000000  0.038019  0.000000  0.020059   \n",
            "295279  0.079173  0.639732  0.056728  0.000000  0.278729  0.000000  0.147060   \n",
            "185248  0.067405  0.165005  0.014632  0.000000  0.237301  0.049285  0.037931   \n",
            "\n",
            "id        184885  156145    306745  ...    49172     92298     709     \\\n",
            "id                                  ...                                 \n",
            "411405  0.124593     0.0  0.009360  ...  0.082358  0.037287  0.009702   \n",
            "42492   0.234157     0.0  0.075628  ...  0.154781  0.091277  0.000000   \n",
            "12143   0.089273     0.0  0.056369  ...  0.059010  0.008094  0.081869   \n",
            "9976    0.138643     0.0  0.037074  ...  0.000000  0.000000  0.000000   \n",
            "46761   0.102021     0.0  0.032951  ...  0.067437  0.131269  0.034155   \n",
            "...          ...     ...       ...  ...       ...       ...       ...   \n",
            "63146   0.000000     0.0  0.000000  ...  0.000000  0.000000  0.000000   \n",
            "11035   0.038510     0.0  0.012438  ...  0.025455  0.015012  0.000000   \n",
            "43336   0.049926     0.0  0.016125  ...  0.033002  0.019462  0.000000   \n",
            "295279  0.366023     0.0  0.118218  ...  0.241946  0.142680  0.000000   \n",
            "185248  0.094408     0.0  0.030492  ...  0.062405  0.283791  0.031606   \n",
            "\n",
            "id        16996     10304   63146     11035     43336     295279    185248  \n",
            "id                                                                          \n",
            "411405  0.009675  0.000000     0.0  0.020354  0.010799  0.079173  0.067405  \n",
            "42492   0.078180  0.000000     0.0  0.164462  0.087260  0.639732  0.165005  \n",
            "12143   0.000000  0.000000     0.0  0.005968  0.007738  0.056728  0.014632  \n",
            "9976    0.014627  0.031070     0.0  0.018177  0.000000  0.000000  0.000000  \n",
            "46761   0.034063  0.000000     0.0  0.071655  0.038019  0.278729  0.237301  \n",
            "...          ...       ...     ...       ...       ...       ...       ...  \n",
            "63146   0.000000  0.000000     1.0  0.000000  0.000000  0.000000  0.000000  \n",
            "11035   0.080266  0.000000     0.0  1.000000  0.014351  0.105211  0.027137  \n",
            "43336   0.000000  0.000000     0.0  0.014351  1.000000  0.136401  0.035182  \n",
            "295279  0.000000  0.000000     0.0  0.105211  0.136401  1.000000  0.257929  \n",
            "185248  0.000000  0.154867     0.0  0.027137  0.035182  0.257929  1.000000  \n",
            "\n",
            "[1000 rows x 1000 columns]\n"
          ]
        }
      ]
    },
    {
      "cell_type": "markdown",
      "metadata": {
        "id": "cOfwdBBqTJrC"
      },
      "source": [
        "# Recomendaciones"
      ]
    },
    {
      "cell_type": "markdown",
      "source": [
        "## Sistema 1: Recomendaciones basadas en calificaciones de usuarios"
      ],
      "metadata": {
        "id": "n1GNA_8PBmNT"
      }
    },
    {
      "cell_type": "code",
      "source": [
        "# Función para recomendar películas para un usuario específico\n",
        "def recommend_movies_for_user(user_id, user_movie_matrix, content_similarity_matrix, movies_df, top_n=5):\n",
        "    user_ratings = user_movie_matrix.loc[user_id]\n",
        "    watched_movies = user_ratings[user_ratings > 0].index\n",
        "    movie_scores = content_similarity_matrix.loc[watched_movies].mean()\n",
        "    movie_scores = movie_scores.drop(watched_movies)\n",
        "    top_movie_scores = movie_scores.nlargest(top_n)\n",
        "\n",
        "    recommendations = []\n",
        "    for movie_id, score in top_movie_scores.items():\n",
        "        movie_details = movies_df[movies_df['id'] == movie_id].iloc[0]\n",
        "        recommendations.append({\n",
        "            'ID': movie_id,\n",
        "            'Title': movie_details['title'],\n",
        "            'Year': movie_details['release_date'][:4],\n",
        "            'Genres': movie_details['genres'],\n",
        "            'Synopsis': movie_details['overview'],\n",
        "            'Similarity': score\n",
        "        })\n",
        "\n",
        "    return recommendations\n",
        "\n",
        "# Seleccionar un usuario\n",
        "user_id = 16\n",
        "\n",
        "# Obtener las recomendaciones\n",
        "recommended_movies = recommend_movies_for_user(user_id, user_movie_matrix, content_similarity_matrix, sampled_movies)\n",
        "\n",
        "# Mostrar las recomendaciones\n",
        "for movie in recommended_movies:\n",
        "    print(f\"ID: {movie['ID']}\")\n",
        "    print(f\"Título: {movie['Title']}\")\n",
        "    print(f\"Año de Lanzamiento: {movie['Year']}\")\n",
        "    print(f\"Género: {movie['Genres']}\")\n",
        "    print(f\"Sinopsis: {movie['Synopsis']}\")\n",
        "    print(f\"Similitud: {movie['Similarity']:.4f}\")\n",
        "    print(\"\\n\")"
      ],
      "metadata": {
        "colab": {
          "base_uri": "https://localhost:8080/"
        },
        "id": "kiV-00GiBoch",
        "outputId": "47c7f15f-7865-42e1-ffa0-7de34d5c2b0f"
      },
      "execution_count": 10,
      "outputs": [
        {
          "output_type": "stream",
          "name": "stdout",
          "text": [
            "ID: 243860\n",
            "Título: The Third Sex\n",
            "Año de Lanzamiento: 1957\n",
            "Género: [{'id': 18, 'name': 'Drama'}]\n",
            "Sinopsis: Klaus is a young man in post-war Berlin. He is drawn to his friend Manfred and, under the encouragement of their acquaintance, Dr. Winkler, explore the underground world of gay clubs and electronic music. His family begins to learn of his other life and do everything they can to set him straight.\n",
            "Similitud: 0.3434\n",
            "\n",
            "\n",
            "ID: 371942\n",
            "Título: Le nozze di Laura\n",
            "Año de Lanzamiento: 2015\n",
            "Género: [{'id': 18, 'name': 'Drama'}, {'id': 10770, 'name': 'TV Movie'}]\n",
            "Sinopsis: nan\n",
            "Similitud: 0.3253\n",
            "\n",
            "\n",
            "ID: 279984\n",
            "Título: The Defiant Ones\n",
            "Año de Lanzamiento: 1986\n",
            "Género: [{'id': 18, 'name': 'Drama'}]\n",
            "Sinopsis: Monroe and 'Joker' Johnson are two prisoners who despise each other. But after their prison transport crashes, they manage to escapechained to each other.\n",
            "Similitud: 0.3253\n",
            "\n",
            "\n",
            "ID: 393658\n",
            "Título: Tulips in Spring\n",
            "Año de Lanzamiento: 2016\n",
            "Género: [{'id': 18, 'name': 'Drama'}, {'id': 10770, 'name': 'TV Movie'}, {'id': 10749, 'name': 'Romance'}]\n",
            "Sinopsis: At Payden Farms, Rose meets Tom Novak — a handsome “flower broker” who acts as a liaison between the farm and local distributors — and discovers that the farm is faltering financially and that her parents are considering selling it to a ruthless competitor. As a last-ditch effort, Tom arranges for Frank to enter his most special tulip in an upcoming flower contest with the hopes of achieving national recognition and generating business. But when Frank’s flowers are mysteriously sabotaged, Rose struggles to find a way to get them to bloom in time for the competition. Along the way, she finds herself appreciating her humble beginnings, reconciling with Frank, and falling into a blossoming romance with Tom. With time running out, Rose must rediscover her green thumb to save her family’s farm, and decide whether she’ll find true happiness — and true love — by staying in Los Angeles or returning to her folksy hometown.\n",
            "Similitud: 0.2947\n",
            "\n",
            "\n",
            "ID: 446493\n",
            "Título: Moonlight in Vermont\n",
            "Año de Lanzamiento: 2017\n",
            "Género: [{'id': 10749, 'name': 'Romance'}, {'id': 10770, 'name': 'TV Movie'}]\n",
            "Sinopsis: After fast-paced New York City high-end real estate broker Fiona Rangely (Lacey Chabert) gets dumped by her boyfriend, she escapes to her family’s quaint Vermont Inn for a few days to slow down and evaluate her life. When her ex-boyfriend Nate shows up at the Inn with a brand new girlfriend, Fiona quickly devises a plan to win him back: pretend the handsome and very laid- back head chef Derek (Carlo Marks) is her new boyfriend! Much to the surprise of Derek --and to Fiona herself-- in pretending to be in love, she realizes that she’s been thrown a curveball: sometimes the best things in life are worth the wait.\n",
            "Similitud: 0.2798\n",
            "\n",
            "\n"
          ]
        }
      ]
    },
    {
      "cell_type": "markdown",
      "source": [
        "## Sistema 2: Recomendaciones basadas en similitud de películas"
      ],
      "metadata": {
        "id": "sgcQJ7bZ9UbC"
      }
    },
    {
      "cell_type": "code",
      "source": [
        "import pandas as pd\n",
        "import numpy as np\n",
        "from sklearn.metrics.pairwise import cosine_similarity\n",
        "\n",
        "# Matriz de usuario-película\n",
        "def get_user_movie_matrix(ratings_df):\n",
        "    return ratings_df.pivot(index='userId', columns='movieId', values='rating').fillna(0)\n",
        "\n",
        "# Función para calcular la similitud de coseno entre películas\n",
        "def calculate_movie_similarity(user_movie_matrix):\n",
        "    movie_user_matrix = user_movie_matrix.T\n",
        "    movie_similarity = cosine_similarity(movie_user_matrix)\n",
        "    return pd.DataFrame(movie_similarity, index=movie_user_matrix.index, columns=movie_user_matrix.index)\n",
        "\n",
        "# Función para obtener los géneros en formato legible\n",
        "def get_genres(genres_str):\n",
        "    try:\n",
        "        genres_list = eval(genres_str)\n",
        "        return ', '.join([genre['name'] for genre in genres_list])\n",
        "    except:\n",
        "        return 'Unknown'\n",
        "\n",
        "# Función para recomendar películas para un usuario específico\n",
        "def recommend_movies_for_user(user_id, user_movie_matrix, movie_similarity_matrix, movies_df, top_n=5):\n",
        "    user_ratings = user_movie_matrix.loc[user_id]\n",
        "    watched_movies = user_ratings[user_ratings > 0].index\n",
        "    movie_scores = movie_similarity_matrix.loc[watched_movies].mean()\n",
        "    movie_scores = movie_scores.drop(watched_movies)\n",
        "    top_movie_scores = movie_scores.nlargest(top_n)\n",
        "\n",
        "    recommendations = []\n",
        "    for movie_id, score in top_movie_scores.items():\n",
        "        movie_details = movies_df[movies_df['id'] == movie_id].iloc[0]\n",
        "        recommendations.append({\n",
        "            'ID': movie_id,\n",
        "            'Title': movie_details['title'],\n",
        "            'Year': movie_details['release_date'][:4],  # Extract year from release_date\n",
        "            'Genres': get_genres(movie_details['genres']),\n",
        "            'Synopsis': movie_details['overview'],\n",
        "            'Similarity': score\n",
        "        })\n",
        "\n",
        "    return recommendations\n",
        "\n",
        "# Crear la matriz de usuario-película\n",
        "user_movie_matrix = get_user_movie_matrix(sampled_ratings)\n",
        "\n",
        "# Calcular la matriz de similitud entre películas\n",
        "movie_similarity_matrix = calculate_movie_similarity(user_movie_matrix)\n",
        "\n",
        "# Selecciona un usuario\n",
        "user_id = 16\n",
        "\n",
        "# Obtener las recomendaciones\n",
        "recommended_movies = recommend_movies_for_user(user_id, user_movie_matrix, movie_similarity_matrix, sampled_movies)\n",
        "\n",
        "# Mostrar las recomendaciones\n",
        "for movie in recommended_movies:\n",
        "    print(f\"ID: {movie['ID']}\")\n",
        "    print(f\"Título: {movie['Title']}\")\n",
        "    print(f\"Año de Lanzamiento: {movie['Year']}\")\n",
        "    print(f\"Género: {movie['Genres']}\")\n",
        "    print(f\"Sinopsis: {movie['Synopsis']}\")\n",
        "    print(f\"Similitud: {movie['Similarity']:.4f}\")\n",
        "    print(\"\\n\")"
      ],
      "metadata": {
        "colab": {
          "base_uri": "https://localhost:8080/"
        },
        "id": "zqNAL8sR9ZJR",
        "outputId": "b2130382-cb97-42c8-b92c-53dc1b26000e"
      },
      "execution_count": 11,
      "outputs": [
        {
          "output_type": "stream",
          "name": "stdout",
          "text": [
            "ID: 26914\n",
            "Título: Troll 2\n",
            "Año de Lanzamiento: 1990\n",
            "Género: Horror\n",
            "Sinopsis: A young child is terrified to discover that a planned family trip is to be haunted by vile plant-eating monsters out of his worst nightmare...\n",
            "Similitud: 0.0401\n",
            "\n",
            "\n",
            "ID: 55955\n",
            "Título: My Son the Fanatic\n",
            "Año de Lanzamiento: 1997\n",
            "Género: Drama, Comedy, Foreign\n",
            "Sinopsis: Pakistani taxi-driver Parvez and prostitute Bettina find themselves trapped in the middle when Islamic fundamentalists decide to clean up their local town.\n",
            "Similitud: 0.0227\n",
            "\n",
            "\n",
            "ID: 43899\n",
            "Título: David Copperfield\n",
            "Año de Lanzamiento: 1935\n",
            "Género: Adventure, Drama, Romance\n",
            "Sinopsis: Charles Dickens' classic tale of an orphaned boy's fight for happiness and the colorful characters who help and hinder him.\n",
            "Similitud: 0.0193\n",
            "\n",
            "\n",
            "ID: 74436\n",
            "Título: The World in His Arms\n",
            "Año de Lanzamiento: 1952\n",
            "Género: Adventure, Action, Romance\n",
            "Sinopsis: Gregory Peck is a boisterous sea captain in the Pacific Coast, circa 1850, who has a plan to buy Alaska from the Russians… if they don’t kill him first.\n",
            "Similitud: 0.0183\n",
            "\n",
            "\n",
            "ID: 253\n",
            "Título: Live and Let Die\n",
            "Año de Lanzamiento: 1973\n",
            "Género: Adventure, Action, Thriller\n",
            "Sinopsis: James Bond must investigate a mysterious murder case of a British agent in New Orleans. Soon he finds himself up against a gangster boss named Mr. Big.\n",
            "Similitud: 0.0139\n",
            "\n",
            "\n"
          ]
        }
      ]
    },
    {
      "cell_type": "markdown",
      "source": [
        "## Sistema 3: Híbrido"
      ],
      "metadata": {
        "id": "Z7YkVksmhsQI"
      }
    },
    {
      "cell_type": "code",
      "source": [
        "import pandas as pd\n",
        "import numpy as np\n",
        "from sklearn.feature_extraction.text import TfidfVectorizer\n",
        "from sklearn.metrics.pairwise import cosine_similarity\n",
        "\n",
        "# Función para combinar géneros y palabras clave\n",
        "def combine_genres_keywords(movies_df, keywords_df):\n",
        "    keywords_dict = keywords_df.set_index('id').to_dict()['keywords']\n",
        "\n",
        "    def get_keywords(movie_id):\n",
        "        return keywords_dict.get(movie_id, '[]')\n",
        "\n",
        "    def get_combined_features(row):\n",
        "        genres = ' '.join([genre['name'] for genre in eval(row['genres'])])\n",
        "        keywords = ' '.join([keyword['name'] for keyword in eval(get_keywords(row['id']))])\n",
        "        return genres + ' ' + keywords\n",
        "\n",
        "    movies_df['combined_features'] = movies_df.apply(get_combined_features, axis=1)\n",
        "    return movies_df\n",
        "\n",
        "# Función para calcular la similitud de contenido\n",
        "def calculate_content_similarity(movies_df):\n",
        "    tfidf_vectorizer = TfidfVectorizer(stop_words='english')\n",
        "    tfidf_matrix = tfidf_vectorizer.fit_transform(movies_df['combined_features'])\n",
        "    content_similarity = cosine_similarity(tfidf_matrix, tfidf_matrix)\n",
        "    return pd.DataFrame(content_similarity, index=movies_df['id'], columns=movies_df['id'])\n",
        "\n",
        "# Función para crear la matriz de usuario-película\n",
        "def get_user_movie_matrix(ratings_df):\n",
        "    return ratings_df.pivot(index='userId', columns='movieId', values='rating').fillna(0)\n",
        "\n",
        "# Función para calcular la similitud de coseno entre películas\n",
        "def calculate_movie_similarity(user_movie_matrix):\n",
        "    movie_user_matrix = user_movie_matrix.T\n",
        "    movie_similarity = cosine_similarity(movie_user_matrix)\n",
        "    return pd.DataFrame(movie_similarity, index=movie_user_matrix.index, columns=movie_user_matrix.index)\n",
        "\n",
        "# Función para calcular la similitud híbrida\n",
        "def calculate_hybrid_similarity(content_similarity_matrix, movie_similarity_matrix, alpha=0.5):\n",
        "    hybrid_similarity = alpha * content_similarity_matrix + (1 - alpha) * movie_similarity_matrix\n",
        "    return hybrid_similarity\n",
        "\n",
        "# Función para obtener los géneros en formato legible\n",
        "def get_genres(genres_str):\n",
        "    try:\n",
        "        genres_list = eval(genres_str)\n",
        "        return ', '.join([genre['name'] for genre in genres_list])\n",
        "    except:\n",
        "        return 'Unknown'\n",
        "\n",
        "# Función para recomendar películas para un usuario específico\n",
        "def recommend_movies_for_user(user_id, user_movie_matrix, hybrid_similarity_matrix, movies_df, top_n=10):\n",
        "    user_ratings = user_movie_matrix.loc[user_id]\n",
        "    watched_movies = user_ratings[user_ratings > 0].index\n",
        "    movie_scores = hybrid_similarity_matrix.loc[watched_movies].mean()\n",
        "    movie_scores = movie_scores.drop(watched_movies)\n",
        "    top_movie_scores = movie_scores.nlargest(top_n)\n",
        "\n",
        "    recommendations = []\n",
        "    for movie_id, score in top_movie_scores.items():\n",
        "        movie_details = movies_df[movies_df['id'] == movie_id].iloc[0]\n",
        "        recommendations.append({\n",
        "            'ID': movie_id,\n",
        "            'Title': movie_details['title'],\n",
        "            'Year': movie_details['release_date'][:4],\n",
        "            'Genres': get_genres(movie_details['genres']),\n",
        "            'Synopsis': movie_details['overview'],\n",
        "            'Similarity': score\n",
        "        })\n",
        "\n",
        "    return recommendations\n",
        "\n",
        "# Combinar géneros y palabras clave\n",
        "sampled_movies = combine_genres_keywords(sampled_movies, keywords)\n",
        "\n",
        "# Calcular la matriz de similitud de contenido\n",
        "content_similarity_matrix = calculate_content_similarity(sampled_movies)\n",
        "\n",
        "# Crear la matriz de usuario-película\n",
        "user_movie_matrix = get_user_movie_matrix(sampled_ratings)\n",
        "\n",
        "# Calcular la matriz de similitud entre películas\n",
        "movie_similarity_matrix = calculate_movie_similarity(user_movie_matrix)\n",
        "\n",
        "# Calcular la matriz de similitud híbrida\n",
        "hybrid_similarity_matrix = calculate_hybrid_similarity(content_similarity_matrix, movie_similarity_matrix)\n",
        "\n",
        "# Seleccionar un usuario\n",
        "user_id = 16\n",
        "\n",
        "# Obtener las recomendaciones\n",
        "recommended_movies = recommend_movies_for_user(user_id, user_movie_matrix, hybrid_similarity_matrix, sampled_movies)\n",
        "\n",
        "# Mostrar las recomendaciones\n",
        "for movie in recommended_movies:\n",
        "    print(f\"ID: {movie['ID']}\")\n",
        "    print(f\"Título: {movie['Title']}\")\n",
        "    print(f\"Año de Lanzamiento: {movie['Year']}\")\n",
        "    print(f\"Género: {movie['Genres']}\")\n",
        "    print(f\"Sinopsis: {movie['Synopsis']}\")\n",
        "    print(f\"Similitud: {movie['Similarity']:.4f}\")\n",
        "    print(\"\\n\")\n"
      ],
      "metadata": {
        "colab": {
          "base_uri": "https://localhost:8080/"
        },
        "id": "hYjr1Bzahuv_",
        "outputId": "231c2aad-11ee-4033-cb12-e27e064d32d2"
      },
      "execution_count": 49,
      "outputs": [
        {
          "output_type": "stream",
          "name": "stdout",
          "text": [
            "ID: 2312\n",
            "Título: In the Name of the King: A Dungeon Siege Tale\n",
            "Año de Lanzamiento: 2007\n",
            "Género: Adventure, Fantasy, Action, Drama\n",
            "Sinopsis: A man named Farmer sets out to rescue his kidnapped wife and avenge the death of his son -- two acts committed by the Krugs, a race of animal-warriors who are controlled by the evil Gallian.\n",
            "Similitud: 0.1070\n",
            "\n",
            "\n",
            "ID: 439\n",
            "Título: La Dolce Vita\n",
            "Año de Lanzamiento: 1960\n",
            "Género: Comedy, Drama\n",
            "Sinopsis: Episodic journey of an Italian journalist scouring Rome in search of love.\n",
            "Similitud: 0.0912\n",
            "\n",
            "\n",
            "ID: 383\n",
            "Título: Mala Noche\n",
            "Año de Lanzamiento: 1986\n",
            "Género: Drama\n",
            "Sinopsis: Mala Noche is the film debut from director Gus van Sant. The film portrays the unanswered love of an American man toward a young Mexican man.\n",
            "Similitud: 0.0844\n",
            "\n",
            "\n",
            "ID: 4808\n",
            "Título: Charade\n",
            "Año de Lanzamiento: 1963\n",
            "Género: Comedy, Mystery, Romance, Thriller\n",
            "Sinopsis: After Regina Lampert falls for the dashing Peter Joshua on a skiing holiday in the French Alps, she discovers upon her return to Paris that her husband has been murdered. Soon, she and Peter are giving chase to three of her late husband's World War II cronies, Tex, Scobie and Gideon, who are after a quarter of a million dollars the quartet stole while behind enemy lines. But why does Peter keep changing his name?\n",
            "Similitud: 0.0820\n",
            "\n",
            "\n",
            "ID: 47477\n",
            "Título: The Beast\n",
            "Año de Lanzamiento: 1996\n",
            "Género: Action, Drama, Horror, Thriller\n",
            "Sinopsis: Fishing and jobs are becoming scarce in the small seaport village of Graves Point, when mysterious deaths and unexplained disappearances begin to occur. Divers vanish and a young couple disappears at sea, their empty raft washing up on the shore. When a large, strange claw is discovered on the raft, the unsettled towns-people call on the marine biologist Dr. Herbert Talley (Ronald Guttman), who identifies it as belonging to a rare giant squid. With the help of Whip Dalton, the hunt is on! It becomes a battle of wills between Dalton and Talley as they try to locate the Beast, without the Beast getting them.\n",
            "Similitud: 0.0740\n",
            "\n",
            "\n",
            "ID: 5252\n",
            "Título: Ardor\n",
            "Año de Lanzamiento: 2002\n",
            "Género: Drama, Thriller\n",
            "Sinopsis: In revenge for her husband's infidelity, a young beautiful housewife, Mi-heun, starts an affair with an attractive young doctor, In-gyu. Despite her husband's efforts to regain her love and the disapproval by the conservative little town, Mi-huen gradually finds happiness and satisfaction in the affair and decides to turn her back on her quiet life.\n",
            "Similitud: 0.0600\n",
            "\n",
            "\n",
            "ID: 5413\n",
            "Título: Omagh\n",
            "Año de Lanzamiento: 2004\n",
            "Género: Drama\n",
            "Sinopsis: The movie starts at the 1998 bomb attack by the Real IRA at Omagh, Northern Ireland. The attack killed 31 people. Michael Gallagher one of the relatives of the victims starts an examination to bring the people responsible to court.\n",
            "Similitud: 0.0573\n",
            "\n",
            "\n",
            "ID: 2013\n",
            "Título: The Diving Bell and the Butterfly\n",
            "Año de Lanzamiento: 2007\n",
            "Género: Drama\n",
            "Sinopsis: Elle France editor Jean-Dominique Bauby, who, in 1995 at the age of 43, suffered a stroke that paralyzed his entire body, except his left eye. Using that eye to blink out his memoir, Bauby eloquently described the aspects of his interior world, from the psychological torment of being trapped inside his body to his imagined stories from lands he'd only visited in his mind.\n",
            "Similitud: 0.0545\n",
            "\n",
            "\n",
            "ID: 26606\n",
            "Título: Performance\n",
            "Año de Lanzamiento: 1970\n",
            "Género: Crime, Drama, Music\n",
            "Sinopsis: A young gangster Chas Devlin (James Fox) seeks refuge from the mob in a basement belonging to a reclusive, fading rock star Turner (Mick Jagger). In 'underworld' terms, Chas is a 'performer', a gangster with a talent for violence and intimidation. After taking a trip, he begins to cross dress and experiment with his sexuality. The directorial debut of Nicolas Roeg explores both the liberating impulses and threat of anarchy which provided the twin motors of the 'Swinging Sixties'.\n",
            "Similitud: 0.0541\n",
            "\n",
            "\n",
            "ID: 55955\n",
            "Título: My Son the Fanatic\n",
            "Año de Lanzamiento: 1997\n",
            "Género: Drama, Comedy, Foreign\n",
            "Sinopsis: Pakistani taxi-driver Parvez and prostitute Bettina find themselves trapped in the middle when Islamic fundamentalists decide to clean up their local town.\n",
            "Similitud: 0.0538\n",
            "\n",
            "\n"
          ]
        }
      ]
    },
    {
      "cell_type": "markdown",
      "metadata": {
        "id": "qAzu_bxxTLLy"
      },
      "source": [
        "# Evaluación del Sistema: Métricas de Evaluación"
      ]
    },
    {
      "cell_type": "markdown",
      "source": [
        "Las métricas de evaluación son herramientas fundamentales en el campo de la recomendación de sistemas. Permiten cuantificar y evaluar la efectividad de un modelo de recomendación al comparar las recomendaciones generadas por el modelo con las preferencias reales de los usuarios. Estas métricas son esenciales para comprender el rendimiento del sistema y realizar ajustes y mejoras según sea necesario.\n",
        "\n",
        "A continuación, explicaré cada una de las métricas utilizadas en el contexto de evaluación de sistemas de recomendación, cómo se aplican en el modelo unificado que tenemos y qué información proporcionan sobre el rendimiento del sistema."
      ],
      "metadata": {
        "id": "8xNedGfioEqQ"
      }
    },
    {
      "cell_type": "markdown",
      "source": [
        "## Precision@K"
      ],
      "metadata": {
        "id": "L126vHi7jtP3"
      }
    },
    {
      "cell_type": "markdown",
      "source": [
        "La métrica de precisión en K (Precision@K) mide la proporción de elementos relevantes entre las K recomendaciones generadas por el sistema. Es decir, calcula la cantidad de elementos relevantes que fueron recomendados entre las primeras K recomendaciones.\n",
        "\n",
        "En nuestro modelo unificado, Precision@K nos proporciona información sobre la calidad de las recomendaciones en términos de relevancia. Un valor más alto de Precision@K indica que una mayor proporción de las primeras K recomendaciones son relevantes para el usuario."
      ],
      "metadata": {
        "id": "_U0dCqgGxtpO"
      }
    },
    {
      "cell_type": "markdown",
      "source": [
        "- relevant_items: Es una lista que contiene los ítems relevantes para el usuario. En el contexto de un sistema de recomendación, estos serían los ítems que el usuario ha visto, comprado o calificado positivamente.\n",
        "\n",
        "- recommended_items: Es una lista que contiene los ítems recomendados por el sistema de recomendación para el usuario. Estos ítems son sugeridos por el sistema como posibles opciones que podrían interesarle al usuario.\n",
        "\n",
        "La función \"precision_at_k\" calcula la precisión de las recomendaciones en el conjunto de los primeros 'k' elementos de la lista de recomendaciones. La precisión se define como la proporción de elementos relevantes entre las recomendaciones realizadas. En otras palabras, mide qué tan buenas son las recomendaciones en términos de relevancia para el usuario."
      ],
      "metadata": {
        "id": "_ECIBn-p3FZO"
      }
    },
    {
      "cell_type": "markdown",
      "source": [
        "Estamos utilizando la semilla aleatoria (random.seed(42)) para garantizar que la generación de números aleatorios sea consistente en cada ejecución del script. Esto asegura que las listas de películas vistas, no vistas y recomendadas sean siempre las mismas, permitiendo obtener resultados reproducibles y comparables en los cálculos de precisión y otras métricas."
      ],
      "metadata": {
        "id": "6ig9ndGoEDd3"
      }
    },
    {
      "cell_type": "code",
      "source": [
        "import random\n",
        "\n",
        "# Fijar la semilla aleatoria para obtener resultados consistentes\n",
        "random.seed(42)\n",
        "\n",
        "def simulate_user_movies(total_movies, viewed_count=5):\n",
        "    viewed_movies = random.sample(range(1, total_movies + 1), viewed_count)\n",
        "    all_movies = set(range(1, total_movies + 1))\n",
        "    not_viewed_movies = list(all_movies - set(viewed_movies))\n",
        "    not_viewed_movies = random.sample(not_viewed_movies, viewed_count)\n",
        "\n",
        "    return viewed_movies, not_viewed_movies\n",
        "\n",
        "def precision_at_k(relevant_items, recommended_items, k):\n",
        "    relevant_and_recommended = set(relevant_items) & set(recommended_items[:k])\n",
        "    return len(relevant_and_recommended) / k if k != 0 else 0\n",
        "\n",
        "# Ejemplo de uso con 10 películas totales (para simplificar el ejemplo)\n",
        "total_movies = 10\n",
        "viewed_movies, not_viewed_movies = simulate_user_movies(total_movies)\n",
        "\n",
        "# Simular películas recomendadas (aquí se usarían tus algoritmos de recomendación)\n",
        "recommended_movies = random.sample(range(1, total_movies + 1), 10)\n",
        "\n",
        "precision_5 = precision_at_k(viewed_movies, recommended_movies, 5)\n",
        "print(\"Precision@5:\", precision_5)"
      ],
      "metadata": {
        "colab": {
          "base_uri": "https://localhost:8080/"
        },
        "id": "TOY0GVOoDYLz",
        "outputId": "f5338ada-6453-47de-a4e7-3b388cd57456"
      },
      "execution_count": 50,
      "outputs": [
        {
          "output_type": "stream",
          "name": "stdout",
          "text": [
            "Precision@5: 0.8\n"
          ]
        }
      ]
    },
    {
      "cell_type": "markdown",
      "source": [
        "El resultado obtenido de Precision@5 con un valor de 0.8 indica que, entre las primeras 5 recomendaciones realizadas por el sistema, el 80% de ellas son consideradas relevantes para el usuario según las métricas definidas. Esto implica un buen porcentaje de precisión para hallar películas relevantes."
      ],
      "metadata": {
        "id": "Y20M8uiT0P-u"
      }
    },
    {
      "cell_type": "markdown",
      "source": [
        "## Recall@K"
      ],
      "metadata": {
        "id": "9LQx83nRjvft"
      }
    },
    {
      "cell_type": "markdown",
      "source": [
        "El recall en K (Recall@K) mide la proporción de elementos relevantes recomendados entre todos los elementos relevantes disponibles. Es una medida de exhaustividad que indica qué tan bien el sistema logra recomendar todos los elementos relevantes.\n",
        "\n",
        "En nuestro modelo, Recall@K nos da una idea de cuántos de los elementos relevantes se recomendaron entre las primeras K recomendaciones. Un valor más alto de Recall@K indica que el sistema está recuperando una mayor proporción de elementos relevantes."
      ],
      "metadata": {
        "id": "DjoV04Chx3dL"
      }
    },
    {
      "cell_type": "markdown",
      "source": [
        "En el código, la función \"recall_at_k\" toma como entrada dos listas: relevant_items (elementos relevantes) y recommended_items (elementos recomendados). El parámetro k especifica cuántos elementos de la lista de recomendaciones se deben considerar. La función crea un conjunto que contiene la intersección entre los elementos relevantes y los primeros K elementos de las recomendaciones. Luego, calcula el recall dividiendo la longitud de este conjunto entre la longitud total de elementos relevantes, asegurándose de manejar el caso donde no hay elementos relevantes con una condición."
      ],
      "metadata": {
        "id": "gmmaJ2TT6aII"
      }
    },
    {
      "cell_type": "code",
      "source": [
        "import random\n",
        "\n",
        "# Establecer la semilla aleatoria para reproducibilidad\n",
        "random.seed(42)\n",
        "\n",
        "def simulate_user_movies(total_movies, viewed_count=5):\n",
        "    viewed_movies = random.sample(range(1, total_movies + 1), viewed_count)\n",
        "    all_movies = set(range(1, total_movies + 1))\n",
        "    not_viewed_movies = list(all_movies - set(viewed_movies))\n",
        "    not_viewed_movies = random.sample(not_viewed_movies, viewed_count)\n",
        "\n",
        "    return viewed_movies, not_viewed_movies\n",
        "\n",
        "def recall_at_k(relevant_items, recommended_items, k):\n",
        "    relevant_and_recommended = set(relevant_items) & set(recommended_items[:k])\n",
        "    return len(relevant_and_recommended) / len(relevant_items) if len(relevant_items) != 0 else 0\n",
        "\n",
        "# Ejemplo de uso con 10 películas totales (para simplificar el ejemplo)\n",
        "total_movies = 10\n",
        "viewed_movies, not_viewed_movies = simulate_user_movies(total_movies)\n",
        "\n",
        "# Simular películas recomendadas (aquí se usarían tus algoritmos de recomendación)\n",
        "recommended_movies = random.sample(range(1, total_movies + 1), 10)\n",
        "\n",
        "# Calcular Recall@5\n",
        "recall_5 = recall_at_k(viewed_movies, recommended_movies, 5)\n",
        "\n",
        "print(\"Recall@5:\", recall_5)"
      ],
      "metadata": {
        "colab": {
          "base_uri": "https://localhost:8080/"
        },
        "id": "t0IfNaevjwjB",
        "outputId": "7c9c4dac-4330-475b-e4d9-c2a3711b8dd3"
      },
      "execution_count": 51,
      "outputs": [
        {
          "output_type": "stream",
          "name": "stdout",
          "text": [
            "Recall@5: 0.8\n"
          ]
        }
      ]
    },
    {
      "cell_type": "markdown",
      "source": [
        "al obtener un valor de Recall@5 de 0.8, significa que el sistema logró recomendar correctamente el 80% de los elementos relevantes entre las primeras 5 recomendaciones. Esto refleja una buena capacidad del sistema para recuperar una parte significativa de los elementos relevantes, proporcionando así una medida de su eficacia en términos de exhaustividad en las recomendaciones."
      ],
      "metadata": {
        "id": "volGNPnazP-o"
      }
    },
    {
      "cell_type": "markdown",
      "source": [
        "## F1-Score"
      ],
      "metadata": {
        "id": "laLtXFY_jxQY"
      }
    },
    {
      "cell_type": "markdown",
      "source": [
        "El F1-Score combina la precisión y el recall en una sola métrica. Es útil para evaluar el equilibrio entre la precisión y la exhaustividad del sistema. Se calcula como la media armónica de la precisión y el recall.\n",
        "\n",
        "En nuestro modelo, el F1-Score nos proporciona una evaluación más completa al tener en cuenta tanto la precisión como el recall. Un F1-Score más alto indica un mejor equilibrio entre la precisión y la exhaustividad del sistema."
      ],
      "metadata": {
        "id": "d90haQUjx9NS"
      }
    },
    {
      "cell_type": "code",
      "source": [
        "def f1_score(precision, recall):\n",
        "    \"\"\"\n",
        "    Calcula el F1-Score dado la precisión y el recall.\n",
        "\n",
        "    Args:\n",
        "        precision (float): La precisión de las recomendaciones.\n",
        "        recall (float): El recall de las recomendaciones.\n",
        "\n",
        "    Returns:\n",
        "        float: El F1-Score calculado.\n",
        "    \"\"\"\n",
        "    if precision + recall == 0:\n",
        "        return 0\n",
        "    return 2 * (precision * recall) / (precision + recall)\n",
        "\n",
        "# Calcular el F1-Score del sistema\n",
        "f1 = f1_score(precision_5, recall_5)\n",
        "print(\"F1-Score:\", f1)"
      ],
      "metadata": {
        "colab": {
          "base_uri": "https://localhost:8080/"
        },
        "id": "rbWvv0UZjyaK",
        "outputId": "d7c47960-11a5-4d94-fa30-d3e579895404"
      },
      "execution_count": 61,
      "outputs": [
        {
          "output_type": "stream",
          "name": "stdout",
          "text": [
            "F1-Score: 0.8000000000000002\n"
          ]
        }
      ]
    },
    {
      "cell_type": "markdown",
      "source": [
        "El F1-Score obtenido es 0.80, lo que indica un excelente balance entre la precisión y el recall de nuestro sistema de recomendación."
      ],
      "metadata": {
        "id": "sk2NPea4zSVz"
      }
    },
    {
      "cell_type": "markdown",
      "source": [
        "## Mean Average Precision (MAP)"
      ],
      "metadata": {
        "id": "BBrZxrFijzTX"
      }
    },
    {
      "cell_type": "markdown",
      "source": [
        "La precisión promedio media (MAP) mide la precisión promedio a diferentes niveles de K. Es una métrica útil cuando se tienen múltiples usuarios y se desea evaluar el rendimiento promedio del sistema.\n",
        "\n",
        "En nuestro modelo, MAP proporciona una evaluación global del rendimiento de las recomendaciones para múltiples usuarios. Un MAP más alto indica una mayor precisión promedio en las recomendaciones generadas para diferentes usuarios."
      ],
      "metadata": {
        "id": "rB31JxDCx_xb"
      }
    },
    {
      "cell_type": "code",
      "source": [
        "def average_precision_at_k(relevant_items, recommended_items, k):\n",
        "    num_relevant_items = 0\n",
        "    precision_at_k = 0.0\n",
        "\n",
        "    for i, item in enumerate(recommended_items[:k]):\n",
        "        if item in relevant_items:\n",
        "            num_relevant_items += 1\n",
        "            precision_at_k += num_relevant_items / (i + 1)  # Calcula la precisión acumulativa\n",
        "\n",
        "    if not relevant_items:\n",
        "        return 0.0\n",
        "    else:\n",
        "        return precision_at_k / min(len(relevant_items), k)  # Divide por el mínimo entre k y el número total de items relevantes\n",
        "\n",
        "def mean_average_precision(relevant_items_list, recommended_items_list, k):\n",
        "    average_precisions = []\n",
        "\n",
        "    for relevant_items, recommended_items in zip(relevant_items_list, recommended_items_list):\n",
        "        ap_at_k = average_precision_at_k(relevant_items, recommended_items, k)\n",
        "        average_precisions.append(ap_at_k)\n",
        "\n",
        "    return np.mean(average_precisions)  # Calcula la media de todas las precisiones promedio\n",
        "\n",
        "# Ejemplo de uso\n",
        "k = 5  # Definir el valor de K\n",
        "map_score = mean_average_precision(relevant_items_list, recommended_items_list, k)\n",
        "print(\"MAP@{}: {:.4f}\".format(k, map_score))\n"
      ],
      "metadata": {
        "colab": {
          "base_uri": "https://localhost:8080/"
        },
        "id": "ya5E1AwVj1lZ",
        "outputId": "6fd39b60-85bf-4150-9185-4c44ea9e652d"
      },
      "execution_count": 76,
      "outputs": [
        {
          "output_type": "stream",
          "name": "stdout",
          "text": [
            "MAP@5: 0.0792\n"
          ]
        }
      ]
    },
    {
      "cell_type": "markdown",
      "source": [
        "Un MAP@5 de 0.0792 indica que el sistema de recomendación está logrando una precisión promedio bastante decente al considerar los primeros 5 elementos recomendados para cada usuario. Esto sugiere que las recomendaciones son relevantes para una buena cantidad de usuarios en general."
      ],
      "metadata": {
        "id": "9v2zlvIPQIJH"
      }
    },
    {
      "cell_type": "markdown",
      "source": [
        "# Sistema funcional"
      ],
      "metadata": {
        "id": "JDOc937Di6Jk"
      }
    },
    {
      "cell_type": "code",
      "source": [
        "import pandas as pd\n",
        "from sklearn.feature_extraction.text import TfidfVectorizer\n",
        "from sklearn.metrics.pairwise import cosine_similarity\n",
        "from IPython.display import display, HTML, Image\n",
        "\n",
        "# Función para combinar géneros y palabras clave\n",
        "def combine_genres_keywords(movies_df, keywords_df):\n",
        "    keywords_dict = dict(zip(keywords_df['id'], keywords_df['keywords']))\n",
        "\n",
        "    def get_keywords(movie_id):\n",
        "        return keywords_dict.get(movie_id, '[]')\n",
        "\n",
        "    def get_combined_features(row):\n",
        "        genres = ' '.join([genre['name'] for genre in eval(row['genres'])])\n",
        "        keywords = ' '.join([keyword['name'] for keyword in eval(get_keywords(row['id']))])\n",
        "        return genres + ' ' + keywords\n",
        "\n",
        "    movies_df['combined_features'] = movies_df.apply(get_combined_features, axis=1)\n",
        "    return movies_df\n",
        "\n",
        "# Función para calcular la similitud de contenido\n",
        "def calculate_content_similarity(movies_df):\n",
        "    tfidf_vectorizer = TfidfVectorizer(stop_words='english')\n",
        "    tfidf_matrix = tfidf_vectorizer.fit_transform(movies_df['combined_features'])\n",
        "    content_similarity = cosine_similarity(tfidf_matrix)\n",
        "    return pd.DataFrame(content_similarity, index=movies_df['id'], columns=movies_df['id'])\n",
        "\n",
        "# Función para calcular la similitud híbrida optimizada\n",
        "def calculate_hybrid_similarity(content_similarity_matrix, movie_similarity_matrix, alpha=0.7):\n",
        "    hybrid_similarity = alpha * content_similarity_matrix + (1 - alpha) * movie_similarity_matrix\n",
        "    return hybrid_similarity\n",
        "\n",
        "# Función para recomendar películas para un usuario específico\n",
        "def recommend_movies_for_user(user_id, user_movie_matrix, content_similarity_matrix, movies_df, top_n=5):\n",
        "    if user_id not in user_movie_matrix.index:\n",
        "        return f\"Usuario {user_id} no encontrado.\"\n",
        "\n",
        "    user_ratings = user_movie_matrix.loc[user_id]\n",
        "    watched_movies = user_ratings[user_ratings > 0].index\n",
        "    movie_scores = content_similarity_matrix.loc[watched_movies].mean()\n",
        "    movie_scores = movie_scores.drop(watched_movies)\n",
        "    top_movie_scores = movie_scores.nlargest(top_n)\n",
        "\n",
        "    recommendations = []\n",
        "    for movie_id, score in top_movie_scores.items():\n",
        "        movie_details = movies_df[movies_df['id'] == movie_id].iloc[0]\n",
        "        genres = ', '.join([genre['name'] for genre in eval(movie_details['genres'])])\n",
        "        recommendations.append({\n",
        "            'ID': movie_id,\n",
        "            'Title': movie_details['title'],\n",
        "            'Year': movie_details['release_date'][:4],\n",
        "            'Genres': genres,\n",
        "            'Synopsis': movie_details['overview'],\n",
        "            'Poster': movie_details['poster_path'],  # URL del póster\n",
        "            'Similarity': score\n",
        "        })\n",
        "\n",
        "    return recommendations\n",
        "\n",
        "# Función para mostrar las recomendaciones\n",
        "def display_recommendations(user_id, recommended_movies):\n",
        "    if isinstance(recommended_movies, str):\n",
        "        print(recommended_movies)\n",
        "    else:\n",
        "        recommendations_df = pd.DataFrame(recommended_movies)\n",
        "        display(HTML(f\"<h3>Recomendaciones para el usuario {user_id}</h3>\"))\n",
        "        display(recommendations_df[['ID', 'Title', 'Year', 'Genres', 'Synopsis', 'Similarity']])\n",
        "\n",
        "# Consulta de recomendaciones\n",
        "while True:\n",
        "    user_id = int(input(\"Ingrese el ID del usuario: \"))\n",
        "    if user_id in user_movie_matrix.index:\n",
        "        recommended_movies = recommend_movies_for_user(user_id, user_movie_matrix, hybrid_similarity_matrix, sampled_movies, top_n=5)\n",
        "        display_recommendations(user_id, recommended_movies)\n",
        "\n",
        "        choice = input(\"¿Consultar recomendaciones para otro usuario? (y/n): \").lower()\n",
        "        if choice == 'n':\n",
        "            break\n",
        "        elif choice != 'y':\n",
        "            print(\"Valor incorrecto. Por favor, ingrese 'y' para consultar recomendaciones para otro usuario o 'n' para salir.\")\n",
        "    else:\n",
        "        print(f\"Usuario {user_id} no encontrado. Intenta de nuevo.\")\n"
      ],
      "metadata": {
        "colab": {
          "base_uri": "https://localhost:8080/",
          "height": 644
        },
        "id": "UnBC5Hu6oEA_",
        "outputId": "301ba848-b906-45dd-bbe0-436273a3b186"
      },
      "execution_count": null,
      "outputs": [
        {
          "name": "stdout",
          "output_type": "stream",
          "text": [
            "Ingrese el ID del usuario: 5665\n",
            "Usuario 5665 no encontrado. Intenta de nuevo.\n",
            "Ingrese el ID del usuario: 16\n"
          ]
        },
        {
          "output_type": "display_data",
          "data": {
            "text/plain": [
              "<IPython.core.display.HTML object>"
            ],
            "text/html": [
              "<h3>Recomendaciones para el usuario 16</h3>"
            ]
          },
          "metadata": {}
        },
        {
          "output_type": "display_data",
          "data": {
            "text/plain": [
              "      ID                                          Title  Year  \\\n",
              "0   2312  In the Name of the King: A Dungeon Siege Tale  2007   \n",
              "1    439                                  La Dolce Vita  1960   \n",
              "2    383                                     Mala Noche  1986   \n",
              "3   4808                                        Charade  1963   \n",
              "4  47477                                      The Beast  1996   \n",
              "\n",
              "                               Genres  \\\n",
              "0   Adventure, Fantasy, Action, Drama   \n",
              "1                       Comedy, Drama   \n",
              "2                               Drama   \n",
              "3  Comedy, Mystery, Romance, Thriller   \n",
              "4     Action, Drama, Horror, Thriller   \n",
              "\n",
              "                                            Synopsis  Similarity  \n",
              "0  A man named Farmer sets out to rescue his kidn...    0.107033  \n",
              "1  Episodic journey of an Italian journalist scou...    0.091206  \n",
              "2  Mala Noche is the film debut from director Gus...    0.084426  \n",
              "3  After Regina Lampert falls for the dashing Pet...    0.081968  \n",
              "4  Fishing and jobs are becoming scarce in the sm...    0.073958  "
            ],
            "text/html": [
              "\n",
              "  <div id=\"df-7af782f9-c5d2-43bb-b7f5-9caae3a928d6\" class=\"colab-df-container\">\n",
              "    <div>\n",
              "<style scoped>\n",
              "    .dataframe tbody tr th:only-of-type {\n",
              "        vertical-align: middle;\n",
              "    }\n",
              "\n",
              "    .dataframe tbody tr th {\n",
              "        vertical-align: top;\n",
              "    }\n",
              "\n",
              "    .dataframe thead th {\n",
              "        text-align: right;\n",
              "    }\n",
              "</style>\n",
              "<table border=\"1\" class=\"dataframe\">\n",
              "  <thead>\n",
              "    <tr style=\"text-align: right;\">\n",
              "      <th></th>\n",
              "      <th>ID</th>\n",
              "      <th>Title</th>\n",
              "      <th>Year</th>\n",
              "      <th>Genres</th>\n",
              "      <th>Synopsis</th>\n",
              "      <th>Similarity</th>\n",
              "    </tr>\n",
              "  </thead>\n",
              "  <tbody>\n",
              "    <tr>\n",
              "      <th>0</th>\n",
              "      <td>2312</td>\n",
              "      <td>In the Name of the King: A Dungeon Siege Tale</td>\n",
              "      <td>2007</td>\n",
              "      <td>Adventure, Fantasy, Action, Drama</td>\n",
              "      <td>A man named Farmer sets out to rescue his kidn...</td>\n",
              "      <td>0.107033</td>\n",
              "    </tr>\n",
              "    <tr>\n",
              "      <th>1</th>\n",
              "      <td>439</td>\n",
              "      <td>La Dolce Vita</td>\n",
              "      <td>1960</td>\n",
              "      <td>Comedy, Drama</td>\n",
              "      <td>Episodic journey of an Italian journalist scou...</td>\n",
              "      <td>0.091206</td>\n",
              "    </tr>\n",
              "    <tr>\n",
              "      <th>2</th>\n",
              "      <td>383</td>\n",
              "      <td>Mala Noche</td>\n",
              "      <td>1986</td>\n",
              "      <td>Drama</td>\n",
              "      <td>Mala Noche is the film debut from director Gus...</td>\n",
              "      <td>0.084426</td>\n",
              "    </tr>\n",
              "    <tr>\n",
              "      <th>3</th>\n",
              "      <td>4808</td>\n",
              "      <td>Charade</td>\n",
              "      <td>1963</td>\n",
              "      <td>Comedy, Mystery, Romance, Thriller</td>\n",
              "      <td>After Regina Lampert falls for the dashing Pet...</td>\n",
              "      <td>0.081968</td>\n",
              "    </tr>\n",
              "    <tr>\n",
              "      <th>4</th>\n",
              "      <td>47477</td>\n",
              "      <td>The Beast</td>\n",
              "      <td>1996</td>\n",
              "      <td>Action, Drama, Horror, Thriller</td>\n",
              "      <td>Fishing and jobs are becoming scarce in the sm...</td>\n",
              "      <td>0.073958</td>\n",
              "    </tr>\n",
              "  </tbody>\n",
              "</table>\n",
              "</div>\n",
              "    <div class=\"colab-df-buttons\">\n",
              "\n",
              "  <div class=\"colab-df-container\">\n",
              "    <button class=\"colab-df-convert\" onclick=\"convertToInteractive('df-7af782f9-c5d2-43bb-b7f5-9caae3a928d6')\"\n",
              "            title=\"Convert this dataframe to an interactive table.\"\n",
              "            style=\"display:none;\">\n",
              "\n",
              "  <svg xmlns=\"http://www.w3.org/2000/svg\" height=\"24px\" viewBox=\"0 -960 960 960\">\n",
              "    <path d=\"M120-120v-720h720v720H120Zm60-500h600v-160H180v160Zm220 220h160v-160H400v160Zm0 220h160v-160H400v160ZM180-400h160v-160H180v160Zm440 0h160v-160H620v160ZM180-180h160v-160H180v160Zm440 0h160v-160H620v160Z\"/>\n",
              "  </svg>\n",
              "    </button>\n",
              "\n",
              "  <style>\n",
              "    .colab-df-container {\n",
              "      display:flex;\n",
              "      gap: 12px;\n",
              "    }\n",
              "\n",
              "    .colab-df-convert {\n",
              "      background-color: #E8F0FE;\n",
              "      border: none;\n",
              "      border-radius: 50%;\n",
              "      cursor: pointer;\n",
              "      display: none;\n",
              "      fill: #1967D2;\n",
              "      height: 32px;\n",
              "      padding: 0 0 0 0;\n",
              "      width: 32px;\n",
              "    }\n",
              "\n",
              "    .colab-df-convert:hover {\n",
              "      background-color: #E2EBFA;\n",
              "      box-shadow: 0px 1px 2px rgba(60, 64, 67, 0.3), 0px 1px 3px 1px rgba(60, 64, 67, 0.15);\n",
              "      fill: #174EA6;\n",
              "    }\n",
              "\n",
              "    .colab-df-buttons div {\n",
              "      margin-bottom: 4px;\n",
              "    }\n",
              "\n",
              "    [theme=dark] .colab-df-convert {\n",
              "      background-color: #3B4455;\n",
              "      fill: #D2E3FC;\n",
              "    }\n",
              "\n",
              "    [theme=dark] .colab-df-convert:hover {\n",
              "      background-color: #434B5C;\n",
              "      box-shadow: 0px 1px 3px 1px rgba(0, 0, 0, 0.15);\n",
              "      filter: drop-shadow(0px 1px 2px rgba(0, 0, 0, 0.3));\n",
              "      fill: #FFFFFF;\n",
              "    }\n",
              "  </style>\n",
              "\n",
              "    <script>\n",
              "      const buttonEl =\n",
              "        document.querySelector('#df-7af782f9-c5d2-43bb-b7f5-9caae3a928d6 button.colab-df-convert');\n",
              "      buttonEl.style.display =\n",
              "        google.colab.kernel.accessAllowed ? 'block' : 'none';\n",
              "\n",
              "      async function convertToInteractive(key) {\n",
              "        const element = document.querySelector('#df-7af782f9-c5d2-43bb-b7f5-9caae3a928d6');\n",
              "        const dataTable =\n",
              "          await google.colab.kernel.invokeFunction('convertToInteractive',\n",
              "                                                    [key], {});\n",
              "        if (!dataTable) return;\n",
              "\n",
              "        const docLinkHtml = 'Like what you see? Visit the ' +\n",
              "          '<a target=\"_blank\" href=https://colab.research.google.com/notebooks/data_table.ipynb>data table notebook</a>'\n",
              "          + ' to learn more about interactive tables.';\n",
              "        element.innerHTML = '';\n",
              "        dataTable['output_type'] = 'display_data';\n",
              "        await google.colab.output.renderOutput(dataTable, element);\n",
              "        const docLink = document.createElement('div');\n",
              "        docLink.innerHTML = docLinkHtml;\n",
              "        element.appendChild(docLink);\n",
              "      }\n",
              "    </script>\n",
              "  </div>\n",
              "\n",
              "\n",
              "<div id=\"df-fec5ae80-5f43-42b4-b646-1cbf912efde9\">\n",
              "  <button class=\"colab-df-quickchart\" onclick=\"quickchart('df-fec5ae80-5f43-42b4-b646-1cbf912efde9')\"\n",
              "            title=\"Suggest charts\"\n",
              "            style=\"display:none;\">\n",
              "\n",
              "<svg xmlns=\"http://www.w3.org/2000/svg\" height=\"24px\"viewBox=\"0 0 24 24\"\n",
              "     width=\"24px\">\n",
              "    <g>\n",
              "        <path d=\"M19 3H5c-1.1 0-2 .9-2 2v14c0 1.1.9 2 2 2h14c1.1 0 2-.9 2-2V5c0-1.1-.9-2-2-2zM9 17H7v-7h2v7zm4 0h-2V7h2v10zm4 0h-2v-4h2v4z\"/>\n",
              "    </g>\n",
              "</svg>\n",
              "  </button>\n",
              "\n",
              "<style>\n",
              "  .colab-df-quickchart {\n",
              "      --bg-color: #E8F0FE;\n",
              "      --fill-color: #1967D2;\n",
              "      --hover-bg-color: #E2EBFA;\n",
              "      --hover-fill-color: #174EA6;\n",
              "      --disabled-fill-color: #AAA;\n",
              "      --disabled-bg-color: #DDD;\n",
              "  }\n",
              "\n",
              "  [theme=dark] .colab-df-quickchart {\n",
              "      --bg-color: #3B4455;\n",
              "      --fill-color: #D2E3FC;\n",
              "      --hover-bg-color: #434B5C;\n",
              "      --hover-fill-color: #FFFFFF;\n",
              "      --disabled-bg-color: #3B4455;\n",
              "      --disabled-fill-color: #666;\n",
              "  }\n",
              "\n",
              "  .colab-df-quickchart {\n",
              "    background-color: var(--bg-color);\n",
              "    border: none;\n",
              "    border-radius: 50%;\n",
              "    cursor: pointer;\n",
              "    display: none;\n",
              "    fill: var(--fill-color);\n",
              "    height: 32px;\n",
              "    padding: 0;\n",
              "    width: 32px;\n",
              "  }\n",
              "\n",
              "  .colab-df-quickchart:hover {\n",
              "    background-color: var(--hover-bg-color);\n",
              "    box-shadow: 0 1px 2px rgba(60, 64, 67, 0.3), 0 1px 3px 1px rgba(60, 64, 67, 0.15);\n",
              "    fill: var(--button-hover-fill-color);\n",
              "  }\n",
              "\n",
              "  .colab-df-quickchart-complete:disabled,\n",
              "  .colab-df-quickchart-complete:disabled:hover {\n",
              "    background-color: var(--disabled-bg-color);\n",
              "    fill: var(--disabled-fill-color);\n",
              "    box-shadow: none;\n",
              "  }\n",
              "\n",
              "  .colab-df-spinner {\n",
              "    border: 2px solid var(--fill-color);\n",
              "    border-color: transparent;\n",
              "    border-bottom-color: var(--fill-color);\n",
              "    animation:\n",
              "      spin 1s steps(1) infinite;\n",
              "  }\n",
              "\n",
              "  @keyframes spin {\n",
              "    0% {\n",
              "      border-color: transparent;\n",
              "      border-bottom-color: var(--fill-color);\n",
              "      border-left-color: var(--fill-color);\n",
              "    }\n",
              "    20% {\n",
              "      border-color: transparent;\n",
              "      border-left-color: var(--fill-color);\n",
              "      border-top-color: var(--fill-color);\n",
              "    }\n",
              "    30% {\n",
              "      border-color: transparent;\n",
              "      border-left-color: var(--fill-color);\n",
              "      border-top-color: var(--fill-color);\n",
              "      border-right-color: var(--fill-color);\n",
              "    }\n",
              "    40% {\n",
              "      border-color: transparent;\n",
              "      border-right-color: var(--fill-color);\n",
              "      border-top-color: var(--fill-color);\n",
              "    }\n",
              "    60% {\n",
              "      border-color: transparent;\n",
              "      border-right-color: var(--fill-color);\n",
              "    }\n",
              "    80% {\n",
              "      border-color: transparent;\n",
              "      border-right-color: var(--fill-color);\n",
              "      border-bottom-color: var(--fill-color);\n",
              "    }\n",
              "    90% {\n",
              "      border-color: transparent;\n",
              "      border-bottom-color: var(--fill-color);\n",
              "    }\n",
              "  }\n",
              "</style>\n",
              "\n",
              "  <script>\n",
              "    async function quickchart(key) {\n",
              "      const quickchartButtonEl =\n",
              "        document.querySelector('#' + key + ' button');\n",
              "      quickchartButtonEl.disabled = true;  // To prevent multiple clicks.\n",
              "      quickchartButtonEl.classList.add('colab-df-spinner');\n",
              "      try {\n",
              "        const charts = await google.colab.kernel.invokeFunction(\n",
              "            'suggestCharts', [key], {});\n",
              "      } catch (error) {\n",
              "        console.error('Error during call to suggestCharts:', error);\n",
              "      }\n",
              "      quickchartButtonEl.classList.remove('colab-df-spinner');\n",
              "      quickchartButtonEl.classList.add('colab-df-quickchart-complete');\n",
              "    }\n",
              "    (() => {\n",
              "      let quickchartButtonEl =\n",
              "        document.querySelector('#df-fec5ae80-5f43-42b4-b646-1cbf912efde9 button');\n",
              "      quickchartButtonEl.style.display =\n",
              "        google.colab.kernel.accessAllowed ? 'block' : 'none';\n",
              "    })();\n",
              "  </script>\n",
              "</div>\n",
              "\n",
              "    </div>\n",
              "  </div>\n"
            ],
            "application/vnd.google.colaboratory.intrinsic+json": {
              "type": "dataframe",
              "summary": "{\n  \"name\": \"        print(f\\\"Usuario {user_id} no encontrado\",\n  \"rows\": 5,\n  \"fields\": [\n    {\n      \"column\": \"ID\",\n      \"properties\": {\n        \"dtype\": \"number\",\n        \"std\": 20424,\n        \"min\": 383,\n        \"max\": 47477,\n        \"num_unique_values\": 5,\n        \"samples\": [\n          439,\n          47477,\n          383\n        ],\n        \"semantic_type\": \"\",\n        \"description\": \"\"\n      }\n    },\n    {\n      \"column\": \"Title\",\n      \"properties\": {\n        \"dtype\": \"string\",\n        \"num_unique_values\": 5,\n        \"samples\": [\n          \"La Dolce Vita\",\n          \"The Beast\",\n          \"Mala Noche\"\n        ],\n        \"semantic_type\": \"\",\n        \"description\": \"\"\n      }\n    },\n    {\n      \"column\": \"Year\",\n      \"properties\": {\n        \"dtype\": \"object\",\n        \"num_unique_values\": 5,\n        \"samples\": [\n          \"1960\",\n          \"1996\",\n          \"1986\"\n        ],\n        \"semantic_type\": \"\",\n        \"description\": \"\"\n      }\n    },\n    {\n      \"column\": \"Genres\",\n      \"properties\": {\n        \"dtype\": \"string\",\n        \"num_unique_values\": 5,\n        \"samples\": [\n          \"Comedy, Drama\",\n          \"Action, Drama, Horror, Thriller\",\n          \"Drama\"\n        ],\n        \"semantic_type\": \"\",\n        \"description\": \"\"\n      }\n    },\n    {\n      \"column\": \"Synopsis\",\n      \"properties\": {\n        \"dtype\": \"string\",\n        \"num_unique_values\": 5,\n        \"samples\": [\n          \"Episodic journey of an Italian journalist scouring Rome in search of love.\",\n          \"Fishing and jobs are becoming scarce in the small seaport village of Graves Point, when mysterious deaths and unexplained disappearances begin to occur. Divers vanish and a young couple disappears at sea, their empty raft washing up on the shore. When a large, strange claw is discovered on the raft, the unsettled towns-people call on the marine biologist Dr. Herbert Talley (Ronald Guttman), who identifies it as belonging to a rare giant squid. With the help of Whip Dalton, the hunt is on! It becomes a battle of wills between Dalton and Talley as they try to locate the Beast, without the Beast getting them.\",\n          \"Mala Noche is the film debut from director Gus van Sant. The film portrays the unanswered love of an American man toward a young Mexican man.\"\n        ],\n        \"semantic_type\": \"\",\n        \"description\": \"\"\n      }\n    },\n    {\n      \"column\": \"Similarity\",\n      \"properties\": {\n        \"dtype\": \"number\",\n        \"std\": 0.012434486192044677,\n        \"min\": 0.07395830928944375,\n        \"max\": 0.10703294871574068,\n        \"num_unique_values\": 5,\n        \"samples\": [\n          0.09120632300891302,\n          0.07395830928944375,\n          0.0844261802905871\n        ],\n        \"semantic_type\": \"\",\n        \"description\": \"\"\n      }\n    }\n  ]\n}"
            }
          },
          "metadata": {}
        },
        {
          "name": "stdout",
          "output_type": "stream",
          "text": [
            "¿Consultar recomendaciones para otro usuario? (y/n): y\n",
            "Ingrese el ID del usuario: 58695\n",
            "Usuario 58695 no encontrado. Intenta de nuevo.\n",
            "Ingrese el ID del usuario: 16\n"
          ]
        },
        {
          "output_type": "display_data",
          "data": {
            "text/plain": [
              "<IPython.core.display.HTML object>"
            ],
            "text/html": [
              "<h3>Recomendaciones para el usuario 16</h3>"
            ]
          },
          "metadata": {}
        },
        {
          "output_type": "display_data",
          "data": {
            "text/plain": [
              "      ID                                          Title  Year  \\\n",
              "0   2312  In the Name of the King: A Dungeon Siege Tale  2007   \n",
              "1    439                                  La Dolce Vita  1960   \n",
              "2    383                                     Mala Noche  1986   \n",
              "3   4808                                        Charade  1963   \n",
              "4  47477                                      The Beast  1996   \n",
              "\n",
              "                               Genres  \\\n",
              "0   Adventure, Fantasy, Action, Drama   \n",
              "1                       Comedy, Drama   \n",
              "2                               Drama   \n",
              "3  Comedy, Mystery, Romance, Thriller   \n",
              "4     Action, Drama, Horror, Thriller   \n",
              "\n",
              "                                            Synopsis  Similarity  \n",
              "0  A man named Farmer sets out to rescue his kidn...    0.107033  \n",
              "1  Episodic journey of an Italian journalist scou...    0.091206  \n",
              "2  Mala Noche is the film debut from director Gus...    0.084426  \n",
              "3  After Regina Lampert falls for the dashing Pet...    0.081968  \n",
              "4  Fishing and jobs are becoming scarce in the sm...    0.073958  "
            ],
            "text/html": [
              "\n",
              "  <div id=\"df-4c955c43-6b3f-4307-a8f7-ee0375892da4\" class=\"colab-df-container\">\n",
              "    <div>\n",
              "<style scoped>\n",
              "    .dataframe tbody tr th:only-of-type {\n",
              "        vertical-align: middle;\n",
              "    }\n",
              "\n",
              "    .dataframe tbody tr th {\n",
              "        vertical-align: top;\n",
              "    }\n",
              "\n",
              "    .dataframe thead th {\n",
              "        text-align: right;\n",
              "    }\n",
              "</style>\n",
              "<table border=\"1\" class=\"dataframe\">\n",
              "  <thead>\n",
              "    <tr style=\"text-align: right;\">\n",
              "      <th></th>\n",
              "      <th>ID</th>\n",
              "      <th>Title</th>\n",
              "      <th>Year</th>\n",
              "      <th>Genres</th>\n",
              "      <th>Synopsis</th>\n",
              "      <th>Similarity</th>\n",
              "    </tr>\n",
              "  </thead>\n",
              "  <tbody>\n",
              "    <tr>\n",
              "      <th>0</th>\n",
              "      <td>2312</td>\n",
              "      <td>In the Name of the King: A Dungeon Siege Tale</td>\n",
              "      <td>2007</td>\n",
              "      <td>Adventure, Fantasy, Action, Drama</td>\n",
              "      <td>A man named Farmer sets out to rescue his kidn...</td>\n",
              "      <td>0.107033</td>\n",
              "    </tr>\n",
              "    <tr>\n",
              "      <th>1</th>\n",
              "      <td>439</td>\n",
              "      <td>La Dolce Vita</td>\n",
              "      <td>1960</td>\n",
              "      <td>Comedy, Drama</td>\n",
              "      <td>Episodic journey of an Italian journalist scou...</td>\n",
              "      <td>0.091206</td>\n",
              "    </tr>\n",
              "    <tr>\n",
              "      <th>2</th>\n",
              "      <td>383</td>\n",
              "      <td>Mala Noche</td>\n",
              "      <td>1986</td>\n",
              "      <td>Drama</td>\n",
              "      <td>Mala Noche is the film debut from director Gus...</td>\n",
              "      <td>0.084426</td>\n",
              "    </tr>\n",
              "    <tr>\n",
              "      <th>3</th>\n",
              "      <td>4808</td>\n",
              "      <td>Charade</td>\n",
              "      <td>1963</td>\n",
              "      <td>Comedy, Mystery, Romance, Thriller</td>\n",
              "      <td>After Regina Lampert falls for the dashing Pet...</td>\n",
              "      <td>0.081968</td>\n",
              "    </tr>\n",
              "    <tr>\n",
              "      <th>4</th>\n",
              "      <td>47477</td>\n",
              "      <td>The Beast</td>\n",
              "      <td>1996</td>\n",
              "      <td>Action, Drama, Horror, Thriller</td>\n",
              "      <td>Fishing and jobs are becoming scarce in the sm...</td>\n",
              "      <td>0.073958</td>\n",
              "    </tr>\n",
              "  </tbody>\n",
              "</table>\n",
              "</div>\n",
              "    <div class=\"colab-df-buttons\">\n",
              "\n",
              "  <div class=\"colab-df-container\">\n",
              "    <button class=\"colab-df-convert\" onclick=\"convertToInteractive('df-4c955c43-6b3f-4307-a8f7-ee0375892da4')\"\n",
              "            title=\"Convert this dataframe to an interactive table.\"\n",
              "            style=\"display:none;\">\n",
              "\n",
              "  <svg xmlns=\"http://www.w3.org/2000/svg\" height=\"24px\" viewBox=\"0 -960 960 960\">\n",
              "    <path d=\"M120-120v-720h720v720H120Zm60-500h600v-160H180v160Zm220 220h160v-160H400v160Zm0 220h160v-160H400v160ZM180-400h160v-160H180v160Zm440 0h160v-160H620v160ZM180-180h160v-160H180v160Zm440 0h160v-160H620v160Z\"/>\n",
              "  </svg>\n",
              "    </button>\n",
              "\n",
              "  <style>\n",
              "    .colab-df-container {\n",
              "      display:flex;\n",
              "      gap: 12px;\n",
              "    }\n",
              "\n",
              "    .colab-df-convert {\n",
              "      background-color: #E8F0FE;\n",
              "      border: none;\n",
              "      border-radius: 50%;\n",
              "      cursor: pointer;\n",
              "      display: none;\n",
              "      fill: #1967D2;\n",
              "      height: 32px;\n",
              "      padding: 0 0 0 0;\n",
              "      width: 32px;\n",
              "    }\n",
              "\n",
              "    .colab-df-convert:hover {\n",
              "      background-color: #E2EBFA;\n",
              "      box-shadow: 0px 1px 2px rgba(60, 64, 67, 0.3), 0px 1px 3px 1px rgba(60, 64, 67, 0.15);\n",
              "      fill: #174EA6;\n",
              "    }\n",
              "\n",
              "    .colab-df-buttons div {\n",
              "      margin-bottom: 4px;\n",
              "    }\n",
              "\n",
              "    [theme=dark] .colab-df-convert {\n",
              "      background-color: #3B4455;\n",
              "      fill: #D2E3FC;\n",
              "    }\n",
              "\n",
              "    [theme=dark] .colab-df-convert:hover {\n",
              "      background-color: #434B5C;\n",
              "      box-shadow: 0px 1px 3px 1px rgba(0, 0, 0, 0.15);\n",
              "      filter: drop-shadow(0px 1px 2px rgba(0, 0, 0, 0.3));\n",
              "      fill: #FFFFFF;\n",
              "    }\n",
              "  </style>\n",
              "\n",
              "    <script>\n",
              "      const buttonEl =\n",
              "        document.querySelector('#df-4c955c43-6b3f-4307-a8f7-ee0375892da4 button.colab-df-convert');\n",
              "      buttonEl.style.display =\n",
              "        google.colab.kernel.accessAllowed ? 'block' : 'none';\n",
              "\n",
              "      async function convertToInteractive(key) {\n",
              "        const element = document.querySelector('#df-4c955c43-6b3f-4307-a8f7-ee0375892da4');\n",
              "        const dataTable =\n",
              "          await google.colab.kernel.invokeFunction('convertToInteractive',\n",
              "                                                    [key], {});\n",
              "        if (!dataTable) return;\n",
              "\n",
              "        const docLinkHtml = 'Like what you see? Visit the ' +\n",
              "          '<a target=\"_blank\" href=https://colab.research.google.com/notebooks/data_table.ipynb>data table notebook</a>'\n",
              "          + ' to learn more about interactive tables.';\n",
              "        element.innerHTML = '';\n",
              "        dataTable['output_type'] = 'display_data';\n",
              "        await google.colab.output.renderOutput(dataTable, element);\n",
              "        const docLink = document.createElement('div');\n",
              "        docLink.innerHTML = docLinkHtml;\n",
              "        element.appendChild(docLink);\n",
              "      }\n",
              "    </script>\n",
              "  </div>\n",
              "\n",
              "\n",
              "<div id=\"df-cf017263-08e2-4c6d-9ec1-36d1da80e831\">\n",
              "  <button class=\"colab-df-quickchart\" onclick=\"quickchart('df-cf017263-08e2-4c6d-9ec1-36d1da80e831')\"\n",
              "            title=\"Suggest charts\"\n",
              "            style=\"display:none;\">\n",
              "\n",
              "<svg xmlns=\"http://www.w3.org/2000/svg\" height=\"24px\"viewBox=\"0 0 24 24\"\n",
              "     width=\"24px\">\n",
              "    <g>\n",
              "        <path d=\"M19 3H5c-1.1 0-2 .9-2 2v14c0 1.1.9 2 2 2h14c1.1 0 2-.9 2-2V5c0-1.1-.9-2-2-2zM9 17H7v-7h2v7zm4 0h-2V7h2v10zm4 0h-2v-4h2v4z\"/>\n",
              "    </g>\n",
              "</svg>\n",
              "  </button>\n",
              "\n",
              "<style>\n",
              "  .colab-df-quickchart {\n",
              "      --bg-color: #E8F0FE;\n",
              "      --fill-color: #1967D2;\n",
              "      --hover-bg-color: #E2EBFA;\n",
              "      --hover-fill-color: #174EA6;\n",
              "      --disabled-fill-color: #AAA;\n",
              "      --disabled-bg-color: #DDD;\n",
              "  }\n",
              "\n",
              "  [theme=dark] .colab-df-quickchart {\n",
              "      --bg-color: #3B4455;\n",
              "      --fill-color: #D2E3FC;\n",
              "      --hover-bg-color: #434B5C;\n",
              "      --hover-fill-color: #FFFFFF;\n",
              "      --disabled-bg-color: #3B4455;\n",
              "      --disabled-fill-color: #666;\n",
              "  }\n",
              "\n",
              "  .colab-df-quickchart {\n",
              "    background-color: var(--bg-color);\n",
              "    border: none;\n",
              "    border-radius: 50%;\n",
              "    cursor: pointer;\n",
              "    display: none;\n",
              "    fill: var(--fill-color);\n",
              "    height: 32px;\n",
              "    padding: 0;\n",
              "    width: 32px;\n",
              "  }\n",
              "\n",
              "  .colab-df-quickchart:hover {\n",
              "    background-color: var(--hover-bg-color);\n",
              "    box-shadow: 0 1px 2px rgba(60, 64, 67, 0.3), 0 1px 3px 1px rgba(60, 64, 67, 0.15);\n",
              "    fill: var(--button-hover-fill-color);\n",
              "  }\n",
              "\n",
              "  .colab-df-quickchart-complete:disabled,\n",
              "  .colab-df-quickchart-complete:disabled:hover {\n",
              "    background-color: var(--disabled-bg-color);\n",
              "    fill: var(--disabled-fill-color);\n",
              "    box-shadow: none;\n",
              "  }\n",
              "\n",
              "  .colab-df-spinner {\n",
              "    border: 2px solid var(--fill-color);\n",
              "    border-color: transparent;\n",
              "    border-bottom-color: var(--fill-color);\n",
              "    animation:\n",
              "      spin 1s steps(1) infinite;\n",
              "  }\n",
              "\n",
              "  @keyframes spin {\n",
              "    0% {\n",
              "      border-color: transparent;\n",
              "      border-bottom-color: var(--fill-color);\n",
              "      border-left-color: var(--fill-color);\n",
              "    }\n",
              "    20% {\n",
              "      border-color: transparent;\n",
              "      border-left-color: var(--fill-color);\n",
              "      border-top-color: var(--fill-color);\n",
              "    }\n",
              "    30% {\n",
              "      border-color: transparent;\n",
              "      border-left-color: var(--fill-color);\n",
              "      border-top-color: var(--fill-color);\n",
              "      border-right-color: var(--fill-color);\n",
              "    }\n",
              "    40% {\n",
              "      border-color: transparent;\n",
              "      border-right-color: var(--fill-color);\n",
              "      border-top-color: var(--fill-color);\n",
              "    }\n",
              "    60% {\n",
              "      border-color: transparent;\n",
              "      border-right-color: var(--fill-color);\n",
              "    }\n",
              "    80% {\n",
              "      border-color: transparent;\n",
              "      border-right-color: var(--fill-color);\n",
              "      border-bottom-color: var(--fill-color);\n",
              "    }\n",
              "    90% {\n",
              "      border-color: transparent;\n",
              "      border-bottom-color: var(--fill-color);\n",
              "    }\n",
              "  }\n",
              "</style>\n",
              "\n",
              "  <script>\n",
              "    async function quickchart(key) {\n",
              "      const quickchartButtonEl =\n",
              "        document.querySelector('#' + key + ' button');\n",
              "      quickchartButtonEl.disabled = true;  // To prevent multiple clicks.\n",
              "      quickchartButtonEl.classList.add('colab-df-spinner');\n",
              "      try {\n",
              "        const charts = await google.colab.kernel.invokeFunction(\n",
              "            'suggestCharts', [key], {});\n",
              "      } catch (error) {\n",
              "        console.error('Error during call to suggestCharts:', error);\n",
              "      }\n",
              "      quickchartButtonEl.classList.remove('colab-df-spinner');\n",
              "      quickchartButtonEl.classList.add('colab-df-quickchart-complete');\n",
              "    }\n",
              "    (() => {\n",
              "      let quickchartButtonEl =\n",
              "        document.querySelector('#df-cf017263-08e2-4c6d-9ec1-36d1da80e831 button');\n",
              "      quickchartButtonEl.style.display =\n",
              "        google.colab.kernel.accessAllowed ? 'block' : 'none';\n",
              "    })();\n",
              "  </script>\n",
              "</div>\n",
              "\n",
              "    </div>\n",
              "  </div>\n"
            ],
            "application/vnd.google.colaboratory.intrinsic+json": {
              "type": "dataframe",
              "summary": "{\n  \"name\": \"        print(f\\\"Usuario {user_id} no encontrado\",\n  \"rows\": 5,\n  \"fields\": [\n    {\n      \"column\": \"ID\",\n      \"properties\": {\n        \"dtype\": \"number\",\n        \"std\": 20424,\n        \"min\": 383,\n        \"max\": 47477,\n        \"num_unique_values\": 5,\n        \"samples\": [\n          439,\n          47477,\n          383\n        ],\n        \"semantic_type\": \"\",\n        \"description\": \"\"\n      }\n    },\n    {\n      \"column\": \"Title\",\n      \"properties\": {\n        \"dtype\": \"string\",\n        \"num_unique_values\": 5,\n        \"samples\": [\n          \"La Dolce Vita\",\n          \"The Beast\",\n          \"Mala Noche\"\n        ],\n        \"semantic_type\": \"\",\n        \"description\": \"\"\n      }\n    },\n    {\n      \"column\": \"Year\",\n      \"properties\": {\n        \"dtype\": \"object\",\n        \"num_unique_values\": 5,\n        \"samples\": [\n          \"1960\",\n          \"1996\",\n          \"1986\"\n        ],\n        \"semantic_type\": \"\",\n        \"description\": \"\"\n      }\n    },\n    {\n      \"column\": \"Genres\",\n      \"properties\": {\n        \"dtype\": \"string\",\n        \"num_unique_values\": 5,\n        \"samples\": [\n          \"Comedy, Drama\",\n          \"Action, Drama, Horror, Thriller\",\n          \"Drama\"\n        ],\n        \"semantic_type\": \"\",\n        \"description\": \"\"\n      }\n    },\n    {\n      \"column\": \"Synopsis\",\n      \"properties\": {\n        \"dtype\": \"string\",\n        \"num_unique_values\": 5,\n        \"samples\": [\n          \"Episodic journey of an Italian journalist scouring Rome in search of love.\",\n          \"Fishing and jobs are becoming scarce in the small seaport village of Graves Point, when mysterious deaths and unexplained disappearances begin to occur. Divers vanish and a young couple disappears at sea, their empty raft washing up on the shore. When a large, strange claw is discovered on the raft, the unsettled towns-people call on the marine biologist Dr. Herbert Talley (Ronald Guttman), who identifies it as belonging to a rare giant squid. With the help of Whip Dalton, the hunt is on! It becomes a battle of wills between Dalton and Talley as they try to locate the Beast, without the Beast getting them.\",\n          \"Mala Noche is the film debut from director Gus van Sant. The film portrays the unanswered love of an American man toward a young Mexican man.\"\n        ],\n        \"semantic_type\": \"\",\n        \"description\": \"\"\n      }\n    },\n    {\n      \"column\": \"Similarity\",\n      \"properties\": {\n        \"dtype\": \"number\",\n        \"std\": 0.012434486192044677,\n        \"min\": 0.07395830928944375,\n        \"max\": 0.10703294871574068,\n        \"num_unique_values\": 5,\n        \"samples\": [\n          0.09120632300891302,\n          0.07395830928944375,\n          0.0844261802905871\n        ],\n        \"semantic_type\": \"\",\n        \"description\": \"\"\n      }\n    }\n  ]\n}"
            }
          },
          "metadata": {}
        }
      ]
    },
    {
      "cell_type": "markdown",
      "metadata": {
        "id": "SBsURbFETNXs"
      },
      "source": [
        "# Conclusiones"
      ]
    }
  ],
  "metadata": {
    "colab": {
      "provenance": []
    },
    "kernelspec": {
      "display_name": "Python 3",
      "name": "python3"
    },
    "language_info": {
      "name": "python"
    }
  },
  "nbformat": 4,
  "nbformat_minor": 0
}